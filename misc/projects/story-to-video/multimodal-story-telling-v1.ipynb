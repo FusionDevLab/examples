{
 "cells": [
  {
   "cell_type": "markdown",
   "id": "57b08354-812d-4ccf-a9bb-f217904c45b1",
   "metadata": {
    "jp-MarkdownHeadingCollapsed": true
   },
   "source": [
    "# Setup"
   ]
  },
  {
   "cell_type": "code",
   "execution_count": 1,
   "id": "fdef9247-f884-4a58-b93f-d21a0eda424e",
   "metadata": {},
   "outputs": [],
   "source": [
    "import logging\n",
    "logger = logging.getLogger(__name__)\n",
    "logging.basicConfig(level=logging.INFO)"
   ]
  },
  {
   "cell_type": "code",
   "execution_count": 2,
   "id": "44b757fa-6ab1-4952-a616-4d43b4f51b1f",
   "metadata": {},
   "outputs": [
    {
     "name": "stdin",
     "output_type": "stream",
     "text": [
      "Enter your OpenAI API key:  ········\n"
     ]
    }
   ],
   "source": [
    "# take openai key as input secret\n",
    "import getpass\n",
    "openai_key = getpass.getpass(\"Enter your OpenAI API key: \")"
   ]
  },
  {
   "cell_type": "code",
   "execution_count": 3,
   "id": "b9ec5fe5-3e8c-4bfb-8914-3c3b0ecace73",
   "metadata": {},
   "outputs": [],
   "source": [
    "import os\n",
    "os.environ[\"OPENAI_API_KEY\"] = openai_key"
   ]
  },
  {
   "cell_type": "markdown",
   "id": "d3716205-a09f-4d32-b7e3-edeb4b1886a0",
   "metadata": {
    "jp-MarkdownHeadingCollapsed": true
   },
   "source": [
    "# Read Your Story"
   ]
  },
  {
   "cell_type": "code",
   "execution_count": 4,
   "id": "0eae9690-fec7-4e73-94e8-07d5a93a5b26",
   "metadata": {},
   "outputs": [
    {
     "name": "stderr",
     "output_type": "stream",
     "text": [
      "INFO:__main__:Files in data directory: ['0.txt', '1.txt', '2.txt', '3.txt']\n",
      "INFO:__main__:Read 4 parts from the story files.\n"
     ]
    }
   ],
   "source": [
    "import os\n",
    "from pathlib import Path\n",
    "data_dir = Path(os.getcwd()) / \"data\" / \"0\"\n",
    "parts = []\n",
    "files = [f for f in os.listdir(data_dir) if f.endswith('.txt')]\n",
    "logger.info(f\"Files in data directory: {files}\")\n",
    "for f in files:\n",
    "    with open(data_dir / f, 'r', encoding='utf8') as file:\n",
    "        content = file.read()\n",
    "        parts.append(content)\n",
    "logger.info(f\"Read {len(parts)} parts from the story files.\")\n"
   ]
  },
  {
   "cell_type": "code",
   "execution_count": 5,
   "id": "84e105ad-cfb5-46e5-99d7-c1eb1a44ae3e",
   "metadata": {},
   "outputs": [
    {
     "data": {
      "text/plain": [
       "'The Arrival\\nIt was past 8:00 PM when Riya, Kabir, and Mehul entered the silent city of Bansipur.\\nA faint mist curled along the cracked roads, the streetlamps flickering as if unsure they wanted to stay lit.\\nThey had been driving for hours, lost after taking a wrong turn from the highway. Fuel gauge—dangerously low.\\nBansipur looked deserted, except for one building at the end of the main road:\\na bright, glowing sign that read “Mehta Super Mart – Always Open.”\\nRiya gave a nervous laugh.\\n“Creepy or not, we need snacks. And water. And… maybe a map.”\\nThey parked, the sound of their car engine echoing too loudly in the empty street.\\nThe sliding doors of the supermarket opened with a slow hiss, though no one stood behind the counter.\\nInside, the air was too cold for summer.\\nThe lights buzzed overhead, but the aisles were perfectly stocked—cereal boxes lined like soldiers, canned goods gleaming, fruits unnaturally shiny.\\nMehul called out, “Hello? Anyone here?”\\nOnly the sound of the automatic doors sighing shut behind them replied.\\n'"
      ]
     },
     "execution_count": 5,
     "metadata": {},
     "output_type": "execute_result"
    }
   ],
   "source": [
    "parts[1]"
   ]
  },
  {
   "cell_type": "markdown",
   "id": "6922a11c-0bde-48cb-abab-a640fe69dc1f",
   "metadata": {
    "jp-MarkdownHeadingCollapsed": true
   },
   "source": [
    "# Scenes Creation"
   ]
  },
  {
   "cell_type": "code",
   "execution_count": 23,
   "id": "6fd44946-600c-4d9a-baea-03c3bd78ee42",
   "metadata": {},
   "outputs": [],
   "source": [
    "prompt = \"\"\"\n",
    "You are a YouTube Shorts storyboard generator, cinematic scene visual prompt writer, and animation planner.\n",
    "\n",
    "I will give you a story.  \n",
    "Your task is to split it into coherent scenes for a short vertical video (9:16 aspect ratio) and ensure narration, visuals, and motion match **exactly**.\n",
    "\n",
    "---\n",
    "\n",
    "## Scene Planning Rules\n",
    "- **Scene chunking:** End a scene whenever the location, main subject, or time changes. Never mix two locations or actions in one scene.\n",
    "- **Narration timing:** \n",
    "  - Target total video duration: {target_duration_sec} seconds\n",
    "  - Narration pace: {words_per_second} words/sec\n",
    "  - Each scene duration: 6–12 seconds\n",
    "- **Continuity:** Narration and visuals must represent the *same* moment in time.\n",
    "- **Perspective:** Visual prompts must always specify the exact camera POV (e.g., “point-of-view from driver’s seat,” “over-the-shoulder from Riya,” “low-angle looking up at supermarket sign”).\n",
    "- **Sound:** Narration output must also suggest background music or ambient sound effects that match the mood.\n",
    "- **Consistency:** Characters, props, vehicles, and environment must remain visually consistent across all scenes unless narration explicitly changes them.\n",
    "- **Aspect Ratio:** Always assume vertical 9:16 framing.\n",
    "\n",
    "---\n",
    "\n",
    "## Visual Prompt Requirements\n",
    "Each `visual_prompt` MUST be structured into **three layers**:\n",
    "\n",
    "- **Foreground (in-frame, closest to viewer):** e.g., dashboard fuel gauge, character’s hand, weapon, face.  \n",
    "- **Midground (main subject/action):** e.g., characters walking, car interior, main interaction.  \n",
    "- **Background (environment/context):** e.g., supermarket sign, skyline, mountains, horizon.  \n",
    "\n",
    "Rules:\n",
    "- If a layer is not present, explicitly state: **“None.”**\n",
    "- Always anchor the camera POV (driver’s seat view, over-the-shoulder, low-angle, bird’s-eye, etc.).\n",
    "- For text on signs, posters, or screens, specify: **“in-frame, clear, sharp, legible text displaying EXACTLY: ‘YOUR TEXT HERE’.”**\n",
    "- Include cinematic style (ultra-realistic, anime, film noir, etc.).\n",
    "- Define lighting (golden hour, neon glow, candlelight, etc.).\n",
    "- Specify camera angle and lens type.\n",
    "- Describe colors and mood (gritty, vibrant, muted, pastel, etc.).\n",
    "- Mention textures and atmospheric details (mist, rain, dust, sparks, lens flare).\n",
    "- Add time of day and weather if relevant.\n",
    "- Optionally reference artistic styles (photographer, painter, director).\n",
    "\n",
    "---\n",
    "\n",
    "## Animation Planning\n",
    "For each scene, pick the most suitable animation type based on the visual structure:\n",
    "\n",
    "- **Ken Burns:** Slow zoom/pan for close-up or still images.\n",
    "- **Parallax:** For layered depth (foreground/midground/background separation).\n",
    "- **Cinemagraph:** For subtle looping elements (flickering lights, mist, fire, rain).\n",
    "- **Dolly Zoom / Push In / Pan:** For dramatic tension or reveals.\n",
    "- **Static:** For moments meant to feel still and frozen.\n",
    "\n",
    "---\n",
    "\n",
    "## Output\n",
    "Return a valid JSON object with the following keys:\n",
    "\n",
    "- `profile` (object) with:\n",
    "  - `geographic_location`: {{ \"country\": str, \"specific_location\": str }}\n",
    "  - `time_period`: {{ \"era\": str, \"time_of_day\": str }}\n",
    "  - `weather`: {{ \"condition\": str, \"details\": str }}\n",
    "  - `ethnicity`: str\n",
    "  - `mood`: str\n",
    "  - `characters`: list of objects with:\n",
    "    - `name`: str (or \"Unnamed\" if not specified)\n",
    "    - `role`: str (hero, narrator, bystander, etc.)\n",
    "    - `visual_features`: str (clothing, hair, build, etc.)\n",
    "    - `psychological_features`: str (personality, emotions, motivations)\n",
    "\n",
    "- `scenes`: array of objects, each containing:\n",
    "  - `scene_index` (int): Scene number starting at 0.\n",
    "  - `narration_text` (str): Voiceover narration.\n",
    "  - `subtitle_text` (str): Short text (≤12 words) for on-screen subtitle.\n",
    "  - `visual_prompt` (str): Cinematic AI description, strictly layered:\n",
    "        Foreground: ...\n",
    "        Midground: ...\n",
    "        Background: ...\n",
    "        (plus cinematic style, lighting, camera POV, colors, textures, etc.)\n",
    "  - `background_music` (str): Suggested BGM/ambient sound.\n",
    "  - `animation_type` (str): One of [\"Ken Burns\", \"Parallax\", \"Cinemagraph\", \"Dolly Zoom\", \"Static\"].\n",
    "  - `duration_sec` (int): Scene length in seconds.\n",
    "\n",
    "---\n",
    "\n",
    "Story:\n",
    "{story_text}\n",
    "\n",
    "\"\"\""
   ]
  },
  {
   "cell_type": "code",
   "execution_count": 24,
   "id": "e074ac51-c8dc-4dc5-9c5e-69b73fa9a1e9",
   "metadata": {},
   "outputs": [],
   "source": [
    "from langchain_core.prompts import ChatPromptTemplate, MessagesPlaceholder\n",
    "template = ChatPromptTemplate.from_template(prompt)"
   ]
  },
  {
   "cell_type": "code",
   "execution_count": 25,
   "id": "8a47b86e-cc11-4bf1-93fa-48052323dbb0",
   "metadata": {},
   "outputs": [],
   "source": [
    "from pydantic import BaseModel, Field\n",
    "from typing import List, Optional\n",
    "\n",
    "class GeographicLocation(BaseModel):\n",
    "    country: Optional[str] = Field(None, description=\"Likely country where the story takes place\")\n",
    "    specific_location: Optional[str] = Field(None, description=\"Specific setting of the story\")\n",
    "\n",
    "class TimePeriod(BaseModel):\n",
    "    era: Optional[str] = Field(None, description=\"Era or historical context\")\n",
    "    time_of_day: Optional[str] = Field(None, description=\"Time of day in which the story occurs\")\n",
    "\n",
    "class Weather(BaseModel):\n",
    "    condition: Optional[str] = Field(None, description=\"Weather condition (rainy, sunny, snowy)\")\n",
    "    details: Optional[str] = Field(None, description=\"Extra weather details (mist, storm, clear sky)\")\n",
    "\n",
    "class Character(BaseModel):\n",
    "    name: str = Field(..., description=\"Character name or 'Unnamed'\")\n",
    "    role: str = Field(..., description=\"Role in the story (hero, bystander, narrator)\")\n",
    "    visual_features: Optional[str] = Field(None, description=\"Appearance and clothing\")\n",
    "    psychological_features: Optional[str] = Field(None, description=\"Personality and emotions\")\n",
    "\n",
    "class Profile(BaseModel):\n",
    "    geographic_location: GeographicLocation\n",
    "    time_period: TimePeriod\n",
    "    weather: Weather\n",
    "    ethnicity: Optional[str] = Field(None, description=\"Ethnicity of main characters if implied\")\n",
    "    mood: Optional[str] = Field(None, description=\"Overall mood or tone of the scenes\")\n",
    "    characters: List[Character] = Field(default_factory=list, description=\"List of main characters\")\n",
    "\n",
    "class Scene(BaseModel):\n",
    "    scene_index: int\n",
    "    narration_text: str\n",
    "    subtitle_text: str\n",
    "    visual_prompt: str\n",
    "    background_music: str\n",
    "    animation_type: str\n",
    "    duration_sec: int\n",
    "\n",
    "class StoryBoard(BaseModel):\n",
    "    profile: Profile\n",
    "    scenes: List[Scene]"
   ]
  },
  {
   "cell_type": "code",
   "execution_count": 26,
   "id": "9abba26b-c33d-4cbe-bfc5-f906a74d6bfd",
   "metadata": {},
   "outputs": [],
   "source": [
    "from langchain_openai import ChatOpenAI\n",
    "llm = ChatOpenAI(\n",
    "    model=\"gpt-4o\",\n",
    "    temperature=0.2,\n",
    "    openai_api_key=openai_key,\n",
    ")\n",
    "\n",
    "llm = llm.with_structured_output(StoryBoard)  # Enable structured output for Scenes model"
   ]
  },
  {
   "cell_type": "code",
   "execution_count": 27,
   "id": "d7356eff-9357-4b79-b46d-402344e8ec06",
   "metadata": {},
   "outputs": [],
   "source": [
    "chain = template | llm"
   ]
  },
  {
   "cell_type": "code",
   "execution_count": 28,
   "id": "0e06a2cc-8986-49f9-81a2-2d3ab524cd7a",
   "metadata": {},
   "outputs": [
    {
     "name": "stderr",
     "output_type": "stream",
     "text": [
      "INFO:httpx:HTTP Request: POST https://api.openai.com/v1/chat/completions \"HTTP/1.1 200 OK\"\n"
     ]
    }
   ],
   "source": [
    "result = chain.invoke({\n",
    "    \"story_text\": \"\\n\\n\".join(parts),\n",
    "    \"target_duration_sec\": 60,\n",
    "    \"words_per_second\": 3\n",
    "})\n"
   ]
  },
  {
   "cell_type": "code",
   "execution_count": 29,
   "id": "d21a1a52-cc08-4d4f-9d87-a7cfb890cbac",
   "metadata": {},
   "outputs": [
    {
     "data": {
      "text/plain": [
       "11"
      ]
     },
     "execution_count": 29,
     "metadata": {},
     "output_type": "execute_result"
    }
   ],
   "source": [
    "len(result.scenes)"
   ]
  },
  {
   "cell_type": "code",
   "execution_count": 30,
   "id": "68f8c07d-549f-4eaa-8c25-3ac30cffef72",
   "metadata": {},
   "outputs": [
    {
     "data": {
      "text/plain": [
       "Profile(geographic_location=GeographicLocation(country='India', specific_location='Bansipur'), time_period=TimePeriod(era='Contemporary', time_of_day='Night'), weather=Weather(condition='Misty', details='Faint mist curling along the roads'), ethnicity='South Asian', mood='Eerie and suspenseful', characters=[Character(name='Riya', role='Hero', visual_features='Long black hair, wearing a denim jacket and jeans', psychological_features='Cautious, slightly nervous but determined'), Character(name='Kabir', role='Hero', visual_features='Short hair, wearing a hoodie and cargo pants', psychological_features='Observant, slightly skeptical'), Character(name='Mehul', role='Hero', visual_features='Curly hair, wearing a t-shirt and backpack', psychological_features='Curious, slightly anxious')])"
      ]
     },
     "execution_count": 30,
     "metadata": {},
     "output_type": "execute_result"
    }
   ],
   "source": [
    "result.profile"
   ]
  },
  {
   "cell_type": "code",
   "execution_count": 31,
   "id": "42cca304-20d6-4ea5-8aca-9b673c4117e8",
   "metadata": {},
   "outputs": [
    {
     "data": {
      "text/plain": [
       "[Scene(scene_index=0, narration_text='It was past 8:00 PM when Riya, Kabir, and Mehul entered the silent city of Bansipur. A faint mist curled along the cracked roads, the streetlamps flickering as if unsure they wanted to stay lit.', subtitle_text='Entering Bansipur at 8:00 PM.', visual_prompt='Foreground: Dashboard fuel gauge showing low fuel. Midground: Riya, Kabir, and Mehul in the car, looking out the window. Background: Misty roads with flickering streetlamps. Cinematic style: Ultra-realistic. Lighting: Dim, with streetlamp flickers. Camera POV: Over-the-shoulder from Riya. Colors: Muted, with a hint of orange from streetlights. Textures: Mist and cracked roads. Time of day: Night.', background_music='Eerie ambient tones with distant car engine hum.', animation_type='Parallax', duration_sec=10),\n",
       " Scene(scene_index=1, narration_text=\"They had been driving for hours, lost after taking a wrong turn from the highway. Fuel gauge—dangerously low. Bansipur looked deserted, except for one building at the end of the main road: a bright, glowing sign that read 'Mehta Super Mart – Always Open.'\", subtitle_text='Lost and low on fuel.', visual_prompt=\"Foreground: None. Midground: Car parked with Riya, Kabir, and Mehul looking at the supermarket. Background: Bright, glowing sign of 'Mehta Super Mart – Always Open.' Cinematic style: Film noir. Lighting: Neon glow from the sign. Camera POV: Low-angle looking up at the sign. Colors: Vibrant neon against a dark backdrop. Textures: Wet road reflecting the neon light.\", background_music='Suspenseful synth with a low drone.', animation_type='Ken Burns', duration_sec=8),\n",
       " Scene(scene_index=2, narration_text=\"Riya gave a nervous laugh. 'Creepy or not, we need snacks. And water. And… maybe a map.' They parked, the sound of their car engine echoing too loudly in the empty street.\", subtitle_text=\"'We need snacks and a map.'\", visual_prompt=\"Foreground: Riya's hand on the car door handle. Midground: Riya, Kabir, and Mehul exiting the car. Background: Empty street with echoes of their car engine. Cinematic style: Ultra-realistic. Lighting: Streetlamp glow. Camera POV: Over-the-shoulder from Kabir. Colors: Muted with a hint of yellow. Textures: Echoing street.\", background_music='Soft, eerie piano notes.', animation_type='Static', duration_sec=6),\n",
       " Scene(scene_index=3, narration_text='The sliding doors of the supermarket opened with a slow hiss, though no one stood behind the counter. Inside, the air was too cold for summer. The lights buzzed overhead, but the aisles were perfectly stocked—cereal boxes lined like soldiers, canned goods gleaming, fruits unnaturally shiny.', subtitle_text='Inside the eerily stocked supermarket.', visual_prompt='Foreground: None. Midground: Riya, Kabir, and Mehul entering the supermarket. Background: Aisles with perfectly stocked goods. Cinematic style: Ultra-realistic. Lighting: Fluorescent buzz. Camera POV: Wide-angle from entrance. Colors: Bright but cold. Textures: Shiny, reflective surfaces.', background_music='Buzzing fluorescent lights with a low hum.', animation_type='Parallax', duration_sec=10),\n",
       " Scene(scene_index=4, narration_text=\"Mehul called out, 'Hello? Anyone here?' Only the sound of the automatic doors sighing shut behind them replied.\", subtitle_text=\"'Hello? Anyone here?'\", visual_prompt='Foreground: None. Midground: Mehul standing in the aisle, calling out. Background: Automatic doors closing behind. Cinematic style: Ultra-realistic. Lighting: Dim, with flickering lights. Camera POV: Over-the-shoulder from Mehul. Colors: Muted with shadows. Textures: Cold, sterile aisles.', background_music='Echoing silence with distant door hiss.', animation_type='Cinemagraph', duration_sec=6),\n",
       " Scene(scene_index=5, narration_text=\"They walked toward the back, looking for a cashier, when Kabir noticed a sign: 'More items downstairs →' A narrow staircase led downward, lit by a single dangling bulb.\", subtitle_text=\"'More items downstairs →'\", visual_prompt='Foreground: None. Midground: Kabir pointing at the sign. Background: Narrow staircase with a single bulb. Cinematic style: Film noir. Lighting: Dim, with a single bulb glow. Camera POV: Over-the-shoulder from Riya. Colors: Dark with a warm bulb glow. Textures: Dusty, creaky steps.', background_music='Tense strings with a low heartbeat rhythm.', animation_type='Ken Burns', duration_sec=8),\n",
       " Scene(scene_index=6, narration_text=\"The steps creaked under their feet. The air smelled of something damp and metallic. They reached the bottom—only to find another sign: 'More items downstairs →'\", subtitle_text='Endless stairs...', visual_prompt='Foreground: None. Midground: Riya, Kabir, and Mehul on the staircase. Background: Another sign with the same message. Cinematic style: Ultra-realistic. Lighting: Dim, with shadows. Camera POV: Over-the-shoulder from Mehul. Colors: Dark with a hint of red. Textures: Damp, metallic smell.', background_music='Echoing footsteps with a metallic clang.', animation_type='Parallax', duration_sec=10),\n",
       " Scene(scene_index=7, narration_text='The walls seemed closer. The air, heavier. They tried running up, running down, skipping steps, even counting—but the count never ended. Every landing led to the same staircase, the same buzzing bulb, the same damp smell.', subtitle_text='Trapped in a loop.', visual_prompt=\"Foreground: None. Midground: Riya, Kabir, and Mehul running up and down the stairs. Background: Repeating staircase with buzzing bulb. Cinematic style: Ultra-realistic. Lighting: Flickering bulb. Camera POV: Bird's-eye view. Colors: Dark with flickering light. Textures: Repetitive, claustrophobic.\", background_music='Rising tension with a looping melody.', animation_type='Dolly Zoom', duration_sec=12),\n",
       " Scene(scene_index=8, narration_text='On the wall, near the bulb, a smear. Dark red. The smear grew fresher, dripping. From above, faint footsteps echoed—slow, deliberate. But when they looked up, the staircase was empty.', subtitle_text='A dark red smear...', visual_prompt='Foreground: None. Midground: Dark red smear on the wall. Background: Empty staircase above. Cinematic style: Film noir. Lighting: Dim, with a red glow. Camera POV: Low-angle looking up. Colors: Dark with red highlights. Textures: Dripping, wet.', background_music='Slow, deliberate footsteps with a heartbeat rhythm.', animation_type='Cinemagraph', duration_sec=8),\n",
       " Scene(scene_index=9, narration_text='The lights began to flicker, and in one brief flash, Riya saw them—Three figures. Pale. Wide-eyed. Standing on the stairs just a few steps above. They looked exactly like Riya, Kabir, and Mehul—but their faces were twisted, rotting, their eyes black pits.', subtitle_text='They saw themselves...', visual_prompt='Foreground: None. Midground: Pale figures resembling Riya, Kabir, and Mehul. Background: Flickering staircase. Cinematic style: Horror. Lighting: Flickering, with shadows. Camera POV: Over-the-shoulder from Riya. Colors: Pale with dark shadows. Textures: Rotting, decayed.', background_music='High-pitched strings with a sudden crescendo.', animation_type='Dolly Zoom', duration_sec=10),\n",
       " Scene(scene_index=10, narration_text='The next flicker of light went out completely. In the darkness, the footsteps came closer. The last thing anyone heard was the supermarket doors hissing open upstairs… with no one coming out.', subtitle_text='Darkness and footsteps...', visual_prompt='Foreground: None. Midground: Complete darkness. Background: Faint outline of the staircase. Cinematic style: Horror. Lighting: None. Camera POV: First-person from Riya. Colors: Black with faint outlines. Textures: None.', background_music='Silence followed by a sudden door hiss.', animation_type='Static', duration_sec=10)]"
      ]
     },
     "execution_count": 31,
     "metadata": {},
     "output_type": "execute_result"
    }
   ],
   "source": [
    "result.scenes"
   ]
  },
  {
   "cell_type": "code",
   "execution_count": 15,
   "id": "7e1cdce6-c6df-4f8e-9fa0-9eb72d9475f0",
   "metadata": {},
   "outputs": [],
   "source": [
    "from tabulate import tabulate\n",
    "\n",
    "def to_profile_tab(profile: Profile) -> str:\n",
    "    rows = [\n",
    "        [\"Geographic Location\", f\"{profile.geographic_location.country or ''}, {profile.geographic_location.specific_location or ''}\"],\n",
    "        [\"Time Period\", f\"Era: {profile.time_period.era or ''}, Time: {profile.time_period.time_of_day or ''}\"],\n",
    "        [\"Weather\", f\"{profile.weather.condition or ''} ({profile.weather.details or ''})\"],\n",
    "        [\"Ethnicity\", profile.ethnicity or \"\"],\n",
    "        [\"Mood\", profile.mood or \"\"],\n",
    "    ]\n",
    "    \n",
    "    # Add characters as a sub-table\n",
    "    char_rows = []\n",
    "    for c in profile.characters:\n",
    "        char_rows.append([\n",
    "            c.name,\n",
    "            c.role,\n",
    "            c.visual_features or \"\",\n",
    "            c.psychological_features or \"\"\n",
    "        ])\n",
    "    \n",
    "    table_str = tabulate(rows, headers=[\"Attribute\", \"Value\"], tablefmt=\"grid\")\n",
    "    \n",
    "    if char_rows:\n",
    "        char_table = tabulate(\n",
    "            char_rows, \n",
    "            headers=[\"Name\", \"Role\", \"Visual Features\", \"Psychological Features\"], \n",
    "            tablefmt=\"grid\"\n",
    "        )\n",
    "        table_str += \"\\n\\nCharacters:\\n\" + char_table\n",
    "    \n",
    "    return table_str\n"
   ]
  },
  {
   "cell_type": "code",
   "execution_count": 16,
   "id": "cdd5ab20-a0a8-4dbf-9713-21f869fb5e60",
   "metadata": {},
   "outputs": [],
   "source": [
    "profile_str = to_profile_tab(result.profile)"
   ]
  },
  {
   "cell_type": "code",
   "execution_count": 17,
   "id": "d12d0c56-b46d-4171-9a70-32a6cbae803e",
   "metadata": {},
   "outputs": [
    {
     "name": "stdout",
     "output_type": "stream",
     "text": [
      "+---------------------+----------------------------------------+\n",
      "| Attribute           | Value                                  |\n",
      "+=====================+========================================+\n",
      "| Geographic Location | India, Bansipur                        |\n",
      "+---------------------+----------------------------------------+\n",
      "| Time Period         | Era: Modern Day, Time: Night           |\n",
      "+---------------------+----------------------------------------+\n",
      "| Weather             | Misty (Faint mist curling along roads) |\n",
      "+---------------------+----------------------------------------+\n",
      "| Ethnicity           | South Asian                            |\n",
      "+---------------------+----------------------------------------+\n",
      "| Mood                | Eerie and suspenseful                  |\n",
      "+---------------------+----------------------------------------+\n",
      "\n",
      "Characters:\n",
      "+--------+--------+-------------------------------------------------+--------------------------+\n",
      "| Name   | Role   | Visual Features                                 | Psychological Features   |\n",
      "+========+========+=================================================+==========================+\n",
      "| Riya   | Hero   | Long hair, casual clothing, anxious expression  | Nervous but determined   |\n",
      "+--------+--------+-------------------------------------------------+--------------------------+\n",
      "| Kabir  | Hero   | Short hair, wearing a hoodie, cautious demeanor | Observant and skeptical  |\n",
      "+--------+--------+-------------------------------------------------+--------------------------+\n",
      "| Mehul  | Hero   | Curly hair, glasses, curious look               | Inquisitive and logical  |\n",
      "+--------+--------+-------------------------------------------------+--------------------------+\n"
     ]
    }
   ],
   "source": [
    "print(profile_str)\n"
   ]
  },
  {
   "cell_type": "markdown",
   "id": "293da449-3053-4271-97c4-95b93bf5503c",
   "metadata": {},
   "source": [
    "# Image Generation"
   ]
  },
  {
   "cell_type": "code",
   "execution_count": 18,
   "id": "300f1285-b2f3-48ce-9871-3ad4f8a82661",
   "metadata": {},
   "outputs": [],
   "source": [
    "endpoint = \"http://34.228.224.128:8000/generate\""
   ]
  },
  {
   "cell_type": "code",
   "execution_count": 19,
   "id": "0b0f3f89-4176-4dfb-9057-88c419aa7626",
   "metadata": {},
   "outputs": [],
   "source": [
    "import requests\n",
    "import json\n",
    "import base64\n",
    "\n",
    "def generate_image(prompt, image_path: str = None):\n",
    "    data = {\"prompt\": prompt}\n",
    "    files = None\n",
    "\n",
    "    if image_path:\n",
    "        with open(image_path, \"rb\") as f:\n",
    "            data[\"image\"] = base64.b64encode(f.read()).decode(\"utf-8\")\n",
    "\n",
    "    response = requests.post(endpoint, \n",
    "                             data=json.dumps(data), \n",
    "                             headers={'Content-Type': 'application/json'})\n",
    "\n",
    "    if response.status_code != 200:\n",
    "        raise RuntimeError(f\"Request failed: {response.status_code} {response.text}\")\n",
    "    else:\n",
    "        img = json.loads(response.content.decode('utf-8'))\n",
    "        image_bytes = base64.b64decode(img['image_base64'])\n",
    "        return image_bytes\n"
   ]
  },
  {
   "cell_type": "code",
   "execution_count": 20,
   "id": "df782bba-e14d-4dc7-a198-9a2d8a01e026",
   "metadata": {},
   "outputs": [],
   "source": [
    "import os\n",
    "from uuid import uuid4\n",
    "from pathlib import Path\n",
    "\n",
    "id = str(uuid4())\n",
    "\n",
    "stage_dir = Path(os.getcwd()) / \"stage\" / id\n"
   ]
  },
  {
   "cell_type": "code",
   "execution_count": 21,
   "id": "7de67060-1e4d-4f31-94a9-4becbeac8f66",
   "metadata": {},
   "outputs": [],
   "source": [
    "import base64\n",
    "def generate_scene(idx: int):\n",
    "    \"\"\"Generate a scene image based on the visual prompt.\"\"\"\n",
    "    scene = result.scenes[idx]\n",
    "    prompt = f\"\"\"\n",
    "        Profile:\n",
    "        {profile_str}\n",
    "        Scene:\n",
    "        {scene.visual_prompt}\n",
    "    \"\"\"\n",
    "\n",
    "    logger.info(f\"Generating image for scene {idx} with prompt: {prompt}\")\n",
    "\n",
    "    # Generate the image\n",
    "    previous_img_path =  stage_dir / f\"scene_{(idx-1)}.png\" if idx > 0 else None\n",
    "    if previous_img_path and previous_img_path.exists():\n",
    "        logger.info(f\"Using previous image for scene {idx-1}: {previous_img_path}\")\n",
    "        image_bytes = generate_image(prompt, image_path=previous_img_path)\n",
    "    else:\n",
    "        logger.info(f\"No previous image found, generating new image.\")\n",
    "        image_bytes = generate_image(prompt)\n",
    "\n",
    "    # Save the image to the stage directory\n",
    "    stage_dir.mkdir(parents=True, exist_ok=True)\n",
    "    output_path = stage_dir / f\"scene_{idx}.png\"\n",
    "    \n",
    "    with open(output_path, \"wb\") as f:\n",
    "        f.write(image_bytes)\n",
    "    \n",
    "    logger.info(f\"Image for scene {idx} saved to {output_path}\")\n",
    "    return output_path\n"
   ]
  },
  {
   "cell_type": "code",
   "execution_count": 22,
   "id": "6b6433ee-4a2c-4cf5-986e-9528290baf89",
   "metadata": {},
   "outputs": [
    {
     "name": "stderr",
     "output_type": "stream",
     "text": [
      "INFO:__main__:Generating image for scene 0 with prompt: \n",
      "        Profile:\n",
      "        +---------------------+----------------------------------------+\n",
      "| Attribute           | Value                                  |\n",
      "+=====================+========================================+\n",
      "| Geographic Location | India, Bansipur                        |\n",
      "+---------------------+----------------------------------------+\n",
      "| Time Period         | Era: Modern Day, Time: Night           |\n",
      "+---------------------+----------------------------------------+\n",
      "| Weather             | Misty (Faint mist curling along roads) |\n",
      "+---------------------+----------------------------------------+\n",
      "| Ethnicity           | South Asian                            |\n",
      "+---------------------+----------------------------------------+\n",
      "| Mood                | Eerie and suspenseful                  |\n",
      "+---------------------+----------------------------------------+\n",
      "\n",
      "Characters:\n",
      "+--------+--------+-------------------------------------------------+--------------------------+\n",
      "| Name   | Role   | Visual Features                                 | Psychological Features   |\n",
      "+========+========+=================================================+==========================+\n",
      "| Riya   | Hero   | Long hair, casual clothing, anxious expression  | Nervous but determined   |\n",
      "+--------+--------+-------------------------------------------------+--------------------------+\n",
      "| Kabir  | Hero   | Short hair, wearing a hoodie, cautious demeanor | Observant and skeptical  |\n",
      "+--------+--------+-------------------------------------------------+--------------------------+\n",
      "| Mehul  | Hero   | Curly hair, glasses, curious look               | Inquisitive and logical  |\n",
      "+--------+--------+-------------------------------------------------+--------------------------+\n",
      "        Scene:\n",
      "        Foreground: Dashboard fuel gauge showing low fuel. Midground: Riya's hand on the steering wheel, Kabir looking out the window. Background: Misty, cracked roads with flickering streetlamps. Cinematic style: Film noir. Lighting: Dim streetlight glow. Camera angle: Over-the-shoulder from Riya's perspective. Colors and mood: Muted, eerie. Textures: Mist swirling in the air.\n",
      "    \n",
      "INFO:__main__:No previous image found, generating new image.\n",
      "INFO:__main__:Image for scene 0 saved to C:\\Samriddha\\opensource\\examples\\misc\\projects\\story-to-video\\stage\\bab22c38-4da3-4af9-8d4a-71bb087f566e\\scene_0.png\n",
      "INFO:__main__:Generating image for scene 1 with prompt: \n",
      "        Profile:\n",
      "        +---------------------+----------------------------------------+\n",
      "| Attribute           | Value                                  |\n",
      "+=====================+========================================+\n",
      "| Geographic Location | India, Bansipur                        |\n",
      "+---------------------+----------------------------------------+\n",
      "| Time Period         | Era: Modern Day, Time: Night           |\n",
      "+---------------------+----------------------------------------+\n",
      "| Weather             | Misty (Faint mist curling along roads) |\n",
      "+---------------------+----------------------------------------+\n",
      "| Ethnicity           | South Asian                            |\n",
      "+---------------------+----------------------------------------+\n",
      "| Mood                | Eerie and suspenseful                  |\n",
      "+---------------------+----------------------------------------+\n",
      "\n",
      "Characters:\n",
      "+--------+--------+-------------------------------------------------+--------------------------+\n",
      "| Name   | Role   | Visual Features                                 | Psychological Features   |\n",
      "+========+========+=================================================+==========================+\n",
      "| Riya   | Hero   | Long hair, casual clothing, anxious expression  | Nervous but determined   |\n",
      "+--------+--------+-------------------------------------------------+--------------------------+\n",
      "| Kabir  | Hero   | Short hair, wearing a hoodie, cautious demeanor | Observant and skeptical  |\n",
      "+--------+--------+-------------------------------------------------+--------------------------+\n",
      "| Mehul  | Hero   | Curly hair, glasses, curious look               | Inquisitive and logical  |\n",
      "+--------+--------+-------------------------------------------------+--------------------------+\n",
      "        Scene:\n",
      "        Foreground: Car's dashboard with flickering fuel warning light. Midground: Riya, Kabir, and Mehul looking at the glowing supermarket sign. Background: Deserted street with the supermarket at the end. Cinematic style: Ultra-realistic. Lighting: Neon glow from the sign. Camera angle: Wide-angle from the car's windshield. Colors and mood: Vibrant sign against a dark, deserted street. Textures: Cracked asphalt, glowing neon.\n",
      "    \n",
      "INFO:__main__:Using previous image for scene 0: C:\\Samriddha\\opensource\\examples\\misc\\projects\\story-to-video\\stage\\bab22c38-4da3-4af9-8d4a-71bb087f566e\\scene_0.png\n",
      "INFO:__main__:Image for scene 1 saved to C:\\Samriddha\\opensource\\examples\\misc\\projects\\story-to-video\\stage\\bab22c38-4da3-4af9-8d4a-71bb087f566e\\scene_1.png\n"
     ]
    },
    {
     "data": {
      "text/plain": [
       "WindowsPath('C:/Samriddha/opensource/examples/misc/projects/story-to-video/stage/bab22c38-4da3-4af9-8d4a-71bb087f566e/scene_1.png')"
      ]
     },
     "execution_count": 22,
     "metadata": {},
     "output_type": "execute_result"
    }
   ],
   "source": [
    "generate_scene(0)\n",
    "generate_scene(1)"
   ]
  },
  {
   "cell_type": "code",
   "execution_count": null,
   "id": "88bbe406-4a9e-4ee6-a4aa-5565878db4d8",
   "metadata": {},
   "outputs": [],
   "source": []
  },
  {
   "cell_type": "code",
   "execution_count": null,
   "id": "3b9753b0-9354-4222-bce9-7e3c59413268",
   "metadata": {},
   "outputs": [],
   "source": []
  },
  {
   "cell_type": "code",
   "execution_count": 15,
   "id": "7001438b-de3a-42d7-aac5-de7ebfc2cd52",
   "metadata": {},
   "outputs": [],
   "source": [
    "client = OpenAI()\n",
    "\n",
    "def tts_generate(text, filename):\n",
    "    \"\"\"Generate narration audio from text using OpenAI TTS.\"\"\"\n",
    "    speech = client.audio.speech.create(\n",
    "        model=\"gpt-4o-mini-tts\",\n",
    "        voice=\"alloy\",\n",
    "        input=text\n",
    "    )\n",
    "    with open(filename, \"wb\") as f:\n",
    "        f.write(speech.read())\n",
    "    return filename\n",
    "\n",
    "def image_generate(prompt, filename):\n",
    "    \"\"\"Generate image using OpenAI image API.\"\"\"\n",
    "    img = client.images.generate(\n",
    "        model=\"gpt-image-1\",\n",
    "        prompt=prompt,\n",
    "        size=\"1024x1536\"\n",
    "    )\n",
    "    print(f\"Generated image for prompt: {prompt}\")\n",
    "    image_base64 = img.data[0].b64_json\n",
    "\n",
    "    # Step 3 — Decode base64 → bytes\n",
    "    image_bytes = base64.b64decode(image_base64)\n",
    "    \n",
    "    # Step 4 — Open with Pillow\n",
    "    img = Image.open(BytesIO(image_bytes))\n",
    "    \n",
    "    # Step 5 — Resize to YouTube Shorts-friendly 1080x1920\n",
    "    img = img.resize((1080, 1920), Image.LANCZOS)\n",
    "    \n",
    "    # Step 6 — Save\n",
    "    img.save(filename)\n",
    "    print(f\"Image saved as {filename}\")\n",
    "    \n",
    "    return filename"
   ]
  },
  {
   "cell_type": "code",
   "execution_count": 16,
   "id": "2930abc7-a113-4d9b-a92a-6f35141aad93",
   "metadata": {},
   "outputs": [],
   "source": [
    "import subprocess\n",
    "\n",
    "def create_video_with_ffmpeg(image_path, audio_path, output_path, duration):\n",
    "    # Create a video from a single image + audio, loop image for duration\n",
    "    command = [\n",
    "        \"ffmpeg\",\n",
    "        \"-y\",\n",
    "        \"-loop\", \"1\",\n",
    "        \"-i\", image_path,\n",
    "        \"-i\", audio_path,\n",
    "        \"-c:v\", \"libx264\",\n",
    "        \"-tune\", \"stillimage\",\n",
    "        \"-c:a\", \"aac\",\n",
    "        \"-b:a\", \"192k\",\n",
    "        \"-pix_fmt\", \"yuv420p\",\n",
    "        \"-shortest\",\n",
    "        output_path\n",
    "    ]\n",
    "    subprocess.run(command, check=True)"
   ]
  },
  {
   "cell_type": "code",
   "execution_count": 17,
   "id": "75f19286-0423-4694-9b5c-23da979801ca",
   "metadata": {},
   "outputs": [
    {
     "name": "stderr",
     "output_type": "stream",
     "text": [
      "INFO:httpx:HTTP Request: POST https://api.openai.com/v1/audio/speech \"HTTP/1.1 200 OK\"\n",
      "INFO:httpx:HTTP Request: POST https://api.openai.com/v1/images/generations \"HTTP/1.1 200 OK\"\n"
     ]
    },
    {
     "name": "stdout",
     "output_type": "stream",
     "text": [
      "Generated image for prompt: A wide-angle shot of a deserted city street at night. The scene is ultra-realistic with a moody, noir style. Streetlamps cast flickering, dim light over cracked roads. A faint mist swirls, creating an eerie atmosphere. The camera captures the scene from a low angle, emphasizing the desolation. Colors are muted with a cold blue tint, enhancing the chilling mood. Textures of cracked asphalt and swirling mist are prominent.\n",
      "Image saved as scene0.png\n"
     ]
    },
    {
     "name": "stderr",
     "output_type": "stream",
     "text": [
      "INFO:httpx:HTTP Request: POST https://api.openai.com/v1/audio/speech \"HTTP/1.1 200 OK\"\n",
      "INFO:httpx:HTTP Request: POST https://api.openai.com/v1/images/generations \"HTTP/1.1 200 OK\"\n"
     ]
    },
    {
     "name": "stdout",
     "output_type": "stream",
     "text": [
      "Generated image for prompt: A medium shot of a car parked on an empty street, with a glowing neon sign of 'Mehta Super Mart' in the background. The scene is depicted in a cinematic, neo-noir style with vibrant neon colors contrasting against the dark surroundings. The camera captures the scene from a slightly elevated angle, focusing on the car and the sign. The neon glow casts colorful reflections on the wet pavement, adding texture and depth.\n",
      "Image saved as scene1.png\n"
     ]
    },
    {
     "name": "stderr",
     "output_type": "stream",
     "text": [
      "INFO:httpx:HTTP Request: POST https://api.openai.com/v1/audio/speech \"HTTP/1.1 200 OK\"\n",
      "INFO:httpx:HTTP Request: POST https://api.openai.com/v1/images/generations \"HTTP/1.1 200 OK\"\n"
     ]
    },
    {
     "name": "stdout",
     "output_type": "stream",
     "text": [
      "Generated image for prompt: An ultra-realistic, wide-angle shot of the supermarket interior. The scene is brightly lit with a sterile, fluorescent glow. The camera captures the aisles from a low angle, emphasizing the perfectly stocked shelves. Colors are vibrant but slightly surreal, with a focus on the shiny, unnatural appearance of the products. The buzzing of the lights adds an unsettling atmosphere.\n",
      "Image saved as scene2.png\n"
     ]
    },
    {
     "name": "stderr",
     "output_type": "stream",
     "text": [
      "INFO:httpx:HTTP Request: POST https://api.openai.com/v1/audio/speech \"HTTP/1.1 200 OK\"\n",
      "INFO:httpx:HTTP Request: POST https://api.openai.com/v1/images/generations \"HTTP/1.1 200 OK\"\n"
     ]
    },
    {
     "name": "stdout",
     "output_type": "stream",
     "text": [
      "Generated image for prompt: A narrow staircase descending into darkness, lit by a single, flickering bulb. The scene is captured in a film noir style with deep shadows and high contrast. The camera takes a close-up shot of the sign and the staircase, emphasizing the mystery and foreboding atmosphere. The colors are muted, with a focus on the interplay of light and shadow.\n",
      "Image saved as scene3.png\n"
     ]
    },
    {
     "name": "stderr",
     "output_type": "stream",
     "text": [
      "INFO:httpx:HTTP Request: POST https://api.openai.com/v1/audio/speech \"HTTP/1.1 200 OK\"\n",
      "INFO:httpx:HTTP Request: POST https://api.openai.com/v1/images/generations \"HTTP/1.1 200 OK\"\n"
     ]
    },
    {
     "name": "stdout",
     "output_type": "stream",
     "text": [
      "Generated image for prompt: A surreal, Escher-like staircase scene with repeating elements. The camera captures the scene from a wide-angle, slightly tilted perspective, emphasizing the disorienting, infinite nature of the staircases. The lighting is dim, with a single bulb casting long shadows. The colors are dark and gritty, enhancing the sense of confusion and unease.\n",
      "Image saved as scene4.png\n"
     ]
    },
    {
     "name": "stderr",
     "output_type": "stream",
     "text": [
      "INFO:httpx:HTTP Request: POST https://api.openai.com/v1/audio/speech \"HTTP/1.1 200 OK\"\n",
      "INFO:httpx:HTTP Request: POST https://api.openai.com/v1/images/generations \"HTTP/1.1 200 OK\"\n"
     ]
    },
    {
     "name": "stdout",
     "output_type": "stream",
     "text": [
      "Generated image for prompt: A close-up shot of a dark red smear on a wall, with a flickering bulb above. The scene is captured in a horror style with high contrast and deep shadows. The camera focuses on the texture of the smear, with the bulb casting an eerie glow. The colors are dark and ominous, with a focus on the red smear and the shadows it casts.\n",
      "Image saved as scene5.png\n"
     ]
    },
    {
     "name": "stderr",
     "output_type": "stream",
     "text": [
      "INFO:httpx:HTTP Request: POST https://api.openai.com/v1/audio/speech \"HTTP/1.1 200 OK\"\n",
      "INFO:httpx:HTTP Request: POST https://api.openai.com/v1/images/generations \"HTTP/1.1 200 OK\"\n"
     ]
    },
    {
     "name": "stdout",
     "output_type": "stream",
     "text": [
      "Generated image for prompt: A dark, atmospheric shot of a staircase with faint, approaching footsteps. The scene is captured in a suspenseful, thriller style with minimal lighting. The camera takes a low-angle shot, focusing on the staircase and the shadows. The colors are muted, with a focus on the interplay of light and shadow. The atmosphere is tense, with a sense of impending danger.\n",
      "Image saved as scene6.png\n"
     ]
    }
   ],
   "source": [
    "scene_videos = []\n",
    "\n",
    "for idx, scene in enumerate(result.scenes):\n",
    "    audio_file = f\"scene{idx}.mp3\"\n",
    "    image_file = f\"scene{idx}.png\"\n",
    "    video_file = f\"scene{idx}.mp4\"\n",
    "\n",
    "    # Generate assets\n",
    "    tts_generate(scene.narration_text, audio_file)\n",
    "    image_generate(scene.visual_prompt, image_file)\n",
    "\n",
    "    # Estimate duration from narration speed (~3 words/sec)\n",
    "    words = len(scene.narration_text.split())\n",
    "    duration = round(words / 3.0, 1)\n",
    "\n",
    "    # Combine into scene video\n",
    "    create_video_with_ffmpeg(image_file, audio_file, video_file, duration)\n",
    "    scene_videos.append(video_file)"
   ]
  },
  {
   "cell_type": "code",
   "execution_count": 2,
   "id": "49ff26e5-95c5-464d-b9a4-6d3de53360a2",
   "metadata": {},
   "outputs": [],
   "source": [
    "scene_videos = [\n",
    "    \"scene0.mp4\",\n",
    "    \"scene1.mp4\",\n",
    "    \"scene2.mp4\",\n",
    "    \"scene3.mp4\",\n",
    "    \"scene4.mp4\",\n",
    "    \"scene5.mp4\",\n",
    "    \"scene6.mp4\",\n",
    "]"
   ]
  },
  {
   "cell_type": "code",
   "execution_count": 3,
   "id": "78442e86-74b2-4a71-a80f-fe537786c72e",
   "metadata": {},
   "outputs": [
    {
     "data": {
      "text/plain": [
       "CompletedProcess(args=['ffmpeg', '-f', 'concat', '-safe', '0', '-i', 'scenes.txt', '-c', 'copy', 'story_1.mp4'], returncode=0)"
      ]
     },
     "execution_count": 3,
     "metadata": {},
     "output_type": "execute_result"
    }
   ],
   "source": [
    "with open(\"scenes.txt\", \"w\") as f:\n",
    "    for video in scene_videos:\n",
    "        f.write(f\"file '{video}'\\n\")\n",
    "\n",
    "import subprocess\n",
    "subprocess.run([\n",
    "    \"ffmpeg\", \"-f\", \"concat\", \"-safe\", \"0\", \"-i\", \"scenes.txt\",\n",
    "    \"-c\", \"copy\", \"story_1.mp4\"\n",
    "], check=True)\n"
   ]
  },
  {
   "cell_type": "code",
   "execution_count": 59,
   "id": "7e141886-1052-40e1-b7f0-ed277300b67a",
   "metadata": {},
   "outputs": [],
   "source": []
  },
  {
   "cell_type": "code",
   "execution_count": null,
   "id": "eb729fc8-b1df-4727-92ea-e5f3f2cd204b",
   "metadata": {},
   "outputs": [],
   "source": []
  }
 ],
 "metadata": {
  "kernelspec": {
   "display_name": "Python 3 (ipykernel)",
   "language": "python",
   "name": "python3"
  },
  "language_info": {
   "codemirror_mode": {
    "name": "ipython",
    "version": 3
   },
   "file_extension": ".py",
   "mimetype": "text/x-python",
   "name": "python",
   "nbconvert_exporter": "python",
   "pygments_lexer": "ipython3",
   "version": "3.12.0"
  }
 },
 "nbformat": 4,
 "nbformat_minor": 5
}

{
 "cells": [
  {
   "cell_type": "code",
   "execution_count": 7,
   "id": "5a645285-f987-439b-b684-40f2c02bae51",
   "metadata": {},
   "outputs": [],
   "source": [
    "data = [\n",
    "    \"Arjun had stopped keeping track of time. Days blurred into nights, and nights into days. His small one-room flat in North Kolkata felt like a prison of memories. The fan creaked above him, swaying as if it too had grown tired of life. He hadn’t been to work in weeks; friends no longer called. The city outside, bustling as ever, seemed distant, unreal. His mother’s last letter lay on the table, folded neatly, now stained with tea. He never opened it. He couldn’t. Loneliness gnawed at him, yet a dull, empty routine had become comfort. Fleeting nostalgia reminded him of street music, laughter, and small joys lost to time.\",\n",
    "    \"One evening, half drunk and half asleep, Arjun rummaged through dusty DVDs. His hand froze over 'Goopy Gyne Bagha Byne', a childhood favorite. Something stirred inside him, a spark he thought lost.The familiar music filled the room.\",\n",
    "    \"The Bhooter Raja appeared on screen, swaying, voice both funny and frightening. Three boons: food, travel, music. Arjun whispered bitterly, 'If only someone gave me those three boons…' The words lingered as the film ended.\",\n",
    "    \"That night, shadows twisted unnaturally. The fan’s creak sounded less like a groan, more like a laugh. Then—a whisper: 'Do you really want them?'\\nArjun froze. Darkness coalesced into a tall figure with a crown of bones, eyes glowing faintly. 'Bho… Bhooter Raja?' he stammered.\\n\\nThe figure smiled, unnaturally wide. 'You called me, didn’t you?' Fear gripped him.\\n\\nArjun’s heart pounded. 'I… I want them,' he said. 'The three boons. Just like Goopy and Bagha.'\\n\\nThe Bhooter Raja leaned close. 'Are you sure?'\\n\\nArjun nodded, desperate. 'Yes. Give them to me.'\\n\\nSilence fell. Air thickened. Then the Raja whispered: 'So be it.' And vanished. Only the scent of damp earth remained.\",\n",
    "    \"He tested the first boon. Wishing for biryani, a steaming plate appeared before him, aromas rich and inviting. Each bite felt like heaven, but soon his appetite became insatiable.\",\n",
    "    \"Travel came next: he wished for Darjeeling, instantly feeling the chill of mountain air, mist clinging to his face. Streets were silent, eerie, yet beautiful.\\n\\n\",\n",
    "    \"Excited, he opened a YouTube channel. His first song received one million views overnight. Subscribers exploded. Fans adored him. He became a sensation.\",\n",
    "    \"Interviews, fan messages, and public appearances filled his days. Initially, he responded to fans, humble and grateful. He felt alive, powerful, adored. He reveled in praise, each view and comment inflating his pride. Even small compliments felt like treasures.\\n\\nThe world seemed to obey him. Music flowed effortlessly. The feeling was intoxicating. He started imagining bigger dreams, larger stages, more recognition. For a while, life felt perfect, magical, unstoppable.\",\n",
    "    \"Arrogance crept into every gesture. Trolls mocked his weight, his appearance, his attitude. Each criticism made him lash out. He binged on food night after night, trying to fill the emptiness inside. But the endless feasting came with a cost—his body grew heavy, bloated, sickly. He hated what he saw in the mirror: pale skin stretched over swollen features, cheeks puffed, eyes dull. The man he once admired in reflections was gone, replaced by someone grotesque, helpless, and trapped in his own indulgence.\\n\\nFilm offers were withdrawn. Friends avoided him. Even fame felt hollow. Helplessness wrapped around him like a heavy blanket. He realized he had been a prisoner of his own desires, and the boons offered only temporary illusions.\",\n",
    "    \"In despair, Arjun wished to see his first love Tulika,the only person who had stood by him. He appeared at her house, heart pounding. Laughter echoed; she was with another man, declaring she hated him and that he was good for nothing. The scene shattered him completely.\\n\\nCollapsing to the ground, he felt the full weight of isolation, failure, and the consequences of unchecked desire.\",\n",
    "    \"He called the Bhooter Raja. 'Take back the boons! I want my old life!' he pleaded.\\n\\nThe ghost king appeared, towering, laughter echoing. 'Now you understand—talents are gifts, but must be nurtured. Left unchecked, they rot. You cannot expect the world to bend to your will.\",\n",
    "    \"'\\n\\nShadows receded. Magic, fame, endless food—gone. On the table lay a simple envelope. Arjun opened it: a small music company had seen him perform at a local show and invited him to audition. He realized, Raw talent,untouched by boons—was enough.\",\n",
    "    \"For the first time in months, he smiled. No magic, no fame, no endless food. Only his talent, his determination, and the small chance to rebuild. He understood now: life’s true boons are the ones you cultivate yourself. Effort, care, persistence—these are what create real magic.\\n\\nThe Bhooter Raja’s laughter lingered faintly, a subtle reminder of temptation, but Arjun felt ready to face the world anew.\"\n",
    "]"
   ]
  },
  {
   "cell_type": "code",
   "execution_count": 51,
   "id": "4c938d6b-7343-4e5c-bf5e-43d7b9c912ed",
   "metadata": {},
   "outputs": [],
   "source": [
    "instruction = \"\"\"\n",
    "🎙️ Narration Instruction (Adaptive Delivery)\n",
    "\n",
    "Accent: Neutral Indian English, clear and grounded.\n",
    "\n",
    "Tone: Serious, but with subtle shifts — reflective at the start, energetic in the middle, then darker toward the end.\n",
    "\n",
    "Mood: Gloomy undertone throughout, but with sparks of energy that echo his fleeting highs.\n",
    "\n",
    "Delivery Flow (per story beat):\n",
    "\n",
    "Opening (reflective, steady pace)\n",
    "\n",
    "“Interviews, fan messages, and public appearances filled his days.”\n",
    "→ Calm, matter-of-fact, almost weary.\n",
    "\n",
    "“Initially, he responded to fans, humble and grateful.”\n",
    "→ Gentle, softened voice, slower.\n",
    "\n",
    "Rising Admiration (quicker, more engaged)\n",
    "\n",
    "“He felt alive, powerful, adored. He reveled in praise, each view and comment inflating his pride. Even small compliments felt like treasures.”\n",
    "→ Increase pacing slightly, add a touch of brightness in tone — but not joyous, rather intoxicated.\n",
    "\n",
    "The High (confident, energetic rhythm)\n",
    "\n",
    "“The world seemed to obey him. Music flowed effortlessly. The feeling was intoxicating.”\n",
    "→ Crisp delivery, medium-fast pace, a hint of wonder — but with a shadow underneath.\n",
    "\n",
    "The Shift (slower, darker again)\n",
    "\n",
    "“He started imagining bigger dreams, larger stages, more recognition.”\n",
    "→ Slight pause between phrases, like ambition swelling.\n",
    "\n",
    "“For a while, life felt perfect, magical, unstoppable.”\n",
    "→ Deliver with restrained intensity — the pace slows, voice lowers at “unstoppable,” foreshadowing collapse.\n",
    "\n",
    "⚖️ Overall rhythm: Not monotone slow — instead, it rises with his pride and falls back into gloom, mirroring the story arc.\n",
    "\"\"\""
   ]
  },
  {
   "cell_type": "code",
   "execution_count": 52,
   "id": "81c65afd-79eb-4feb-91b8-a8080821c4a0",
   "metadata": {},
   "outputs": [],
   "source": [
    "from openai import OpenAI\n",
    "\n",
    "client = OpenAI()\n",
    "\n",
    "def generate_tts(text, filename):\n",
    "    \"\"\"Generate narration audio from text using OpenAI TTS.\"\"\"\n",
    "    speech = client.audio.speech.create(\n",
    "        model=\"gpt-4o-mini-tts\",\n",
    "        voice=\"coral\",\n",
    "        input=text,\n",
    "        instructions=instruction\n",
    "    )\n",
    "    with open(filename, \"wb\") as f:\n",
    "        f.write(speech.read())\n",
    "    return filename"
   ]
  },
  {
   "cell_type": "code",
   "execution_count": 53,
   "id": "a90408c6-063d-4af1-a76e-2433218e1159",
   "metadata": {},
   "outputs": [],
   "source": [
    "import os\n",
    "from pathlib import Path\n",
    "\n",
    "data_dir = Path(os.getcwd()) / \"stage\" / \"tmp\" / \"data\""
   ]
  },
  {
   "cell_type": "code",
   "execution_count": 54,
   "id": "9c22e1b5-97c2-4955-b61f-2f811cab8b71",
   "metadata": {},
   "outputs": [],
   "source": [
    "files = os.listdir(data_dir / \"images\")\n",
    "audio_dir = data_dir / \"audios\"\n",
    "\n",
    "audio_dir.mkdir(parents=True, exist_ok=True)"
   ]
  },
  {
   "cell_type": "code",
   "execution_count": 55,
   "id": "caa17d6e-ad44-4b1e-993d-c1613f643c78",
   "metadata": {},
   "outputs": [
    {
     "name": "stdout",
     "output_type": "stream",
     "text": [
      "processing index: 0\n",
      "processing index: 1\n",
      "processing index: 2\n",
      "processing index: 3\n",
      "processing index: 4\n",
      "processing index: 5\n",
      "processing index: 6\n",
      "processing index: 7\n",
      "processing index: 8\n",
      "processing index: 9\n",
      "processing index: 10\n",
      "processing index: 11\n",
      "processing index: 12\n",
      "processing index: 13\n"
     ]
    },
    {
     "ename": "IndexError",
     "evalue": "list index out of range",
     "output_type": "error",
     "traceback": [
      "\u001b[31m---------------------------------------------------------------------------\u001b[39m",
      "\u001b[31mIndexError\u001b[39m                                Traceback (most recent call last)",
      "\u001b[36mCell\u001b[39m\u001b[36m \u001b[39m\u001b[32mIn[55]\u001b[39m\u001b[32m, line 5\u001b[39m\n\u001b[32m      3\u001b[39m \u001b[38;5;28mprint\u001b[39m(\u001b[33mf\u001b[39m\u001b[33m\"\u001b[39m\u001b[33mprocessing index: \u001b[39m\u001b[38;5;132;01m{\u001b[39;00midx\u001b[38;5;132;01m}\u001b[39;00m\u001b[33m\"\u001b[39m)\n\u001b[32m      4\u001b[39m output_path = audio_dir / \u001b[33mf\u001b[39m\u001b[33m\"\u001b[39m\u001b[38;5;132;01m{\u001b[39;00midx+\u001b[32m1\u001b[39m\u001b[38;5;132;01m}\u001b[39;00m\u001b[33m.mp3\u001b[39m\u001b[33m\"\u001b[39m\n\u001b[32m----> \u001b[39m\u001b[32m5\u001b[39m generate_tts(\u001b[43mdata\u001b[49m\u001b[43m[\u001b[49m\u001b[43midx\u001b[49m\u001b[43m]\u001b[49m, output_path)\n\u001b[32m      6\u001b[39m time.sleep(\u001b[32m2\u001b[39m)\n",
      "\u001b[31mIndexError\u001b[39m: list index out of range"
     ]
    }
   ],
   "source": [
    "import time\n",
    "for idx, file in enumerate(files):\n",
    "    print(f\"processing index: {idx}\")\n",
    "    output_path = audio_dir / f\"{idx+1}.mp3\"\n",
    "    generate_tts(data[idx], output_path)\n",
    "    time.sleep(2)"
   ]
  },
  {
   "cell_type": "code",
   "execution_count": 56,
   "id": "533ef2fa-588f-4725-b03e-e767d30b8bc3",
   "metadata": {},
   "outputs": [],
   "source": [
    "import subprocess\n",
    "\n",
    "def create_video_with_ffmpeg(image_path, audio_path, animation_str, output_path):\n",
    "    if not os.path.exists(image_path):\n",
    "        raise FileNotFoundError(f\"Image file not found: {image_path}\")\n",
    "    if not os.path.exists(audio_path):\n",
    "        raise FileNotFoundError(f\"Audio file not found: {audio_path}\")\n",
    "    if animation_str:\n",
    "        # If an animation string is provided, use it in the ffmpeg command\n",
    "        command = [\n",
    "            \"ffmpeg\",\n",
    "            \"-y\",\n",
    "            \"-loop\", \"1\",\n",
    "            \"-i\", image_path,\n",
    "            \"-i\", audio_path,\n",
    "            animation_str,\n",
    "            \"-c:v\", \"libx264\",\n",
    "            \"-tune\", \"stillimage\",\n",
    "            \"-c:a\", \"aac\",\n",
    "            \"-b:a\", \"192k\",\n",
    "            \"-pix_fmt\", \"yuv420p\",\n",
    "            \"-shortest\",\n",
    "            output_path\n",
    "        ]\n",
    "    else:\n",
    "        # Default command without animation\n",
    "        command = [\n",
    "            \"ffmpeg\",\n",
    "            \"-y\",\n",
    "            \"-loop\", \"1\",\n",
    "            \"-i\", image_path,\n",
    "            \"-i\", audio_path,\n",
    "            \"-c:v\", \"libx264\",\n",
    "            \"-tune\", \"stillimage\",\n",
    "            \"-c:a\", \"aac\",\n",
    "            \"-b:a\", \"192k\",\n",
    "            \"-pix_fmt\", \"yuv420p\",\n",
    "            \"-shortest\",\n",
    "            output_path\n",
    "        ]\n",
    "    subprocess.run(command, check=True)"
   ]
  },
  {
   "cell_type": "code",
   "execution_count": 57,
   "id": "8cc04571-87a0-43f6-ba8a-fa454d25b86e",
   "metadata": {},
   "outputs": [
    {
     "ename": "FileNotFoundError",
     "evalue": "Image file not found: C:\\Samriddha\\opensource\\examples\\misc\\projects\\story-to-video\\stage\\tmp\\data\\images\\14.png",
     "output_type": "error",
     "traceback": [
      "\u001b[31m---------------------------------------------------------------------------\u001b[39m",
      "\u001b[31mFileNotFoundError\u001b[39m                         Traceback (most recent call last)",
      "\u001b[36mCell\u001b[39m\u001b[36m \u001b[39m\u001b[32mIn[57]\u001b[39m\u001b[32m, line 9\u001b[39m\n\u001b[32m      7\u001b[39m audio_path = audio_dir / \u001b[33mf\u001b[39m\u001b[33m\"\u001b[39m\u001b[38;5;132;01m{\u001b[39;00midx+\u001b[32m1\u001b[39m\u001b[38;5;132;01m}\u001b[39;00m\u001b[33m.mp3\u001b[39m\u001b[33m\"\u001b[39m\n\u001b[32m      8\u001b[39m output_path = video_dir / \u001b[33mf\u001b[39m\u001b[33m\"\u001b[39m\u001b[38;5;132;01m{\u001b[39;00midx+\u001b[32m1\u001b[39m\u001b[38;5;132;01m}\u001b[39;00m\u001b[33m.mp4\u001b[39m\u001b[33m\"\u001b[39m\n\u001b[32m----> \u001b[39m\u001b[32m9\u001b[39m \u001b[43mcreate_video_with_ffmpeg\u001b[49m\u001b[43m(\u001b[49m\n\u001b[32m     10\u001b[39m \u001b[43m    \u001b[49m\u001b[38;5;28;43mstr\u001b[39;49m\u001b[43m(\u001b[49m\u001b[43mimage_path\u001b[49m\u001b[43m)\u001b[49m\u001b[43m,\u001b[49m\n\u001b[32m     11\u001b[39m \u001b[43m    \u001b[49m\u001b[38;5;28;43mstr\u001b[39;49m\u001b[43m(\u001b[49m\u001b[43maudio_path\u001b[49m\u001b[43m)\u001b[49m\u001b[43m,\u001b[49m\n\u001b[32m     12\u001b[39m \u001b[43m    \u001b[49m\u001b[38;5;28;43;01mNone\u001b[39;49;00m\u001b[43m,\u001b[49m\n\u001b[32m     13\u001b[39m \u001b[43m    \u001b[49m\u001b[38;5;28;43mstr\u001b[39;49m\u001b[43m(\u001b[49m\u001b[43moutput_path\u001b[49m\u001b[43m)\u001b[49m\n\u001b[32m     14\u001b[39m \u001b[43m\u001b[49m\u001b[43m)\u001b[49m\n",
      "\u001b[36mCell\u001b[39m\u001b[36m \u001b[39m\u001b[32mIn[56]\u001b[39m\u001b[32m, line 5\u001b[39m, in \u001b[36mcreate_video_with_ffmpeg\u001b[39m\u001b[34m(image_path, audio_path, animation_str, output_path)\u001b[39m\n\u001b[32m      3\u001b[39m \u001b[38;5;28;01mdef\u001b[39;00m\u001b[38;5;250m \u001b[39m\u001b[34mcreate_video_with_ffmpeg\u001b[39m(image_path, audio_path, animation_str, output_path):\n\u001b[32m      4\u001b[39m     \u001b[38;5;28;01mif\u001b[39;00m \u001b[38;5;129;01mnot\u001b[39;00m os.path.exists(image_path):\n\u001b[32m----> \u001b[39m\u001b[32m5\u001b[39m         \u001b[38;5;28;01mraise\u001b[39;00m \u001b[38;5;167;01mFileNotFoundError\u001b[39;00m(\u001b[33mf\u001b[39m\u001b[33m\"\u001b[39m\u001b[33mImage file not found: \u001b[39m\u001b[38;5;132;01m{\u001b[39;00mimage_path\u001b[38;5;132;01m}\u001b[39;00m\u001b[33m\"\u001b[39m)\n\u001b[32m      6\u001b[39m     \u001b[38;5;28;01mif\u001b[39;00m \u001b[38;5;129;01mnot\u001b[39;00m os.path.exists(audio_path):\n\u001b[32m      7\u001b[39m         \u001b[38;5;28;01mraise\u001b[39;00m \u001b[38;5;167;01mFileNotFoundError\u001b[39;00m(\u001b[33mf\u001b[39m\u001b[33m\"\u001b[39m\u001b[33mAudio file not found: \u001b[39m\u001b[38;5;132;01m{\u001b[39;00maudio_path\u001b[38;5;132;01m}\u001b[39;00m\u001b[33m\"\u001b[39m)\n",
      "\u001b[31mFileNotFoundError\u001b[39m: Image file not found: C:\\Samriddha\\opensource\\examples\\misc\\projects\\story-to-video\\stage\\tmp\\data\\images\\14.png"
     ]
    }
   ],
   "source": [
    "video_dir = data_dir / \"videos\"\n",
    "\n",
    "video_dir.mkdir(parents=True, exist_ok=True)\n",
    "\n",
    "for idx, file in enumerate(files):\n",
    "    image_path = data_dir / \"images\" / f\"{idx+1}.png\"\n",
    "    audio_path = audio_dir / f\"{idx+1}.mp3\"\n",
    "    output_path = video_dir / f\"{idx+1}.mp4\"\n",
    "    create_video_with_ffmpeg(\n",
    "        str(image_path),\n",
    "        str(audio_path),\n",
    "        None,\n",
    "        str(output_path)\n",
    "    )\n",
    "    "
   ]
  },
  {
   "cell_type": "code",
   "execution_count": 58,
   "id": "144a0398-e6fa-4f11-940f-547de1228624",
   "metadata": {},
   "outputs": [
    {
     "name": "stdout",
     "output_type": "stream",
     "text": [
      "[WindowsPath('C:/Samriddha/opensource/examples/misc/projects/story-to-video/stage/tmp/data/videos/1.mp4'), WindowsPath('C:/Samriddha/opensource/examples/misc/projects/story-to-video/stage/tmp/data/videos/2.mp4'), WindowsPath('C:/Samriddha/opensource/examples/misc/projects/story-to-video/stage/tmp/data/videos/3.mp4'), WindowsPath('C:/Samriddha/opensource/examples/misc/projects/story-to-video/stage/tmp/data/videos/4.mp4'), WindowsPath('C:/Samriddha/opensource/examples/misc/projects/story-to-video/stage/tmp/data/videos/5.mp4'), WindowsPath('C:/Samriddha/opensource/examples/misc/projects/story-to-video/stage/tmp/data/videos/6.mp4'), WindowsPath('C:/Samriddha/opensource/examples/misc/projects/story-to-video/stage/tmp/data/videos/7.mp4'), WindowsPath('C:/Samriddha/opensource/examples/misc/projects/story-to-video/stage/tmp/data/videos/8.mp4'), WindowsPath('C:/Samriddha/opensource/examples/misc/projects/story-to-video/stage/tmp/data/videos/9.mp4'), WindowsPath('C:/Samriddha/opensource/examples/misc/projects/story-to-video/stage/tmp/data/videos/10.mp4'), WindowsPath('C:/Samriddha/opensource/examples/misc/projects/story-to-video/stage/tmp/data/videos/11.mp4'), WindowsPath('C:/Samriddha/opensource/examples/misc/projects/story-to-video/stage/tmp/data/videos/12.mp4'), WindowsPath('C:/Samriddha/opensource/examples/misc/projects/story-to-video/stage/tmp/data/videos/13.mp4')]\n"
     ]
    }
   ],
   "source": [
    "videos = [(video_dir / file) for file in sorted(os.listdir(video_dir)\n",
    "    , key=lambda x: int(x.split('.')[0]) if x.split('.')[0].isdigit() else 0)]\n",
    "\n",
    "print(videos)"
   ]
  },
  {
   "cell_type": "code",
   "execution_count": 59,
   "id": "285adac3-fa82-4df9-972f-14261a84c498",
   "metadata": {},
   "outputs": [],
   "source": [
    "with open(data_dir / \"scenes.txt\", \"w\") as f:\n",
    "    for video in videos:\n",
    "        # Convert path to forward slashes\n",
    "        path_str = video.as_posix()  # works if video is a Path object\n",
    "        f.write(f\"file '{path_str}'\\n\")\n"
   ]
  },
  {
   "cell_type": "code",
   "execution_count": 60,
   "id": "648c8ac5-fc49-40f9-adb5-def1fc275ed9",
   "metadata": {},
   "outputs": [
    {
     "name": "stdout",
     "output_type": "stream",
     "text": [
      "Video concatenation successful!\n"
     ]
    }
   ],
   "source": [
    "import subprocess\n",
    "try:\n",
    "    subprocess.run([\n",
    "        \"ffmpeg\",\n",
    "        \"-f\", \"concat\",\n",
    "        \"-safe\", \"0\",\n",
    "        \"-i\", str(data_dir / \"scenes.txt\"),\n",
    "        \"-c:v\", \"libx264\",   # re-encode video\n",
    "        \"-crf\", \"23\",        # quality\n",
    "        \"-preset\", \"fast\",\n",
    "        \"-c:a\", \"aac\",       # audio codec\n",
    "        \"-b:a\", \"192k\",\n",
    "        str(data_dir / \"story.mp4\")\n",
    "    ], check=True)\n",
    "    print(\"Video concatenation successful!\")\n",
    "except subprocess.CalledProcessError as e:\n",
    "    print(\"FFmpeg failed with exit code:\", e.returncode)"
   ]
  },
  {
   "cell_type": "code",
   "execution_count": null,
   "id": "4de1935b-ba85-4721-9682-9da79e6b769b",
   "metadata": {},
   "outputs": [],
   "source": []
  }
 ],
 "metadata": {
  "kernelspec": {
   "display_name": "Python 3 (ipykernel)",
   "language": "python",
   "name": "python3"
  },
  "language_info": {
   "codemirror_mode": {
    "name": "ipython",
    "version": 3
   },
   "file_extension": ".py",
   "mimetype": "text/x-python",
   "name": "python",
   "nbconvert_exporter": "python",
   "pygments_lexer": "ipython3",
   "version": "3.12.0"
  }
 },
 "nbformat": 4,
 "nbformat_minor": 5
}

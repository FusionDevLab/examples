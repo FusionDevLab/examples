{
 "cells": [
  {
   "cell_type": "markdown",
   "id": "7bfd976d-4329-4e87-b1b6-3ce8ec469f65",
   "metadata": {},
   "source": [
    "# Setup"
   ]
  },
  {
   "cell_type": "code",
   "execution_count": 1,
   "id": "32746b1a-aae8-4668-9dd1-4608d0833ba3",
   "metadata": {},
   "outputs": [],
   "source": [
    "import logging\n",
    "logger = logging.getLogger(__name__)\n",
    "logging.basicConfig(level=logging.INFO)"
   ]
  },
  {
   "cell_type": "code",
   "execution_count": 2,
   "id": "d8cb2792-1c49-4d73-88a9-265d290a5c0b",
   "metadata": {},
   "outputs": [
    {
     "name": "stdin",
     "output_type": "stream",
     "text": [
      "Enter your OpenAI API key:  ········\n"
     ]
    }
   ],
   "source": [
    "# take openai key as input secret\n",
    "import getpass\n",
    "openai_key = getpass.getpass(\"Enter your OpenAI API key: \")"
   ]
  },
  {
   "cell_type": "code",
   "execution_count": 3,
   "id": "5d582868-b11d-492c-b502-98bef8879e6a",
   "metadata": {},
   "outputs": [],
   "source": [
    "import os\n",
    "os.environ[\"OPENAI_API_KEY\"] = openai_key"
   ]
  },
  {
   "cell_type": "markdown",
   "id": "ef31361f-132c-4c94-ba49-7ffe4a2b40a6",
   "metadata": {},
   "source": [
    "# Read"
   ]
  },
  {
   "cell_type": "code",
   "execution_count": 6,
   "id": "348fbec9-be2d-4706-beb3-aaebbc5fb678",
   "metadata": {},
   "outputs": [],
   "source": [
    "import os\n",
    "import json\n",
    "from pathlib import Path\n",
    "with open(Path(os.getcwd()) / \"data\" / \"demo\" / \"board.json\", 'r', encoding='utf-8') as f:\n",
    "    result = json.load(f)"
   ]
  },
  {
   "cell_type": "code",
   "execution_count": 8,
   "id": "983c5e19-0bbd-486b-b94b-657505f5a3f5",
   "metadata": {},
   "outputs": [
    {
     "data": {
      "text/plain": [
       "20"
      ]
     },
     "execution_count": 8,
     "metadata": {},
     "output_type": "execute_result"
    }
   ],
   "source": [
    "len(result['scenes'])"
   ]
  },
  {
   "cell_type": "code",
   "execution_count": 9,
   "id": "fd95e1cc-dc5c-4327-9b6e-b84d61a6b6e6",
   "metadata": {},
   "outputs": [
    {
     "data": {
      "text/plain": [
       "{'scene_index': 1,\n",
       " 'narration_text': 'It was past 8:00 PM when Riya, Kabir, and Mehul entered the silent city of Bansipur. A faint mist curled along the cracked roads, the streetlamps flickering as if unsure they wanted to stay lit.',\n",
       " 'subtitle_text': 'The Arrival',\n",
       " 'visual_prompts': [{'stage_type': 'base',\n",
       "   'prompt': 'A car driving into a misty, deserted city at night.'},\n",
       "  {'stage_type': 'lighting',\n",
       "   'prompt': 'Streetlamps flickering, casting eerie shadows.'}],\n",
       " 'background_music': 'Low, suspenseful strings with a hint of wind howling.',\n",
       " 'animation': {'animation_type': 'Ken Burns',\n",
       "  'ffmpeg_command': '-vf zoompan=d=250:fps=25,scale=1080:1920'},\n",
       " 'duration_sec': 10,\n",
       " 'strength_from_previous': 0.5,\n",
       " 'subtitles': [{'index': 1,\n",
       "   'start_time': '00:00:01,000',\n",
       "   'end_time': '00:00:05,000',\n",
       "   'text': 'It was past 8:00 PM when Riya, Kabir, and Mehul entered the silent city of Bansipur.'},\n",
       "  {'index': 2,\n",
       "   'start_time': '00:00:05,500',\n",
       "   'end_time': '00:00:10,000',\n",
       "   'text': 'A faint mist curled along the cracked roads, the streetlamps flickering as if unsure they wanted to stay lit.'}]}"
      ]
     },
     "execution_count": 9,
     "metadata": {},
     "output_type": "execute_result"
    }
   ],
   "source": [
    "result['scenes'][0]"
   ]
  },
  {
   "cell_type": "markdown",
   "id": "e4fe09bd-a1e2-453c-9d26-081cde4a28d6",
   "metadata": {},
   "source": [
    "# Image Generation"
   ]
  },
  {
   "cell_type": "code",
   "execution_count": null,
   "id": "f875015c-2e73-47b2-aca6-e2f18ae33409",
   "metadata": {},
   "outputs": [],
   "source": [
    "api = \"http://3.143.254.8:8000\""
   ]
  },
  {
   "cell_type": "code",
   "execution_count": 10,
   "id": "06812b7a-73be-49b5-b2db-6637701fc83a",
   "metadata": {},
   "outputs": [],
   "source": [
    "import requests\n",
    "import json\n",
    "import base64\n",
    "\n",
    "_NEGATIVE_PROMPT = \"\"\"\n",
    "    blurry, low quality, \n",
    "    low resolution, bad anatomy, bad hands, \n",
    "    missing fingers, extra digit, fewer digits, \n",
    "    cropped, worst quality, low quality, \n",
    "    normal quality, jpeg artifacts, signature, watermark, username, blurry,\n",
    "    cartoon, anime, illustration, comic, flat shading\n",
    "\"\"\"\n",
    "\n",
    "_DEFAULT_PARAMS = {}\n",
    "\n",
    "def call(style: str, scenes: list[dict]):\n",
    "    path = \"/story\"\n",
    "    payload = []\n",
    "    for scene in scenes:\n",
    "        text = '\\n'.join([ prompt['prompt'] for prompt in scene['visual_prompts']])\n",
    "        text = f\"{text}{style}\"\n",
    "        scene_id = scene.get('scene_index', '')\n",
    "        payload.append({\n",
    "            'scene_id': scene_id,\n",
    "            'text': text,\n",
    "            'negative_prompt': _NEGATIVE_PROMPT\n",
    "        })\n",
    "    endpoint = f\"{api}{path}\"\n",
    "    response = requests.post(endpoint, \n",
    "                             data=json.dumps(data), \n",
    "                             headers={'Content-Type': 'application/json'},\n",
    "                             timeout=3000)\n",
    "\n",
    "    if response.status_code != 200:\n",
    "        raise RuntimeError(f\"Request failed: {response.status_code} {response.text}\")\n",
    "    else:\n",
    "        scene_images = json.loads(response.content.decode('utf-8'))\n",
    "        return scene_images"
   ]
  },
  {
   "cell_type": "code",
   "execution_count": null,
   "id": "fa6cc2f6-da14-42c8-ba87-11147f9f3b6f",
   "metadata": {},
   "outputs": [],
   "source": []
  }
 ],
 "metadata": {
  "kernelspec": {
   "display_name": "Python 3 (ipykernel)",
   "language": "python",
   "name": "python3"
  },
  "language_info": {
   "codemirror_mode": {
    "name": "ipython",
    "version": 3
   },
   "file_extension": ".py",
   "mimetype": "text/x-python",
   "name": "python",
   "nbconvert_exporter": "python",
   "pygments_lexer": "ipython3",
   "version": "3.12.0"
  }
 },
 "nbformat": 4,
 "nbformat_minor": 5
}

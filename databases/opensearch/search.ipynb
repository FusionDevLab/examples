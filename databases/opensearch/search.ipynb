{
 "cells": [
  {
   "cell_type": "markdown",
   "id": "2e7caef7-8023-4486-92b7-90a12431b3b7",
   "metadata": {
    "jp-MarkdownHeadingCollapsed": true
   },
   "source": [
    "# Initialization"
   ]
  },
  {
   "cell_type": "code",
   "execution_count": 22,
   "id": "b1ed012f-24e0-414b-a04a-f422d959cd0f",
   "metadata": {},
   "outputs": [
    {
     "data": {
      "text/plain": [
       "True"
      ]
     },
     "execution_count": 22,
     "metadata": {},
     "output_type": "execute_result"
    }
   ],
   "source": [
    "from dotenv import load_dotenv\n",
    "import os\n",
    "load_dotenv()"
   ]
  },
  {
   "cell_type": "code",
   "execution_count": 2,
   "id": "68e06ecf-bb0d-4f17-92f9-16cd374d2957",
   "metadata": {},
   "outputs": [],
   "source": [
    "import os\n",
    "import logging\n",
    "\n",
    "logger = logging.getLogger(__name__)\n",
    "logging.basicConfig(level=logging.INFO)"
   ]
  },
  {
   "cell_type": "code",
   "execution_count": 3,
   "id": "c8baa460-686b-4d46-a0b2-a836438782f6",
   "metadata": {},
   "outputs": [],
   "source": [
    "query = \"What is Land encroachment?\"\n",
    "\n",
    "opensearch_url = \"http://52.90.117.26:9200\"\n",
    "auth = (\"admin\", \"Severus11#\")\n",
    "index_name = \"lao\"\n",
    "k = 5"
   ]
  },
  {
   "cell_type": "code",
   "execution_count": 4,
   "id": "4887f817-6d4a-448e-9c49-ce4e640f63a5",
   "metadata": {},
   "outputs": [],
   "source": [
    "from langchain_openai import OpenAIEmbeddings\n",
    "embeddings = OpenAIEmbeddings(openai_api_key=os.getenv('OPENAI_API_KEY'), model=\"text-embedding-ada-002\")"
   ]
  },
  {
   "cell_type": "markdown",
   "id": "5976018c-9632-4c1a-a020-52bad711a8c7",
   "metadata": {
    "jp-MarkdownHeadingCollapsed": true
   },
   "source": [
    "# k-NN Search"
   ]
  },
  {
   "cell_type": "code",
   "execution_count": 5,
   "id": "af0f96f7-6032-44b3-815f-b788e6eeaa4b",
   "metadata": {},
   "outputs": [],
   "source": [
    "from langchain_community.vectorstores import OpenSearchVectorSearch\n",
    "client = OpenSearchVectorSearch(\n",
    "    embedding_function=embeddings,\n",
    "    index_name=index_name,\n",
    "    opensearch_url=opensearch_url,\n",
    "    http_auth=auth,\n",
    "    use_ssl = False,\n",
    "    verify_certs = False,\n",
    "    timeout=300,\n",
    "    ssl_assert_hostname = False,\n",
    "    ssl_show_warn = False,\n",
    ")"
   ]
  },
  {
   "cell_type": "code",
   "execution_count": 6,
   "id": "d3956947-4abb-4f59-b649-b803fff492fe",
   "metadata": {},
   "outputs": [
    {
     "name": "stderr",
     "output_type": "stream",
     "text": [
      "INFO:httpx:HTTP Request: POST https://api.openai.com/v1/embeddings \"HTTP/1.1 200 OK\"\n",
      "INFO:opensearch:POST http://localhost:9200/lao/_search [status:200 request:0.588s]\n",
      "INFO:__main__:[Document(page_content='Land Law of Lao PDR No.70/NA dated 21 June 2019 \\nUnofficial translation supported by LIWG and GIZ Land Program\\n \\n \\n 48 \\n3. Having competent and technical staff with at least three years of \\nexperiences with certified practical land-related work. \\n \\nArticle 158 (new) Land Business Operations \\nIndividuals, legal entities or organizations wishing to operate land \\nbusinesses shall submit the application together with supporting documents to the \\nrelevant sectors as indicated in the Law on Investment Promotion and shall request \\ntechnical authorization from the Natural Resources and Environment Sector. \\n \\nPart XI \\nProhibitions \\n \\nArticle 159. (new) Prohibitions for Individuals, Legal Entities or Organizations \\nIndividuals, legal entities or organizations, are prohibited from the \\nfollowing behaviors: \\n \\n1. encroaching or settling down in the areas of protection forest land, \\nconservation forest land, preserved watershed; \\n2. falsifying land titles, seals, signatures and other documents related to land; \\n3. using land not in accordance with its objectives and laws; \\n4. moving, altering and destroying land boundary markers; \\n5. illegally selling-purchasing land use rights; \\n6. illegally using State land including village collective land for leasing, \\nexchanging, selling, using land as guarantees or transferring the land \\nwithout authorization; \\n7. converting land category and changing land use purposes without \\nauthorization;  \\n8. infringing land use right sale contract, land lease or concession agreement; \\navoiding payment of rents or land concessions fees, royalties, land use fees, \\ntaxes, service fees; \\n9. using violence or threatening against officials or civil servants; \\n10. denying cooperation or obstructing land dispute settlement; \\n11. having other behaviors that are in violations of the laws. \\n \\nArticle 160. (new) Prohibitions for Responsible Officials and Civil Servants \\nOfficials and civil servants are prohibited from the following behaviours: \\n1. abusing power, position, duties for personal gains, for the interests of family, \\nfriends and relatives; \\n2. requesting, asking for and receiving bribes; \\n3. abusing rights and duties causing prejudice to the State interests, collective \\ngroups or people’s legitimate interests, domestic and foreign investors;', metadata={'file_path': 'C:/workspace/experiments/GenAI/Projects/Test Data/lao.pdf', 'creator': 'Microsoft® Word for Office 365', 'modDate': \"D:20200915121535+07'00'\", 'keywords': '', 'trapped': '', 'author': 'NUS', 'subject': '', 'file_name': 'lao.pdf', 'format': 'PDF 1.7', 'source': 'C:/workspace/experiments/GenAI/Projects/Test Data/lao.pdf', 'total_pages': 63, 'title': 'Copy dated 29/11/1996', 'creationDate': \"D:20200915121535+07'00'\", 'terms': ['na dated 21 june 2019 unofficial translation supported', 'illegally using state land including village collective land', 'infringing land use right sale contract', 'changing land use purposes without authorization', 'operate land businesses shall submit', 'giz land program 48 3', 'part xi prohibitions article 159', 'shall request technical authorization', 'obstructing land dispute settlement', 'destroying land boundary markers', 'purchasing land use rights', 'land business operations individuals', 'land without authorization', 'land use fees', 'protection forest land', 'falsifying land titles', 'converting land category', 'conservation forest land', 'certified practical land', 'land concessions fees', 'least three years', 'duties causing prejudice', 'using land', 'using land', 'collective groups', 'state interests', 'civil servants officials', 'illegally selling', 'land lease', 'using violence', 'land law', 'technical staff', 'article 160', 'article 158', 'abusing rights', 'civil servants', 'civil servants', 'service fees', 'supporting documents', 'responsible officials', 'relevant sectors', 'related work', 'receiving bribes', 'preserved watershed', 'personal gains', 'people ’', 'organizations individuals', 'natural resources', 'legal entities', 'legal entities', 'legal entities', 'lao pdr', 'investment promotion', 'foreign investors', 'following behaviours', 'environment sector', 'documents related', 'denying cooperation', 'concession agreement', 'avoiding payment', 'application together', 'abusing power', 'land', 'organizations wishing', 'legitimate interests', 'following behaviors', 'prohibitions', 'prohibitions', 'individuals', '3', '3', 'officials', 'duties', 'organizations', 'interests', 'selling', 'law', 'behaviors', 'violations', 'transferring', 'threatening', 'taxes', 'signatures', 'settling', 'seals', 'royalties', 'requesting', 'rents', 'relatives', 'prohibited', 'prohibited', 'position', 'objectives', 'new', 'new', 'new', 'moving', 'liwg', 'leasing', 'laws', 'laws', 'indicated', 'guarantees', 'friends', 'family', 'experiences', 'exchanging', 'encroaching', 'domestic', 'competent', 'asking', 'areas', 'altering', 'accordance', '9', '8', '70', '7', '6', '5', '4', '2', '2', '11', '10', '1', '1'], 'producer': 'Microsoft® Word for Office 365', 'page': 48}), Document(page_content='Land Law of Lao PDR No.70/NA dated 21 June 2019 \\nUnofficial translation supported by LIWG and GIZ Land Program\\n \\n \\n \\n1 \\n \\nThe State grants the rights to armed forces, The Party and State \\norganizations, Lao Front for National Development, Lao Federation of Veterans, \\nmass organizations to manage and use State land. \\n  \\nAliens, stateless persons, foreign individuals, foreign nationals of Lao \\nancestry have the rights to lease, receive concession of State land or purchase \\nallocated State land use rights with determined timeframe and to lease the land of \\nLao citizens. Their organizations that have been established with the authorization \\nof the State, have the right only to lease or receive concession of State land and \\nlease land of Lao citizens. \\n \\nThe State acknowledges the right to use surface land only, while all \\nunderground and surface natural resources belong to the National Community. \\n \\nThe State will re-acquire the land use right back from the users of those \\nlands in case of necessity and for national interests by paying compensation for the \\ndamages caused by the reacquisition.  \\n \\nThe State will revoke the land use rights without paying any compensation \\nto the land right users in case of infringement of laws or contracts. \\n \\nArticle 4. (new) Definition of Terms \\nThe terms used in this Law have the following definitions: \\n \\n1. Land surface refers to the surface of all land parcels with trees, non-timber \\nforest products, plants, biodiversity, water, minerals, etc.; \\n2. Underground land refers to underground layer of land with soil layers, stone \\nlayers, underground water, gas, minerals, etc.; \\n3. Island refers to natural or newly emerged land in water areas; \\n4. Submerged land refers to soil laying beneath water with aquatic animal and \\nplants, mineral, etc.; \\n5. Taking possession of land means unauthorized occupation of land under \\nvarious forms;  \\n6. Land encroachment means the violation of land use rights of the State, \\nindividuals, entities and organizations including aliens, stateless persons, \\nforeigners, foreign national of Lao ancestry and their organizations by abusing \\npowers, position, authorities, duties for personal benefits; \\n7. State land use rights refers to the land use rights of The Party and State \\norganizations, Lao Front for National Development, Lao Federation of Veterans \\nand mass organizations including lands which are permanently granted by the \\nState or which are received through purchase of allocated State land use right \\nwith determined timeframe to be used for specific purposes in accordance with \\nState land allocation plan and land use plan;  \\n8. Individual land use rights refer to the land use rights of Lao citizens who have \\nlawful land title for the land;', metadata={'file_path': 'C:/workspace/experiments/GenAI/Projects/Test Data/lao.pdf', 'creator': 'Microsoft® Word for Office 365', 'modDate': \"D:20200915121535+07'00'\", 'keywords': '', 'trapped': '', 'author': 'NUS', 'subject': '', 'file_name': 'lao.pdf', 'format': 'PDF 1.7', 'source': 'C:/workspace/experiments/GenAI/Projects/Test Data/lao.pdf', 'total_pages': 63, 'title': 'Copy dated 29/11/1996', 'creationDate': \"D:20200915121535+07'00'\", 'terms': ['na dated 21 june 2019 unofficial translation supported', 'purchase allocated state land use rights', 'individual land use rights refer', 'land use rights without paying', 'allocated state land use right', 'state land use rights refers', 'land means unauthorized occupation', 'land use right back', 'giz land program 1', 'surface natural resources belong', 'soil laying beneath water', 'state land allocation plan', 'mass organizations including lands', 'land use rights', 'land use rights', 'land use rights', 'land use plan', 'use surface land', 'use state land', 'land encroachment means', 'submerged land refers', 'newly emerged land', 'lawful land title', 'land surface refers', 'timber forest products', 'underground land refers', 'land right users', 'organizations including aliens', 'state land', 'state land', 'island refers', 'mass organizations', 'land parcels', 'soil layers', 'paying compensation', 'state organizations', 'state organizations', 'land law', 'state grants', 'state acknowledges', 'lease land', 'water areas', 'underground water', 'various forms', 'underground layer', 'taking possession', 'stone layers', 'stateless persons', 'stateless persons', 'specific purposes', 'receive concession', 'receive concession', 'personal benefits', 'permanently granted', 'national interests', 'national development', 'national development', 'national community', 'lao pdr', 'lao front', 'lao front', 'lao federation', 'lao federation', 'lao citizens', 'lao citizens', 'lao citizens', 'lao ancestry', 'lao ancestry', 'foreign nationals', 'foreign national', 'following definitions', 'determined timeframe', 'determined timeframe', 'damages caused', 'armed forces', 'aquatic animal', 'abusing powers', 'rights', 'rights', 'purchase', 'foreign individuals', 'article 4', 'land', 'land', 'land', 'land', 'terms used', 'right', 'right', 'surface', 'state', 'state', 'state', 'state', 'state', 'natural', 'lands', '1', 'water', 'organizations', 'organizations', 'users', 'underground', 'aliens', 'used', 'terms', 'law', 'individuals', 'compensation', '4', 'lease', 'lease', 'lease', 'violation', 'veterans', 'veterans', 'trees', 'revoke', 'received', 'reacquisition', 'position', 'plants', 'plants', 'party', 'party', 'non', 'new', 'necessity', 'minerals', 'minerals', 'mineral', 'manage', 'liwg', 'laws', 'infringement', 'gas', 'foreigners', 'etc', 'etc', 'etc', 'established', 'entities', 'duties', 'definition', 'contracts', 'case', 'case', 'biodiversity', 'authorization', 'authorities', 'acquire', 'accordance', '8', '70', '7', '6', '5', '3', '2'], 'producer': 'Microsoft® Word for Office 365', 'page': 1})]\n"
     ]
    }
   ],
   "source": [
    "knndocs = client.similarity_search(\n",
    "    query,\n",
    "    search_type=\"painless_scripting\",\n",
    "    space_type=\"cosineSimilarity\",\n",
    "    k=k\n",
    ")\n",
    "logger.info(knndocs[:2])"
   ]
  },
  {
   "cell_type": "markdown",
   "id": "8a6bd575-0aa3-4650-a044-e1c5a4083ccc",
   "metadata": {
    "jp-MarkdownHeadingCollapsed": true
   },
   "source": [
    "# Neural Search"
   ]
  },
  {
   "cell_type": "code",
   "execution_count": 7,
   "id": "7cbe5f51-e39a-484b-9a5b-9036afc1311e",
   "metadata": {},
   "outputs": [],
   "source": [
    "neural_search_query = {\n",
    "    'size': k,\n",
    "    'query': {\n",
    "        \"neural\": {\n",
    "            \"bert_embeddings\": {\n",
    "                \"query_text\": query,\n",
    "                \"model_id\": \"vERhsZABary_bsUAiOG2\",\n",
    "                \"k\": k\n",
    "            }\n",
    "        }\n",
    "    }\n",
    "}\n"
   ]
  },
  {
   "cell_type": "code",
   "execution_count": 8,
   "id": "bc2bead3-96b0-41f1-a219-f6583c70e519",
   "metadata": {},
   "outputs": [
    {
     "name": "stderr",
     "output_type": "stream",
     "text": [
      "INFO:opensearch:POST http://localhost:9200/lao/_search [status:200 request:3.005s]\n",
      "INFO:__main__:[Document(page_content='Land Law of Lao PDR No.70/NA dated 21 June 2019 \\nUnofficial translation supported by LIWG and GIZ Land Program\\n \\n \\n \\n1 \\n \\nThe State grants the rights to armed forces, The Party and State \\norganizations, Lao Front for National Development, Lao Federation of Veterans, \\nmass organizations to manage and use State land. \\n  \\nAliens, stateless persons, foreign individuals, foreign nationals of Lao \\nancestry have the rights to lease, receive concession of State land or purchase \\nallocated State land use rights with determined timeframe and to lease the land of \\nLao citizens. Their organizations that have been established with the authorization \\nof the State, have the right only to lease or receive concession of State land and \\nlease land of Lao citizens. \\n \\nThe State acknowledges the right to use surface land only, while all \\nunderground and surface natural resources belong to the National Community. \\n \\nThe State will re-acquire the land use right back from the users of those \\nlands in case of necessity and for national interests by paying compensation for the \\ndamages caused by the reacquisition.  \\n \\nThe State will revoke the land use rights without paying any compensation \\nto the land right users in case of infringement of laws or contracts. \\n \\nArticle 4. (new) Definition of Terms \\nThe terms used in this Law have the following definitions: \\n \\n1. Land surface refers to the surface of all land parcels with trees, non-timber \\nforest products, plants, biodiversity, water, minerals, etc.; \\n2. Underground land refers to underground layer of land with soil layers, stone \\nlayers, underground water, gas, minerals, etc.; \\n3. Island refers to natural or newly emerged land in water areas; \\n4. Submerged land refers to soil laying beneath water with aquatic animal and \\nplants, mineral, etc.; \\n5. Taking possession of land means unauthorized occupation of land under \\nvarious forms;  \\n6. Land encroachment means the violation of land use rights of the State, \\nindividuals, entities and organizations including aliens, stateless persons, \\nforeigners, foreign national of Lao ancestry and their organizations by abusing \\npowers, position, authorities, duties for personal benefits; \\n7. State land use rights refers to the land use rights of The Party and State \\norganizations, Lao Front for National Development, Lao Federation of Veterans \\nand mass organizations including lands which are permanently granted by the \\nState or which are received through purchase of allocated State land use right \\nwith determined timeframe to be used for specific purposes in accordance with \\nState land allocation plan and land use plan;  \\n8. Individual land use rights refer to the land use rights of Lao citizens who have \\nlawful land title for the land;', metadata={'file_path': 'C:/workspace/experiments/GenAI/Projects/Test Data/lao.pdf', 'creator': 'Microsoft® Word for Office 365', 'modDate': \"D:20200915121535+07'00'\", 'keywords': '', 'trapped': '', 'author': 'NUS', 'subject': '', 'file_name': 'lao.pdf', 'format': 'PDF 1.7', 'source': 'C:/workspace/experiments/GenAI/Projects/Test Data/lao.pdf', 'total_pages': 63, 'title': 'Copy dated 29/11/1996', 'creationDate': \"D:20200915121535+07'00'\", 'terms': ['na dated 21 june 2019 unofficial translation supported', 'purchase allocated state land use rights', 'individual land use rights refer', 'land use rights without paying', 'allocated state land use right', 'state land use rights refers', 'land means unauthorized occupation', 'land use right back', 'giz land program 1', 'surface natural resources belong', 'soil laying beneath water', 'state land allocation plan', 'mass organizations including lands', 'land use rights', 'land use rights', 'land use rights', 'land use plan', 'use surface land', 'use state land', 'land encroachment means', 'submerged land refers', 'newly emerged land', 'lawful land title', 'land surface refers', 'timber forest products', 'underground land refers', 'land right users', 'organizations including aliens', 'state land', 'state land', 'island refers', 'mass organizations', 'land parcels', 'soil layers', 'paying compensation', 'state organizations', 'state organizations', 'land law', 'state grants', 'state acknowledges', 'lease land', 'water areas', 'underground water', 'various forms', 'underground layer', 'taking possession', 'stone layers', 'stateless persons', 'stateless persons', 'specific purposes', 'receive concession', 'receive concession', 'personal benefits', 'permanently granted', 'national interests', 'national development', 'national development', 'national community', 'lao pdr', 'lao front', 'lao front', 'lao federation', 'lao federation', 'lao citizens', 'lao citizens', 'lao citizens', 'lao ancestry', 'lao ancestry', 'foreign nationals', 'foreign national', 'following definitions', 'determined timeframe', 'determined timeframe', 'damages caused', 'armed forces', 'aquatic animal', 'abusing powers', 'rights', 'rights', 'purchase', 'foreign individuals', 'article 4', 'land', 'land', 'land', 'land', 'terms used', 'right', 'right', 'surface', 'state', 'state', 'state', 'state', 'state', 'natural', 'lands', '1', 'water', 'organizations', 'organizations', 'users', 'underground', 'aliens', 'used', 'terms', 'law', 'individuals', 'compensation', '4', 'lease', 'lease', 'lease', 'violation', 'veterans', 'veterans', 'trees', 'revoke', 'received', 'reacquisition', 'position', 'plants', 'plants', 'party', 'party', 'non', 'new', 'necessity', 'minerals', 'minerals', 'mineral', 'manage', 'liwg', 'laws', 'infringement', 'gas', 'foreigners', 'etc', 'etc', 'etc', 'established', 'entities', 'duties', 'definition', 'contracts', 'case', 'case', 'biodiversity', 'authorization', 'authorities', 'acquire', 'accordance', '8', '70', '7', '6', '5', '3', '2'], 'producer': 'Microsoft® Word for Office 365', 'page': 1}), Document(page_content='Land Law of Lao PDR No.70/NA dated 21 June 2019 \\nUnofficial translation supported by LIWG and GIZ Land Program\\n \\n \\n \\n5 \\n \\nArticle 7. (amended) Protection of the Rights and Interests of the Holder of Land  \\nUse Rights \\nThe State protects the rights and lawful interests of the holder of land use \\nrights including assets on the land surface in an effective, peaceful, regular and \\nlong-term manner. \\n \\nArticle 8. (amended) Unauthorized Land Possession and Encroachment \\nThe States does not allow individuals, legal entities and organizations to \\ntake possession of and to encroach onto land. \\n \\nThe illegal possession and encroachment of lands are subject to legal \\nsanctions and confiscation of the land. In case there are buildings or activities on \\nthe land, the buildings shall be demolished and the activities shall be ceased \\nwithout any compensation from the State.  \\n \\nArticle 9. (new). Scope of the Law Application \\nThis Law is applied to individuals, legal entities and organizations \\nincluding aliens, stateless persons, foreigners, foreign nationals of Lao ancestry \\nand their organizations who reside and operate in the territory of Lao PDR. \\n \\nArticle 10. (new) International Cooperation \\nThe State promotes international and regional cooperation through \\nexchange of experiences, information, sciences, techniques, technologies, \\ntrainings and capacity building to ensure efficiency and to implement the Treaties \\nand Conventions to which Lao PDR is a party. \\n \\n \\nPart II \\nLand Allocation Master Plan, Land Use Strategy and Land Use Plan \\n \\nSection 1 \\nLand Allocation Master Plan \\n \\nArticle 11. (new) Land Allocation Master Plan \\nThe Land Allocation Master Plan is a systematic determination of zone and \\ncategory of land in consistency with the characteristics and potentials of the natural \\nresources, geographical locations and specificities of each locality with a view to \\nprotecting the environment, meeting the needs of the nation’s sustainable \\ndevelopment direction and the national defense and security tasks. \\n \\n \\nLand Allocation Master Plan comprises of: \\n1. \\n National Land Allocation Master Plan \\n2. \\n Local Land Allocation Plan', metadata={'file_path': 'C:/workspace/experiments/GenAI/Projects/Test Data/lao.pdf', 'creator': 'Microsoft® Word for Office 365', 'modDate': \"D:20200915121535+07'00'\", 'keywords': '', 'trapped': '', 'author': 'NUS', 'subject': '', 'file_name': 'lao.pdf', 'format': 'PDF 1.7', 'source': 'C:/workspace/experiments/GenAI/Projects/Test Data/lao.pdf', 'total_pages': 63, 'title': 'Copy dated 29/11/1996', 'creationDate': \"D:20200915121535+07'00'\", 'terms': ['land use plan section 1 land allocation master plan article 11', 'na dated 21 june 2019 unofficial translation supported', 'part ii land allocation master plan', 'giz land program 5 article 7', 'national land allocation master plan 2', 'land allocation master plan comprises', 'land allocation master plan', 'land allocation master plan', 'land use rights including assets', 'local land allocation plan', 'land use strategy', 'land use rights', 'encroach onto land', 'unauthorized land possession', 'sustainable development direction', 'organizations including aliens', 'state promotes international', 'article 9', 'article 8', 'article 10', 'land surface', 'national defense', '1', 'land law', 'international cooperation', 'take possession', 'illegal possession', 'land', 'land', 'land', 'term manner', 'systematic determination', 'stateless persons', 'state protects', 'security tasks', 'regional cooperation', 'natural resources', 'nation ’', 'legal sanctions', 'legal entities', 'legal entities', 'lao pdr', 'lao pdr', 'lao pdr', 'lao ancestry', 'geographical locations', 'foreign nationals', 'ensure efficiency', 'ceased without', 'capacity building', 'law application', 'lawful interests', 'buildings shall', 'allow individuals', 'activities shall', 'new ).', 'rights', 'rights', 'state', 'organizations', 'organizations', 'law', 'interests', 'individuals', 'buildings', 'activities', 'new', 'new', 'zone', 'view', 'treaties', 'trainings', 'territory', 'technologies', 'techniques', 'subject', 'states', 'specificities', 'scope', 'sciences', 'reside', 'regular', 'protection', 'protecting', 'potentials', 'peaceful', 'party', 'operate', 'needs', 'meeting', 'long', 'locality', 'liwg', 'lands', 'information', 'implement', 'holder', 'holder', 'foreigners', 'experiences', 'exchange', 'environment', 'encroachment', 'encroachment', 'effective', 'demolished', 'conventions', 'consistency', 'confiscation', 'compensation', 'characteristics', 'category', 'case', 'applied', 'amended', 'amended', '70'], 'producer': 'Microsoft® Word for Office 365', 'page': 5})]\n"
     ]
    }
   ],
   "source": [
    "from langchain.schema.document import Document\n",
    "\n",
    "neural_response = client.client.search(\n",
    "    body = neural_search_query,\n",
    "    index = index_name\n",
    ")\n",
    "neuraldocs = []\n",
    "for item in neural_response['hits']['hits']:\n",
    "    neuraldocs.append(Document(page_content=item['_source']['text'], metadata=item['_source']['metadata']))\n",
    "\n",
    "logger.info(neuraldocs[:2])"
   ]
  },
  {
   "cell_type": "markdown",
   "id": "5f34e151-cf53-4914-bb13-585b165f7a48",
   "metadata": {
    "jp-MarkdownHeadingCollapsed": true
   },
   "source": [
    "# Neural Sparse Search"
   ]
  },
  {
   "cell_type": "code",
   "execution_count": 9,
   "id": "704c02d0-b084-4608-b77b-efcee95c17ea",
   "metadata": {},
   "outputs": [],
   "source": [
    "neural_sparse_search_query = {\n",
    "    'size': k,\n",
    "    'query': {\n",
    "        \"neural_sparse\": {\n",
    "            \"oss_sparse_embeddings\": {\n",
    "                \"query_text\": query,\n",
    "                \"model_id\": \"vURhsZABary_bsUAieFJ\"\n",
    "            }\n",
    "        }\n",
    "    }\n",
    "}\n"
   ]
  },
  {
   "cell_type": "code",
   "execution_count": 10,
   "id": "3665a862-b96b-4940-b102-a7271c44d099",
   "metadata": {},
   "outputs": [
    {
     "name": "stderr",
     "output_type": "stream",
     "text": [
      "INFO:opensearch:POST http://localhost:9200/lao/_search [status:200 request:6.083s]\n",
      "INFO:__main__:[Document(page_content='Land Law of Lao PDR No.70/NA dated 21 June 2019 \\nUnofficial translation supported by LIWG and GIZ Land Program\\n \\n \\n \\n5 \\n \\nArticle 7. (amended) Protection of the Rights and Interests of the Holder of Land  \\nUse Rights \\nThe State protects the rights and lawful interests of the holder of land use \\nrights including assets on the land surface in an effective, peaceful, regular and \\nlong-term manner. \\n \\nArticle 8. (amended) Unauthorized Land Possession and Encroachment \\nThe States does not allow individuals, legal entities and organizations to \\ntake possession of and to encroach onto land. \\n \\nThe illegal possession and encroachment of lands are subject to legal \\nsanctions and confiscation of the land. In case there are buildings or activities on \\nthe land, the buildings shall be demolished and the activities shall be ceased \\nwithout any compensation from the State.  \\n \\nArticle 9. (new). Scope of the Law Application \\nThis Law is applied to individuals, legal entities and organizations \\nincluding aliens, stateless persons, foreigners, foreign nationals of Lao ancestry \\nand their organizations who reside and operate in the territory of Lao PDR. \\n \\nArticle 10. (new) International Cooperation \\nThe State promotes international and regional cooperation through \\nexchange of experiences, information, sciences, techniques, technologies, \\ntrainings and capacity building to ensure efficiency and to implement the Treaties \\nand Conventions to which Lao PDR is a party. \\n \\n \\nPart II \\nLand Allocation Master Plan, Land Use Strategy and Land Use Plan \\n \\nSection 1 \\nLand Allocation Master Plan \\n \\nArticle 11. (new) Land Allocation Master Plan \\nThe Land Allocation Master Plan is a systematic determination of zone and \\ncategory of land in consistency with the characteristics and potentials of the natural \\nresources, geographical locations and specificities of each locality with a view to \\nprotecting the environment, meeting the needs of the nation’s sustainable \\ndevelopment direction and the national defense and security tasks. \\n \\n \\nLand Allocation Master Plan comprises of: \\n1. \\n National Land Allocation Master Plan \\n2. \\n Local Land Allocation Plan', metadata={'file_path': 'C:/workspace/experiments/GenAI/Projects/Test Data/lao.pdf', 'creator': 'Microsoft® Word for Office 365', 'modDate': \"D:20200915121535+07'00'\", 'keywords': '', 'trapped': '', 'author': 'NUS', 'subject': '', 'file_name': 'lao.pdf', 'format': 'PDF 1.7', 'source': 'C:/workspace/experiments/GenAI/Projects/Test Data/lao.pdf', 'total_pages': 63, 'title': 'Copy dated 29/11/1996', 'creationDate': \"D:20200915121535+07'00'\", 'terms': ['land use plan section 1 land allocation master plan article 11', 'na dated 21 june 2019 unofficial translation supported', 'part ii land allocation master plan', 'giz land program 5 article 7', 'national land allocation master plan 2', 'land allocation master plan comprises', 'land allocation master plan', 'land allocation master plan', 'land use rights including assets', 'local land allocation plan', 'land use strategy', 'land use rights', 'encroach onto land', 'unauthorized land possession', 'sustainable development direction', 'organizations including aliens', 'state promotes international', 'article 9', 'article 8', 'article 10', 'land surface', 'national defense', '1', 'land law', 'international cooperation', 'take possession', 'illegal possession', 'land', 'land', 'land', 'term manner', 'systematic determination', 'stateless persons', 'state protects', 'security tasks', 'regional cooperation', 'natural resources', 'nation ’', 'legal sanctions', 'legal entities', 'legal entities', 'lao pdr', 'lao pdr', 'lao pdr', 'lao ancestry', 'geographical locations', 'foreign nationals', 'ensure efficiency', 'ceased without', 'capacity building', 'law application', 'lawful interests', 'buildings shall', 'allow individuals', 'activities shall', 'new ).', 'rights', 'rights', 'state', 'organizations', 'organizations', 'law', 'interests', 'individuals', 'buildings', 'activities', 'new', 'new', 'zone', 'view', 'treaties', 'trainings', 'territory', 'technologies', 'techniques', 'subject', 'states', 'specificities', 'scope', 'sciences', 'reside', 'regular', 'protection', 'protecting', 'potentials', 'peaceful', 'party', 'operate', 'needs', 'meeting', 'long', 'locality', 'liwg', 'lands', 'information', 'implement', 'holder', 'holder', 'foreigners', 'experiences', 'exchange', 'environment', 'encroachment', 'encroachment', 'effective', 'demolished', 'conventions', 'consistency', 'confiscation', 'compensation', 'characteristics', 'category', 'case', 'applied', 'amended', 'amended', '70'], 'producer': 'Microsoft® Word for Office 365', 'page': 5}), Document(page_content='Land Law of Lao PDR No.70/NA dated 21 June 2019 \\nUnofficial translation supported by LIWG and GIZ Land Program\\n \\n \\n \\n1 \\n \\nThe State grants the rights to armed forces, The Party and State \\norganizations, Lao Front for National Development, Lao Federation of Veterans, \\nmass organizations to manage and use State land. \\n  \\nAliens, stateless persons, foreign individuals, foreign nationals of Lao \\nancestry have the rights to lease, receive concession of State land or purchase \\nallocated State land use rights with determined timeframe and to lease the land of \\nLao citizens. Their organizations that have been established with the authorization \\nof the State, have the right only to lease or receive concession of State land and \\nlease land of Lao citizens. \\n \\nThe State acknowledges the right to use surface land only, while all \\nunderground and surface natural resources belong to the National Community. \\n \\nThe State will re-acquire the land use right back from the users of those \\nlands in case of necessity and for national interests by paying compensation for the \\ndamages caused by the reacquisition.  \\n \\nThe State will revoke the land use rights without paying any compensation \\nto the land right users in case of infringement of laws or contracts. \\n \\nArticle 4. (new) Definition of Terms \\nThe terms used in this Law have the following definitions: \\n \\n1. Land surface refers to the surface of all land parcels with trees, non-timber \\nforest products, plants, biodiversity, water, minerals, etc.; \\n2. Underground land refers to underground layer of land with soil layers, stone \\nlayers, underground water, gas, minerals, etc.; \\n3. Island refers to natural or newly emerged land in water areas; \\n4. Submerged land refers to soil laying beneath water with aquatic animal and \\nplants, mineral, etc.; \\n5. Taking possession of land means unauthorized occupation of land under \\nvarious forms;  \\n6. Land encroachment means the violation of land use rights of the State, \\nindividuals, entities and organizations including aliens, stateless persons, \\nforeigners, foreign national of Lao ancestry and their organizations by abusing \\npowers, position, authorities, duties for personal benefits; \\n7. State land use rights refers to the land use rights of The Party and State \\norganizations, Lao Front for National Development, Lao Federation of Veterans \\nand mass organizations including lands which are permanently granted by the \\nState or which are received through purchase of allocated State land use right \\nwith determined timeframe to be used for specific purposes in accordance with \\nState land allocation plan and land use plan;  \\n8. Individual land use rights refer to the land use rights of Lao citizens who have \\nlawful land title for the land;', metadata={'file_path': 'C:/workspace/experiments/GenAI/Projects/Test Data/lao.pdf', 'creator': 'Microsoft® Word for Office 365', 'modDate': \"D:20200915121535+07'00'\", 'keywords': '', 'trapped': '', 'author': 'NUS', 'subject': '', 'file_name': 'lao.pdf', 'format': 'PDF 1.7', 'source': 'C:/workspace/experiments/GenAI/Projects/Test Data/lao.pdf', 'total_pages': 63, 'title': 'Copy dated 29/11/1996', 'creationDate': \"D:20200915121535+07'00'\", 'terms': ['na dated 21 june 2019 unofficial translation supported', 'purchase allocated state land use rights', 'individual land use rights refer', 'land use rights without paying', 'allocated state land use right', 'state land use rights refers', 'land means unauthorized occupation', 'land use right back', 'giz land program 1', 'surface natural resources belong', 'soil laying beneath water', 'state land allocation plan', 'mass organizations including lands', 'land use rights', 'land use rights', 'land use rights', 'land use plan', 'use surface land', 'use state land', 'land encroachment means', 'submerged land refers', 'newly emerged land', 'lawful land title', 'land surface refers', 'timber forest products', 'underground land refers', 'land right users', 'organizations including aliens', 'state land', 'state land', 'island refers', 'mass organizations', 'land parcels', 'soil layers', 'paying compensation', 'state organizations', 'state organizations', 'land law', 'state grants', 'state acknowledges', 'lease land', 'water areas', 'underground water', 'various forms', 'underground layer', 'taking possession', 'stone layers', 'stateless persons', 'stateless persons', 'specific purposes', 'receive concession', 'receive concession', 'personal benefits', 'permanently granted', 'national interests', 'national development', 'national development', 'national community', 'lao pdr', 'lao front', 'lao front', 'lao federation', 'lao federation', 'lao citizens', 'lao citizens', 'lao citizens', 'lao ancestry', 'lao ancestry', 'foreign nationals', 'foreign national', 'following definitions', 'determined timeframe', 'determined timeframe', 'damages caused', 'armed forces', 'aquatic animal', 'abusing powers', 'rights', 'rights', 'purchase', 'foreign individuals', 'article 4', 'land', 'land', 'land', 'land', 'terms used', 'right', 'right', 'surface', 'state', 'state', 'state', 'state', 'state', 'natural', 'lands', '1', 'water', 'organizations', 'organizations', 'users', 'underground', 'aliens', 'used', 'terms', 'law', 'individuals', 'compensation', '4', 'lease', 'lease', 'lease', 'violation', 'veterans', 'veterans', 'trees', 'revoke', 'received', 'reacquisition', 'position', 'plants', 'plants', 'party', 'party', 'non', 'new', 'necessity', 'minerals', 'minerals', 'mineral', 'manage', 'liwg', 'laws', 'infringement', 'gas', 'foreigners', 'etc', 'etc', 'etc', 'established', 'entities', 'duties', 'definition', 'contracts', 'case', 'case', 'biodiversity', 'authorization', 'authorities', 'acquire', 'accordance', '8', '70', '7', '6', '5', '3', '2'], 'producer': 'Microsoft® Word for Office 365', 'page': 1})]\n"
     ]
    }
   ],
   "source": [
    "from langchain.schema.document import Document\n",
    "\n",
    "neural_sparse_response = client.client.search(\n",
    "    body = neural_sparse_search_query,\n",
    "    index = index_name\n",
    ")\n",
    "neuralsparsedocs = []\n",
    "for item in neural_sparse_response['hits']['hits']:\n",
    "    neuralsparsedocs.append(Document(page_content=item['_source']['text'], metadata=item['_source']['metadata']))\n",
    "\n",
    "logger.info(neuralsparsedocs[:2])"
   ]
  },
  {
   "cell_type": "markdown",
   "id": "6bbaf0ed-51c0-4418-8eda-364af2c3b637",
   "metadata": {
    "jp-MarkdownHeadingCollapsed": true
   },
   "source": [
    "# Keyword Search - BM25(tf-idf)"
   ]
  },
  {
   "cell_type": "code",
   "execution_count": 11,
   "id": "c3a7ca54-23c9-4bc8-8cf6-da29e9943bcc",
   "metadata": {},
   "outputs": [],
   "source": [
    "keyword_search_query = {\n",
    "    'size': k,\n",
    "    'query': {\n",
    "        \"match\": {\n",
    "            \"text\": {\n",
    "                \"query\": query,\n",
    "                \"analyzer\": \"english\"\n",
    "            }\n",
    "        }\n",
    "    }\n",
    "}\n"
   ]
  },
  {
   "cell_type": "code",
   "execution_count": 12,
   "id": "498d0a4a-490b-446a-b93f-413f5c797b0f",
   "metadata": {},
   "outputs": [
    {
     "name": "stderr",
     "output_type": "stream",
     "text": [
      "INFO:opensearch:POST http://localhost:9200/lao/_search [status:200 request:0.134s]\n",
      "INFO:__main__:[Document(page_content='Land Law of Lao PDR No.70/NA dated 21 June 2019 \\nUnofficial translation supported by LIWG and GIZ Land Program\\n \\n \\n \\n5 \\n \\nArticle 7. (amended) Protection of the Rights and Interests of the Holder of Land  \\nUse Rights \\nThe State protects the rights and lawful interests of the holder of land use \\nrights including assets on the land surface in an effective, peaceful, regular and \\nlong-term manner. \\n \\nArticle 8. (amended) Unauthorized Land Possession and Encroachment \\nThe States does not allow individuals, legal entities and organizations to \\ntake possession of and to encroach onto land. \\n \\nThe illegal possession and encroachment of lands are subject to legal \\nsanctions and confiscation of the land. In case there are buildings or activities on \\nthe land, the buildings shall be demolished and the activities shall be ceased \\nwithout any compensation from the State.  \\n \\nArticle 9. (new). Scope of the Law Application \\nThis Law is applied to individuals, legal entities and organizations \\nincluding aliens, stateless persons, foreigners, foreign nationals of Lao ancestry \\nand their organizations who reside and operate in the territory of Lao PDR. \\n \\nArticle 10. (new) International Cooperation \\nThe State promotes international and regional cooperation through \\nexchange of experiences, information, sciences, techniques, technologies, \\ntrainings and capacity building to ensure efficiency and to implement the Treaties \\nand Conventions to which Lao PDR is a party. \\n \\n \\nPart II \\nLand Allocation Master Plan, Land Use Strategy and Land Use Plan \\n \\nSection 1 \\nLand Allocation Master Plan \\n \\nArticle 11. (new) Land Allocation Master Plan \\nThe Land Allocation Master Plan is a systematic determination of zone and \\ncategory of land in consistency with the characteristics and potentials of the natural \\nresources, geographical locations and specificities of each locality with a view to \\nprotecting the environment, meeting the needs of the nation’s sustainable \\ndevelopment direction and the national defense and security tasks. \\n \\n \\nLand Allocation Master Plan comprises of: \\n1. \\n National Land Allocation Master Plan \\n2. \\n Local Land Allocation Plan', metadata={'file_path': 'C:/workspace/experiments/GenAI/Projects/Test Data/lao.pdf', 'creator': 'Microsoft® Word for Office 365', 'modDate': \"D:20200915121535+07'00'\", 'keywords': '', 'trapped': '', 'author': 'NUS', 'subject': '', 'file_name': 'lao.pdf', 'format': 'PDF 1.7', 'source': 'C:/workspace/experiments/GenAI/Projects/Test Data/lao.pdf', 'total_pages': 63, 'title': 'Copy dated 29/11/1996', 'creationDate': \"D:20200915121535+07'00'\", 'terms': ['land use plan section 1 land allocation master plan article 11', 'na dated 21 june 2019 unofficial translation supported', 'part ii land allocation master plan', 'giz land program 5 article 7', 'national land allocation master plan 2', 'land allocation master plan comprises', 'land allocation master plan', 'land allocation master plan', 'land use rights including assets', 'local land allocation plan', 'land use strategy', 'land use rights', 'encroach onto land', 'unauthorized land possession', 'sustainable development direction', 'organizations including aliens', 'state promotes international', 'article 9', 'article 8', 'article 10', 'land surface', 'national defense', '1', 'land law', 'international cooperation', 'take possession', 'illegal possession', 'land', 'land', 'land', 'term manner', 'systematic determination', 'stateless persons', 'state protects', 'security tasks', 'regional cooperation', 'natural resources', 'nation ’', 'legal sanctions', 'legal entities', 'legal entities', 'lao pdr', 'lao pdr', 'lao pdr', 'lao ancestry', 'geographical locations', 'foreign nationals', 'ensure efficiency', 'ceased without', 'capacity building', 'law application', 'lawful interests', 'buildings shall', 'allow individuals', 'activities shall', 'new ).', 'rights', 'rights', 'state', 'organizations', 'organizations', 'law', 'interests', 'individuals', 'buildings', 'activities', 'new', 'new', 'zone', 'view', 'treaties', 'trainings', 'territory', 'technologies', 'techniques', 'subject', 'states', 'specificities', 'scope', 'sciences', 'reside', 'regular', 'protection', 'protecting', 'potentials', 'peaceful', 'party', 'operate', 'needs', 'meeting', 'long', 'locality', 'liwg', 'lands', 'information', 'implement', 'holder', 'holder', 'foreigners', 'experiences', 'exchange', 'environment', 'encroachment', 'encroachment', 'effective', 'demolished', 'conventions', 'consistency', 'confiscation', 'compensation', 'characteristics', 'category', 'case', 'applied', 'amended', 'amended', '70'], 'producer': 'Microsoft® Word for Office 365', 'page': 5}), Document(page_content='Land Law of Lao PDR No.70/NA dated 21 June 2019 \\nUnofficial translation supported by LIWG and GIZ Land Program\\n \\n \\n \\n9 \\n• \\nIndustrial land; \\n• \\nCommunication land; \\n• \\nCultural land; \\n• \\nLand for national defense and security purposes; \\n• \\nConstruction land. \\n \\n \\nSection 2 \\nLand Survey, Protection, and Development  \\n \\nArticle 22. (amended) Land Survey  \\nLand survey refers to data collection about land namely land areas, land \\nuse status, soil quality, changes in land category by using appropriate techniques \\nfor land use planning in consistency with the National Land Allocation Master Plan \\nand local land allocation plan. \\n \\nArticle 23 (amended) Protection of Land and the Environment \\nIndividuals, legal entities and organizations including aliens, stateless \\npersons, foreigners and foreign nationals of Lao ancestry and their organizations \\nshall protect their lands to ensure that they are in a good conditions, to prevent soil \\nerosion, land subsidence, and soil degradation and maintain the quality of the lands \\nsuitable for each land category, and to ensure that the area of each land category is \\nnot reduced in line with Land Allocation Master Plan and periodic sectoral land \\nuse plans.  \\n \\nLand shall be used with minimum impacts on the environment, society and \\nthe nature. \\n \\nArticle 24. (new) Land Development \\nLand development is the change of land, improvement and rehabilitation \\nof the land quality with added values, with balanced ecosystem in each area and \\nfor each land category for an effective land use complying with Land Allocation \\nMaster Plan, land use strategy and sectoral and local land use plans at each time \\nperiod. \\n \\nSection 3 \\nConversion of Land Category  \\n \\nArticle 25. (amended) Conversion of Land Category \\nThe conversion of land use from one category to another can be made only \\nif it is considered to be necessary to use the land for another purpose to maximise \\nthe benefits and to improve people’s livelihood in line with Land Allocation Master \\nPlan, land use strategy and sectoral and local land use plans which are part of the \\nNational Socio-Economic Development Plan and with minimum negative impacts \\non the natural and social environment and must obtain the prior approval from the', metadata={'file_path': 'C:/workspace/experiments/GenAI/Projects/Test Data/lao.pdf', 'creator': 'Microsoft® Word for Office 365', 'modDate': \"D:20200915121535+07'00'\", 'keywords': '', 'trapped': '', 'author': 'NUS', 'subject': '', 'file_name': 'lao.pdf', 'format': 'PDF 1.7', 'source': 'C:/workspace/experiments/GenAI/Projects/Test Data/lao.pdf', 'total_pages': 63, 'title': 'Copy dated 29/11/1996', 'creationDate': \"D:20200915121535+07'00'\", 'terms': ['na dated 21 june 2019 unofficial translation supported', 'giz land program 9 • industrial land', 'land survey land survey refers', 'national land allocation master plan', 'periodic sectoral land use plans', 'land allocation master plan', 'land allocation master plan', 'land allocation master plan', 'local land allocation plan', 'section 2 land survey', 'local land use plans', 'local land use plans', 'land namely land areas', 'effective land use complying', 'land development land development', 'land category article 25', 'economic development plan', '• cultural land', '• construction land', '• communication land', 'land use strategy', 'land use strategy', 'land use status', 'land use planning', 'development article 22', 'using appropriate techniques', 'organizations including aliens', 'improve people ’', 'organizations shall protect', 'prevent soil erosion', 'section 3 conversion', 'minimum negative impacts', '• land', 'land use', 'land shall', 'land category', 'land category', 'land category', 'land category', 'land category', 'land subsidence', 'land law', 'national socio', 'national defense', 'minimum impacts', 'land quality', 'article 24', 'article 23', 'soil degradation', 'one category', 'time period', 'stateless persons', 'soil quality', 'security purposes', 'prior approval', 'must obtain', 'legal entities', 'lao pdr', 'lao ancestry', 'good conditions', 'foreign nationals', 'data collection', 'balanced ecosystem', 'added values', 'social environment', 'environment individuals', 'lands suitable', 'another purpose', 'land', 'land', 'land', 'use', 'sectoral', 'sectoral', 'quality', 'environment', 'conversion', 'conversion', 'lands', 'another', 'used', 'society', 'rehabilitation', 'reduced', 'protection', 'protection', 'part', 'new', 'necessary', 'nature', 'natural', 'maximise', 'maintain', 'made', 'liwg', 'livelihood', 'line', 'line', 'improvement', 'foreigners', 'ensure', 'ensure', 'consistency', 'considered', 'changes', 'change', 'benefits', 'area', 'area', 'amended', 'amended', 'amended', '70'], 'producer': 'Microsoft® Word for Office 365', 'page': 9})]\n"
     ]
    }
   ],
   "source": [
    "from langchain.schema.document import Document\n",
    "\n",
    "keyword_response = client.client.search(\n",
    "    body = keyword_search_query,\n",
    "    index = index_name\n",
    ")\n",
    "keyworddocs = []\n",
    "for item in keyword_response['hits']['hits']:\n",
    "    keyworddocs.append(Document(page_content=item['_source']['text'], metadata=item['_source']['metadata']))\n",
    "\n",
    "logger.info(keyworddocs[:2])"
   ]
  },
  {
   "cell_type": "markdown",
   "id": "f52737a8-21c4-42d8-8d6c-365179939bbd",
   "metadata": {
    "jp-MarkdownHeadingCollapsed": true
   },
   "source": [
    "# Search with Search Pipeline"
   ]
  },
  {
   "cell_type": "code",
   "execution_count": 13,
   "id": "4a401153-6089-44f7-b4a7-613a03567c51",
   "metadata": {},
   "outputs": [
    {
     "name": "stderr",
     "output_type": "stream",
     "text": [
      "INFO:httpx:HTTP Request: POST https://api.openai.com/v1/embeddings \"HTTP/1.1 200 OK\"\n"
     ]
    }
   ],
   "source": [
    "query_vector = embeddings.embed_query(query)"
   ]
  },
  {
   "cell_type": "code",
   "execution_count": 14,
   "id": "5e4014cb-bb4e-4d63-b507-a1d605291cf6",
   "metadata": {},
   "outputs": [],
   "source": [
    "knn_search_query = {\n",
    "    \"script_score\": {\n",
    "        \"query\": {\n",
    "            \"match\": {\n",
    "                \"metadata.file_name\": \"lao.pdf\"\n",
    "            }\n",
    "        },\n",
    "        \"script\": {\n",
    "            \"source\": \"1.0 + cosineSimilarity(params.query_value, doc[params.field])\",\n",
    "            \"params\": {\n",
    "              \"field\": \"vector_field\",\n",
    "              \"query_value\": query_vector\n",
    "            }\n",
    "        }\n",
    "    }\n",
    "}\n",
    "neural_search_query = {\n",
    "    \"neural\": {\n",
    "        \"bert_embeddings\": {\n",
    "            \"query_text\": query,\n",
    "            \"model_id\": \"vERhsZABary_bsUAiOG2\",\n",
    "            \"k\": k\n",
    "        }\n",
    "    }\n",
    "}\n",
    "neural_sparse_search_query = {\n",
    "    \"neural_sparse\": {\n",
    "        \"oss_sparse_embeddings\": {\n",
    "            \"query_text\": query,\n",
    "            \"model_id\": \"vURhsZABary_bsUAieFJ\"\n",
    "        }\n",
    "    }\n",
    "}\n",
    "keyword_search_query = {\n",
    "    \"match\": {\n",
    "        \"text\": {\n",
    "            \"query\": query,\n",
    "            \"analyzer\": \"english\"\n",
    "        }\n",
    "    }\n",
    "}\n",
    "\n",
    "reranker = {\n",
    "    \"rerank\": {\n",
    "      \"query_context\": {\n",
    "         \"query_text\": query\n",
    "      }\n",
    "    }\n",
    "}\n",
    "\n",
    "compound_query = {\n",
    "    \"size\": k,\n",
    "    \"query\": {\n",
    "        \"bool\": {\n",
    "            \"must\": [\n",
    "                {\n",
    "                    \"match\": {\n",
    "                        \"metadata.file_name\": \"lao.pdf\"\n",
    "                    }\n",
    "                },\n",
    "                {\n",
    "                    \"bool\": {\n",
    "                        \"should\": [\n",
    "                            knn_search_query,\n",
    "                            neural_search_query,\n",
    "                            neural_sparse_search_query,\n",
    "                            keyword_search_query\n",
    "                        ]\n",
    "                    }\n",
    "                }\n",
    "            ]\n",
    "        }\n",
    "    },\n",
    "    \"ext\": reranker\n",
    "}"
   ]
  },
  {
   "cell_type": "code",
   "execution_count": 15,
   "id": "355319f7-44dd-444a-9aba-0848ec499302",
   "metadata": {},
   "outputs": [
    {
     "name": "stderr",
     "output_type": "stream",
     "text": [
      "INFO:opensearch:POST http://localhost:9200/lao/_search?search_pipeline=default_search_pipeline [status:200 request:4.458s]\n",
      "INFO:__main__:[Document(page_content='Land Law of Lao PDR No.70/NA dated 21 June 2019 \\nUnofficial translation supported by LIWG and GIZ Land Program\\n \\n \\n \\n5 \\n \\nArticle 7. (amended) Protection of the Rights and Interests of the Holder of Land  \\nUse Rights \\nThe State protects the rights and lawful interests of the holder of land use \\nrights including assets on the land surface in an effective, peaceful, regular and \\nlong-term manner. \\n \\nArticle 8. (amended) Unauthorized Land Possession and Encroachment \\nThe States does not allow individuals, legal entities and organizations to \\ntake possession of and to encroach onto land. \\n \\nThe illegal possession and encroachment of lands are subject to legal \\nsanctions and confiscation of the land. In case there are buildings or activities on \\nthe land, the buildings shall be demolished and the activities shall be ceased \\nwithout any compensation from the State.  \\n \\nArticle 9. (new). Scope of the Law Application \\nThis Law is applied to individuals, legal entities and organizations \\nincluding aliens, stateless persons, foreigners, foreign nationals of Lao ancestry \\nand their organizations who reside and operate in the territory of Lao PDR. \\n \\nArticle 10. (new) International Cooperation \\nThe State promotes international and regional cooperation through \\nexchange of experiences, information, sciences, techniques, technologies, \\ntrainings and capacity building to ensure efficiency and to implement the Treaties \\nand Conventions to which Lao PDR is a party. \\n \\n \\nPart II \\nLand Allocation Master Plan, Land Use Strategy and Land Use Plan \\n \\nSection 1 \\nLand Allocation Master Plan \\n \\nArticle 11. (new) Land Allocation Master Plan \\nThe Land Allocation Master Plan is a systematic determination of zone and \\ncategory of land in consistency with the characteristics and potentials of the natural \\nresources, geographical locations and specificities of each locality with a view to \\nprotecting the environment, meeting the needs of the nation’s sustainable \\ndevelopment direction and the national defense and security tasks. \\n \\n \\nLand Allocation Master Plan comprises of: \\n1. \\n National Land Allocation Master Plan \\n2. \\n Local Land Allocation Plan', metadata={'file_path': 'C:/workspace/experiments/GenAI/Projects/Test Data/lao.pdf', 'creator': 'Microsoft® Word for Office 365', 'modDate': \"D:20200915121535+07'00'\", 'keywords': '', 'trapped': '', 'author': 'NUS', 'subject': '', 'file_name': 'lao.pdf', 'format': 'PDF 1.7', 'source': 'C:/workspace/experiments/GenAI/Projects/Test Data/lao.pdf', 'total_pages': 63, 'title': 'Copy dated 29/11/1996', 'creationDate': \"D:20200915121535+07'00'\", 'terms': ['land use plan section 1 land allocation master plan article 11', 'na dated 21 june 2019 unofficial translation supported', 'part ii land allocation master plan', 'giz land program 5 article 7', 'national land allocation master plan 2', 'land allocation master plan comprises', 'land allocation master plan', 'land allocation master plan', 'land use rights including assets', 'local land allocation plan', 'land use strategy', 'land use rights', 'encroach onto land', 'unauthorized land possession', 'sustainable development direction', 'organizations including aliens', 'state promotes international', 'article 9', 'article 8', 'article 10', 'land surface', 'national defense', '1', 'land law', 'international cooperation', 'take possession', 'illegal possession', 'land', 'land', 'land', 'term manner', 'systematic determination', 'stateless persons', 'state protects', 'security tasks', 'regional cooperation', 'natural resources', 'nation ’', 'legal sanctions', 'legal entities', 'legal entities', 'lao pdr', 'lao pdr', 'lao pdr', 'lao ancestry', 'geographical locations', 'foreign nationals', 'ensure efficiency', 'ceased without', 'capacity building', 'law application', 'lawful interests', 'buildings shall', 'allow individuals', 'activities shall', 'new ).', 'rights', 'rights', 'state', 'organizations', 'organizations', 'law', 'interests', 'individuals', 'buildings', 'activities', 'new', 'new', 'zone', 'view', 'treaties', 'trainings', 'territory', 'technologies', 'techniques', 'subject', 'states', 'specificities', 'scope', 'sciences', 'reside', 'regular', 'protection', 'protecting', 'potentials', 'peaceful', 'party', 'operate', 'needs', 'meeting', 'long', 'locality', 'liwg', 'lands', 'information', 'implement', 'holder', 'holder', 'foreigners', 'experiences', 'exchange', 'environment', 'encroachment', 'encroachment', 'effective', 'demolished', 'conventions', 'consistency', 'confiscation', 'compensation', 'characteristics', 'category', 'case', 'applied', 'amended', 'amended', '70'], 'producer': 'Microsoft® Word for Office 365', 'page': 5}), Document(page_content='Land Law of Lao PDR No.70/NA dated 21 June 2019 \\nUnofficial translation supported by LIWG and GIZ Land Program\\n \\n \\n \\n1 \\n \\nThe State grants the rights to armed forces, The Party and State \\norganizations, Lao Front for National Development, Lao Federation of Veterans, \\nmass organizations to manage and use State land. \\n  \\nAliens, stateless persons, foreign individuals, foreign nationals of Lao \\nancestry have the rights to lease, receive concession of State land or purchase \\nallocated State land use rights with determined timeframe and to lease the land of \\nLao citizens. Their organizations that have been established with the authorization \\nof the State, have the right only to lease or receive concession of State land and \\nlease land of Lao citizens. \\n \\nThe State acknowledges the right to use surface land only, while all \\nunderground and surface natural resources belong to the National Community. \\n \\nThe State will re-acquire the land use right back from the users of those \\nlands in case of necessity and for national interests by paying compensation for the \\ndamages caused by the reacquisition.  \\n \\nThe State will revoke the land use rights without paying any compensation \\nto the land right users in case of infringement of laws or contracts. \\n \\nArticle 4. (new) Definition of Terms \\nThe terms used in this Law have the following definitions: \\n \\n1. Land surface refers to the surface of all land parcels with trees, non-timber \\nforest products, plants, biodiversity, water, minerals, etc.; \\n2. Underground land refers to underground layer of land with soil layers, stone \\nlayers, underground water, gas, minerals, etc.; \\n3. Island refers to natural or newly emerged land in water areas; \\n4. Submerged land refers to soil laying beneath water with aquatic animal and \\nplants, mineral, etc.; \\n5. Taking possession of land means unauthorized occupation of land under \\nvarious forms;  \\n6. Land encroachment means the violation of land use rights of the State, \\nindividuals, entities and organizations including aliens, stateless persons, \\nforeigners, foreign national of Lao ancestry and their organizations by abusing \\npowers, position, authorities, duties for personal benefits; \\n7. State land use rights refers to the land use rights of The Party and State \\norganizations, Lao Front for National Development, Lao Federation of Veterans \\nand mass organizations including lands which are permanently granted by the \\nState or which are received through purchase of allocated State land use right \\nwith determined timeframe to be used for specific purposes in accordance with \\nState land allocation plan and land use plan;  \\n8. Individual land use rights refer to the land use rights of Lao citizens who have \\nlawful land title for the land;', metadata={'file_path': 'C:/workspace/experiments/GenAI/Projects/Test Data/lao.pdf', 'creator': 'Microsoft® Word for Office 365', 'modDate': \"D:20200915121535+07'00'\", 'keywords': '', 'trapped': '', 'author': 'NUS', 'subject': '', 'file_name': 'lao.pdf', 'format': 'PDF 1.7', 'source': 'C:/workspace/experiments/GenAI/Projects/Test Data/lao.pdf', 'total_pages': 63, 'title': 'Copy dated 29/11/1996', 'creationDate': \"D:20200915121535+07'00'\", 'terms': ['na dated 21 june 2019 unofficial translation supported', 'purchase allocated state land use rights', 'individual land use rights refer', 'land use rights without paying', 'allocated state land use right', 'state land use rights refers', 'land means unauthorized occupation', 'land use right back', 'giz land program 1', 'surface natural resources belong', 'soil laying beneath water', 'state land allocation plan', 'mass organizations including lands', 'land use rights', 'land use rights', 'land use rights', 'land use plan', 'use surface land', 'use state land', 'land encroachment means', 'submerged land refers', 'newly emerged land', 'lawful land title', 'land surface refers', 'timber forest products', 'underground land refers', 'land right users', 'organizations including aliens', 'state land', 'state land', 'island refers', 'mass organizations', 'land parcels', 'soil layers', 'paying compensation', 'state organizations', 'state organizations', 'land law', 'state grants', 'state acknowledges', 'lease land', 'water areas', 'underground water', 'various forms', 'underground layer', 'taking possession', 'stone layers', 'stateless persons', 'stateless persons', 'specific purposes', 'receive concession', 'receive concession', 'personal benefits', 'permanently granted', 'national interests', 'national development', 'national development', 'national community', 'lao pdr', 'lao front', 'lao front', 'lao federation', 'lao federation', 'lao citizens', 'lao citizens', 'lao citizens', 'lao ancestry', 'lao ancestry', 'foreign nationals', 'foreign national', 'following definitions', 'determined timeframe', 'determined timeframe', 'damages caused', 'armed forces', 'aquatic animal', 'abusing powers', 'rights', 'rights', 'purchase', 'foreign individuals', 'article 4', 'land', 'land', 'land', 'land', 'terms used', 'right', 'right', 'surface', 'state', 'state', 'state', 'state', 'state', 'natural', 'lands', '1', 'water', 'organizations', 'organizations', 'users', 'underground', 'aliens', 'used', 'terms', 'law', 'individuals', 'compensation', '4', 'lease', 'lease', 'lease', 'violation', 'veterans', 'veterans', 'trees', 'revoke', 'received', 'reacquisition', 'position', 'plants', 'plants', 'party', 'party', 'non', 'new', 'necessity', 'minerals', 'minerals', 'mineral', 'manage', 'liwg', 'laws', 'infringement', 'gas', 'foreigners', 'etc', 'etc', 'etc', 'established', 'entities', 'duties', 'definition', 'contracts', 'case', 'case', 'biodiversity', 'authorization', 'authorities', 'acquire', 'accordance', '8', '70', '7', '6', '5', '3', '2'], 'producer': 'Microsoft® Word for Office 365', 'page': 1})]\n"
     ]
    }
   ],
   "source": [
    "from langchain.schema.document import Document\n",
    "\n",
    "response = client.client.search(\n",
    "    body = compound_query,\n",
    "    index = index_name,\n",
    "    params = {\n",
    "        'search_pipeline': 'default_search_pipeline'\n",
    "    }\n",
    ")\n",
    "reranked_docs = []\n",
    "for item in response['hits']['hits']:\n",
    "    reranked_docs.append(Document(page_content=item['_source']['text'], metadata=item['_source']['metadata']))\n",
    "\n",
    "logger.info(reranked_docs[:2])"
   ]
  },
  {
   "cell_type": "code",
   "execution_count": 16,
   "id": "5dc34d78-ed85-424b-8282-2a874982f60f",
   "metadata": {},
   "outputs": [],
   "source": [
    "import requests\n",
    "import json\n",
    "\n",
    "def unique_by_page_content(docs):\n",
    "    unique = set()\n",
    "    return [unique.add(d.page_content) or d for d in docs if d.page_content not in unique]\n",
    "\n",
    "def rerank(query, docs):\n",
    "    try:\n",
    "        header = {\n",
    "            'Content-Type': 'application/json'\n",
    "        }\n",
    "        body = {\n",
    "            'query_text': query,\n",
    "            'text_docs': [d.page_content for d in docs]\n",
    "        }\n",
    "        response = None\n",
    "        url = f\"{opensearch_url}/_plugins/_ml/models/wURmsZABary_bsUAq-Hf/_predict\"\n",
    "        response = requests.post(url, data=json.dumps(body), headers=header)\n",
    "        inference_result = response.json()['inference_results']\n",
    "        return [r['output'][0]['data'][0] for r in inference_result]\n",
    "    except Exception as ex:\n",
    "        logger.error(f\"exception: {str(ex)}\")\n",
    "        raise ex"
   ]
  },
  {
   "cell_type": "code",
   "execution_count": 17,
   "id": "4c9f9ab9-4ab2-4204-9650-ba55502ad471",
   "metadata": {},
   "outputs": [
    {
     "name": "stderr",
     "output_type": "stream",
     "text": [
      "INFO:httpx:HTTP Request: POST https://api.openai.com/v1/embeddings \"HTTP/1.1 200 OK\"\n",
      "INFO:opensearch:POST http://localhost:9200/lao/_search [status:200 request:0.183s]\n",
      "INFO:opensearch:POST http://localhost:9200/lao/_search [status:200 request:0.117s]\n",
      "INFO:opensearch:POST http://localhost:9200/lao/_search [status:200 request:0.313s]\n",
      "INFO:opensearch:POST http://localhost:9200/lao/_search [status:200 request:0.081s]\n",
      "INFO:__main__:total docs count - 20\n",
      "INFO:__main__:unique docs count - 14\n",
      "INFO:__main__:reranker result - [-6.2798567, -0.52399004, 0.102317385, -7.8649077, -9.2079115, -8.035671, -8.764602, -8.35333, -8.473446, -7.233333, -8.706775, -9.509703, -9.403649, -8.588062]\n",
      "INFO:__main__:[Document(page_content='Land Law of Lao PDR No.70/NA dated 21 June 2019 \\nUnofficial translation supported by LIWG and GIZ Land Program\\n \\n \\n \\n5 \\n \\nArticle 7. (amended) Protection of the Rights and Interests of the Holder of Land  \\nUse Rights \\nThe State protects the rights and lawful interests of the holder of land use \\nrights including assets on the land surface in an effective, peaceful, regular and \\nlong-term manner. \\n \\nArticle 8. (amended) Unauthorized Land Possession and Encroachment \\nThe States does not allow individuals, legal entities and organizations to \\ntake possession of and to encroach onto land. \\n \\nThe illegal possession and encroachment of lands are subject to legal \\nsanctions and confiscation of the land. In case there are buildings or activities on \\nthe land, the buildings shall be demolished and the activities shall be ceased \\nwithout any compensation from the State.  \\n \\nArticle 9. (new). Scope of the Law Application \\nThis Law is applied to individuals, legal entities and organizations \\nincluding aliens, stateless persons, foreigners, foreign nationals of Lao ancestry \\nand their organizations who reside and operate in the territory of Lao PDR. \\n \\nArticle 10. (new) International Cooperation \\nThe State promotes international and regional cooperation through \\nexchange of experiences, information, sciences, techniques, technologies, \\ntrainings and capacity building to ensure efficiency and to implement the Treaties \\nand Conventions to which Lao PDR is a party. \\n \\n \\nPart II \\nLand Allocation Master Plan, Land Use Strategy and Land Use Plan \\n \\nSection 1 \\nLand Allocation Master Plan \\n \\nArticle 11. (new) Land Allocation Master Plan \\nThe Land Allocation Master Plan is a systematic determination of zone and \\ncategory of land in consistency with the characteristics and potentials of the natural \\nresources, geographical locations and specificities of each locality with a view to \\nprotecting the environment, meeting the needs of the nation’s sustainable \\ndevelopment direction and the national defense and security tasks. \\n \\n \\nLand Allocation Master Plan comprises of: \\n1. \\n National Land Allocation Master Plan \\n2. \\n Local Land Allocation Plan', metadata={'file_path': 'C:/workspace/experiments/GenAI/Projects/Test Data/lao.pdf', 'creator': 'Microsoft® Word for Office 365', 'modDate': \"D:20200915121535+07'00'\", 'keywords': '', 'trapped': '', 'author': 'NUS', 'subject': '', 'file_name': 'lao.pdf', 'format': 'PDF 1.7', 'source': 'C:/workspace/experiments/GenAI/Projects/Test Data/lao.pdf', 'total_pages': 63, 'title': 'Copy dated 29/11/1996', 'creationDate': \"D:20200915121535+07'00'\", 'terms': ['land use plan section 1 land allocation master plan article 11', 'na dated 21 june 2019 unofficial translation supported', 'part ii land allocation master plan', 'giz land program 5 article 7', 'national land allocation master plan 2', 'land allocation master plan comprises', 'land allocation master plan', 'land allocation master plan', 'land use rights including assets', 'local land allocation plan', 'land use strategy', 'land use rights', 'encroach onto land', 'unauthorized land possession', 'sustainable development direction', 'organizations including aliens', 'state promotes international', 'article 9', 'article 8', 'article 10', 'land surface', 'national defense', '1', 'land law', 'international cooperation', 'take possession', 'illegal possession', 'land', 'land', 'land', 'term manner', 'systematic determination', 'stateless persons', 'state protects', 'security tasks', 'regional cooperation', 'natural resources', 'nation ’', 'legal sanctions', 'legal entities', 'legal entities', 'lao pdr', 'lao pdr', 'lao pdr', 'lao ancestry', 'geographical locations', 'foreign nationals', 'ensure efficiency', 'ceased without', 'capacity building', 'law application', 'lawful interests', 'buildings shall', 'allow individuals', 'activities shall', 'new ).', 'rights', 'rights', 'state', 'organizations', 'organizations', 'law', 'interests', 'individuals', 'buildings', 'activities', 'new', 'new', 'zone', 'view', 'treaties', 'trainings', 'territory', 'technologies', 'techniques', 'subject', 'states', 'specificities', 'scope', 'sciences', 'reside', 'regular', 'protection', 'protecting', 'potentials', 'peaceful', 'party', 'operate', 'needs', 'meeting', 'long', 'locality', 'liwg', 'lands', 'information', 'implement', 'holder', 'holder', 'foreigners', 'experiences', 'exchange', 'environment', 'encroachment', 'encroachment', 'effective', 'demolished', 'conventions', 'consistency', 'confiscation', 'compensation', 'characteristics', 'category', 'case', 'applied', 'amended', 'amended', '70'], 'producer': 'Microsoft® Word for Office 365', 'page': 5}), Document(page_content='Land Law of Lao PDR No.70/NA dated 21 June 2019 \\nUnofficial translation supported by LIWG and GIZ Land Program\\n \\n \\n \\n1 \\n \\nThe State grants the rights to armed forces, The Party and State \\norganizations, Lao Front for National Development, Lao Federation of Veterans, \\nmass organizations to manage and use State land. \\n  \\nAliens, stateless persons, foreign individuals, foreign nationals of Lao \\nancestry have the rights to lease, receive concession of State land or purchase \\nallocated State land use rights with determined timeframe and to lease the land of \\nLao citizens. Their organizations that have been established with the authorization \\nof the State, have the right only to lease or receive concession of State land and \\nlease land of Lao citizens. \\n \\nThe State acknowledges the right to use surface land only, while all \\nunderground and surface natural resources belong to the National Community. \\n \\nThe State will re-acquire the land use right back from the users of those \\nlands in case of necessity and for national interests by paying compensation for the \\ndamages caused by the reacquisition.  \\n \\nThe State will revoke the land use rights without paying any compensation \\nto the land right users in case of infringement of laws or contracts. \\n \\nArticle 4. (new) Definition of Terms \\nThe terms used in this Law have the following definitions: \\n \\n1. Land surface refers to the surface of all land parcels with trees, non-timber \\nforest products, plants, biodiversity, water, minerals, etc.; \\n2. Underground land refers to underground layer of land with soil layers, stone \\nlayers, underground water, gas, minerals, etc.; \\n3. Island refers to natural or newly emerged land in water areas; \\n4. Submerged land refers to soil laying beneath water with aquatic animal and \\nplants, mineral, etc.; \\n5. Taking possession of land means unauthorized occupation of land under \\nvarious forms;  \\n6. Land encroachment means the violation of land use rights of the State, \\nindividuals, entities and organizations including aliens, stateless persons, \\nforeigners, foreign national of Lao ancestry and their organizations by abusing \\npowers, position, authorities, duties for personal benefits; \\n7. State land use rights refers to the land use rights of The Party and State \\norganizations, Lao Front for National Development, Lao Federation of Veterans \\nand mass organizations including lands which are permanently granted by the \\nState or which are received through purchase of allocated State land use right \\nwith determined timeframe to be used for specific purposes in accordance with \\nState land allocation plan and land use plan;  \\n8. Individual land use rights refer to the land use rights of Lao citizens who have \\nlawful land title for the land;', metadata={'file_path': 'C:/workspace/experiments/GenAI/Projects/Test Data/lao.pdf', 'creator': 'Microsoft® Word for Office 365', 'modDate': \"D:20200915121535+07'00'\", 'keywords': '', 'trapped': '', 'author': 'NUS', 'subject': '', 'file_name': 'lao.pdf', 'format': 'PDF 1.7', 'source': 'C:/workspace/experiments/GenAI/Projects/Test Data/lao.pdf', 'total_pages': 63, 'title': 'Copy dated 29/11/1996', 'creationDate': \"D:20200915121535+07'00'\", 'terms': ['na dated 21 june 2019 unofficial translation supported', 'purchase allocated state land use rights', 'individual land use rights refer', 'land use rights without paying', 'allocated state land use right', 'state land use rights refers', 'land means unauthorized occupation', 'land use right back', 'giz land program 1', 'surface natural resources belong', 'soil laying beneath water', 'state land allocation plan', 'mass organizations including lands', 'land use rights', 'land use rights', 'land use rights', 'land use plan', 'use surface land', 'use state land', 'land encroachment means', 'submerged land refers', 'newly emerged land', 'lawful land title', 'land surface refers', 'timber forest products', 'underground land refers', 'land right users', 'organizations including aliens', 'state land', 'state land', 'island refers', 'mass organizations', 'land parcels', 'soil layers', 'paying compensation', 'state organizations', 'state organizations', 'land law', 'state grants', 'state acknowledges', 'lease land', 'water areas', 'underground water', 'various forms', 'underground layer', 'taking possession', 'stone layers', 'stateless persons', 'stateless persons', 'specific purposes', 'receive concession', 'receive concession', 'personal benefits', 'permanently granted', 'national interests', 'national development', 'national development', 'national community', 'lao pdr', 'lao front', 'lao front', 'lao federation', 'lao federation', 'lao citizens', 'lao citizens', 'lao citizens', 'lao ancestry', 'lao ancestry', 'foreign nationals', 'foreign national', 'following definitions', 'determined timeframe', 'determined timeframe', 'damages caused', 'armed forces', 'aquatic animal', 'abusing powers', 'rights', 'rights', 'purchase', 'foreign individuals', 'article 4', 'land', 'land', 'land', 'land', 'terms used', 'right', 'right', 'surface', 'state', 'state', 'state', 'state', 'state', 'natural', 'lands', '1', 'water', 'organizations', 'organizations', 'users', 'underground', 'aliens', 'used', 'terms', 'law', 'individuals', 'compensation', '4', 'lease', 'lease', 'lease', 'violation', 'veterans', 'veterans', 'trees', 'revoke', 'received', 'reacquisition', 'position', 'plants', 'plants', 'party', 'party', 'non', 'new', 'necessity', 'minerals', 'minerals', 'mineral', 'manage', 'liwg', 'laws', 'infringement', 'gas', 'foreigners', 'etc', 'etc', 'etc', 'established', 'entities', 'duties', 'definition', 'contracts', 'case', 'case', 'biodiversity', 'authorization', 'authorities', 'acquire', 'accordance', '8', '70', '7', '6', '5', '3', '2'], 'producer': 'Microsoft® Word for Office 365', 'page': 1}), Document(page_content='Land Law of Lao PDR No.70/NA dated 21 June 2019 \\nUnofficial translation supported by LIWG and GIZ Land Program\\n \\n \\n 48 \\n3. Having competent and technical staff with at least three years of \\nexperiences with certified practical land-related work. \\n \\nArticle 158 (new) Land Business Operations \\nIndividuals, legal entities or organizations wishing to operate land \\nbusinesses shall submit the application together with supporting documents to the \\nrelevant sectors as indicated in the Law on Investment Promotion and shall request \\ntechnical authorization from the Natural Resources and Environment Sector. \\n \\nPart XI \\nProhibitions \\n \\nArticle 159. (new) Prohibitions for Individuals, Legal Entities or Organizations \\nIndividuals, legal entities or organizations, are prohibited from the \\nfollowing behaviors: \\n \\n1. encroaching or settling down in the areas of protection forest land, \\nconservation forest land, preserved watershed; \\n2. falsifying land titles, seals, signatures and other documents related to land; \\n3. using land not in accordance with its objectives and laws; \\n4. moving, altering and destroying land boundary markers; \\n5. illegally selling-purchasing land use rights; \\n6. illegally using State land including village collective land for leasing, \\nexchanging, selling, using land as guarantees or transferring the land \\nwithout authorization; \\n7. converting land category and changing land use purposes without \\nauthorization;  \\n8. infringing land use right sale contract, land lease or concession agreement; \\navoiding payment of rents or land concessions fees, royalties, land use fees, \\ntaxes, service fees; \\n9. using violence or threatening against officials or civil servants; \\n10. denying cooperation or obstructing land dispute settlement; \\n11. having other behaviors that are in violations of the laws. \\n \\nArticle 160. (new) Prohibitions for Responsible Officials and Civil Servants \\nOfficials and civil servants are prohibited from the following behaviours: \\n1. abusing power, position, duties for personal gains, for the interests of family, \\nfriends and relatives; \\n2. requesting, asking for and receiving bribes; \\n3. abusing rights and duties causing prejudice to the State interests, collective \\ngroups or people’s legitimate interests, domestic and foreign investors;', metadata={'file_path': 'C:/workspace/experiments/GenAI/Projects/Test Data/lao.pdf', 'creator': 'Microsoft® Word for Office 365', 'modDate': \"D:20200915121535+07'00'\", 'keywords': '', 'trapped': '', 'author': 'NUS', 'subject': '', 'file_name': 'lao.pdf', 'format': 'PDF 1.7', 'source': 'C:/workspace/experiments/GenAI/Projects/Test Data/lao.pdf', 'total_pages': 63, 'title': 'Copy dated 29/11/1996', 'creationDate': \"D:20200915121535+07'00'\", 'terms': ['na dated 21 june 2019 unofficial translation supported', 'illegally using state land including village collective land', 'infringing land use right sale contract', 'changing land use purposes without authorization', 'operate land businesses shall submit', 'giz land program 48 3', 'part xi prohibitions article 159', 'shall request technical authorization', 'obstructing land dispute settlement', 'destroying land boundary markers', 'purchasing land use rights', 'land business operations individuals', 'land without authorization', 'land use fees', 'protection forest land', 'falsifying land titles', 'converting land category', 'conservation forest land', 'certified practical land', 'land concessions fees', 'least three years', 'duties causing prejudice', 'using land', 'using land', 'collective groups', 'state interests', 'civil servants officials', 'illegally selling', 'land lease', 'using violence', 'land law', 'technical staff', 'article 160', 'article 158', 'abusing rights', 'civil servants', 'civil servants', 'service fees', 'supporting documents', 'responsible officials', 'relevant sectors', 'related work', 'receiving bribes', 'preserved watershed', 'personal gains', 'people ’', 'organizations individuals', 'natural resources', 'legal entities', 'legal entities', 'legal entities', 'lao pdr', 'investment promotion', 'foreign investors', 'following behaviours', 'environment sector', 'documents related', 'denying cooperation', 'concession agreement', 'avoiding payment', 'application together', 'abusing power', 'land', 'organizations wishing', 'legitimate interests', 'following behaviors', 'prohibitions', 'prohibitions', 'individuals', '3', '3', 'officials', 'duties', 'organizations', 'interests', 'selling', 'law', 'behaviors', 'violations', 'transferring', 'threatening', 'taxes', 'signatures', 'settling', 'seals', 'royalties', 'requesting', 'rents', 'relatives', 'prohibited', 'prohibited', 'position', 'objectives', 'new', 'new', 'new', 'moving', 'liwg', 'leasing', 'laws', 'laws', 'indicated', 'guarantees', 'friends', 'family', 'experiences', 'exchanging', 'encroaching', 'domestic', 'competent', 'asking', 'areas', 'altering', 'accordance', '9', '8', '70', '7', '6', '5', '4', '2', '2', '11', '10', '1', '1'], 'producer': 'Microsoft® Word for Office 365', 'page': 48}), Document(page_content='Land Law of Lao PDR No.70/NA dated 21 June 2019 \\nUnofficial translation supported by LIWG and GIZ Land Program\\n \\n \\n 49 \\n4. neglecting duties, disinformation, holding back and delaying the \\nconsideration of land related documents; \\n5. authorizing the activities or changes of land use rights of disputed lands; \\n6. issuing duplicate land titles, illegally issuing certification on land use rights \\nto individuals, legal entities, organizations namely for water area land, \\ncultural land, protection forest land, conservation forest land, production \\nforest land, areas prohibited by the State.  \\n7. performing duties with injustice, partiality towards other people, legal \\nentities, organizations and collectives; \\n8. acting as an agent, consultant for individuals, legal entities and \\norganizations in relation to land; \\n9. disclosing confidential information without authorization; \\n10. falsifying land documents, signatures, seals; \\n11. destroying evidence, land documents, moving, altering or destroying land \\nboundary markers; \\n12. other behaviors in violation of laws. \\n \\nPart XII \\nSettlement of Land Issues and Land Disputes \\n \\nArticle 161 (amended) Settlement of Land Issues with Administrative Nature \\nThe settlement of land issues with administrative nature is the settlement \\nof issues related to the use of land without authorization, not in line with the \\npurpose, not use of land after being granted, failure to pay taxes or land use fees, \\nland boundary issue and other issues having administrative nature according to \\nlaws. \\n \\nIf a land issue or conflict with administrative nature occurs within a locality \\nor a sector, the District Office of Natural Resources and Environment of that \\nlocality in collaboration with the sector managing the land use rights shall take the \\nlead in examining and addressing the issue by collecting detailed information and \\ncoordinating with relevant sectors and relevant local authorities and then submit \\nthe case to the district administrative authorities to make decision based on the \\nlaws. \\n \\nIn case one of the parties is not satisfied with the decision of the settlement \\nof the land-related dispute with administrative nature, the party has the right to \\nrequest the provincial administrative authorities to examine, inspect and settle the \\nissue or dispute according to laws, with the Provincial Department of Natural \\nResources and Environment playing the central role in coordinating with relevant \\nsectors and district administrative authorities. If one of the parties is still not \\nsatisfied with the decision made, the provincial administrative authorities shall \\nnotify the conflicting parties in writing to lodge the case to the People’s Court for \\nproceeding and making decision according to laws.', metadata={'file_path': 'C:/workspace/experiments/GenAI/Projects/Test Data/lao.pdf', 'creator': 'Microsoft® Word for Office 365', 'modDate': \"D:20200915121535+07'00'\", 'keywords': '', 'trapped': '', 'author': 'NUS', 'subject': '', 'file_name': 'lao.pdf', 'format': 'PDF 1.7', 'source': 'C:/workspace/experiments/GenAI/Projects/Test Data/lao.pdf', 'total_pages': 63, 'title': 'Copy dated 29/11/1996', 'creationDate': \"D:20200915121535+07'00'\", 'terms': ['na dated 21 june 2019 unofficial translation supported', 'giz land program 49 4', 'disclosing confidential information without authorization', 'provincial administrative authorities shall notify', 'land use rights shall take', 'land disputes article 161', 'issuing duplicate land titles', 'administrative nature occurs within', 'destroying land boundary markers', 'land without authorization', 'collecting detailed information', 'provincial administrative authorities', 'illegally issuing certification', 'land use rights', 'land use rights', 'district administrative authorities', 'district administrative authorities', 'water area land', 'protection forest land', 'production forest land', 'conservation forest land', 'relevant local authorities', 'land use fees', 'falsifying land documents', 'administrative nature according', 'make decision based', 'land boundary issue', 'making decision according', 'land related documents', 'part xii settlement', 'administrative nature', 'administrative nature', 'administrative nature', 'land documents', 'provincial department', 'destroying evidence', 'land law', 'cultural land', 'district office', 'dispute according', 'land issues', 'land issues', 'land issues', 'land issue', 'relevant sectors', 'relevant sectors', 'related dispute', 'decision made', 'issues related', 'performing duties', 'pay taxes', 'partiality towards', 'neglecting duties', 'natural resources', 'natural resources', 'legal entities', 'legal entities', 'legal entities', 'lao pdr', 'holding back', 'disputed lands', 'central role', 'areas prohibited', 'sector managing', 'people ’', 'environment playing', 'organizations namely', 'conflicting parties', 'case one', 'land', 'land', 'land', 'use', 'use', 'decision', 'issues', 'issue', 'issue', 'sector', 'people', 'one', 'environment', 'settlement', 'settlement', 'settlement', 'settlement', 'parties', 'parties', 'organizations', 'organizations', 'case', 'case', 'writing', 'violation', 'submit', 'still', 'state', 'signatures', 'settle', 'seals', 'satisfied', 'satisfied', 'right', 'request', 'relation', 'purpose', 'proceeding', 'party', 'moving', 'lodge', 'locality', 'locality', 'liwg', 'line', 'lead', 'laws', 'laws', 'laws', 'laws', 'laws', 'inspect', 'injustice', 'individuals', 'individuals', 'granted', 'failure', 'examining', 'examine', 'disinformation', 'delaying', 'court', 'coordinating', 'coordinating', 'consultant', 'consideration', 'conflict', 'collectives', 'collaboration', 'changes', 'behaviors', 'authorizing', 'amended', 'altering', 'agent', 'addressing', 'activities', 'acting', '9', '8', '70', '7', '6', '5', '12', '11', '10'], 'producer': 'Microsoft® Word for Office 365', 'page': 49}), Document(page_content='Land Law of Lao PDR No.70/NA dated 21 June 2019 \\nUnofficial translation supported by LIWG and GIZ Land Program\\n \\n \\n 35 \\n \\nIn case the concession area covers the national defense and security zones, \\nthe concession will be feasible only if an approval is obtained from the Central \\nNational Defense and Security Committee. \\n \\nArticle 119. (new) Lease or Concession of State Lands \\nThe lease or concession of State Land shall go through the bidding process \\nand take place within land area allocated by the State. The lessee or concessionaire \\nshall conduct an environmental impact assessment including the elaboration of \\nsocial and natural environment management and monitoring plans as prescribed in \\nthe laws and regulations. \\n \\nAfter the Government or provincial administrative authorities grant lease \\nor concession of State land to individuals, legal entities or domestic and foreign \\norganizations, the Department of Natural Resources and Environment of the \\nprovince where the land is located issues the State land title to the lessee or \\nconcessionaire within five working days in accordance with the lease or concession \\nterms. \\n \\nState land lease or concession is defined in a separate regulation. \\n \\nArticle 120. (amended) Terms of Lease or Concession of State Lands \\nThe terms of State land lease or concession operated by individuals, legal \\nentities or domestic and foreign organizations shall be based on the characteristics, \\nsize, and conditions of the intended operations. The period shall not exceed fifty \\nyears and may be extended upon the decision of the Government or the National \\nAssembly or Provincial People’s Assemblies based on the evaluation of the project \\nactivities or operations and the decision of the Government or provincial \\nadministrative authorities.  \\n \\nLease of State lands by embassies or international organizations is based \\non the mutual agreement between the Government of Lao PDR and the \\nGovernment of the concerned countries or the international organizations for a \\nperiod not exceed ninety-nine years and can be extended based upon the proposal \\nfrom the Ministry of Foreign Affairs in coordination with the Ministry of Natural \\nResources and Environment and relevant provincial administrative authorities. In \\naddition to lease of State land, the Government allows foreign embassies to use \\nlands in Lao PDR through exchange, transfer of lands based on the agreement \\nbetween the Government of Lao PDR and the Governments of the concerned \\ncountries. \\n \\nSection 2 \\nRight and Obligations of Lessee or Concessionaire \\n \\nArticle 121. (amended) Rights of Lessee or Concessionaire \\nThe lessee or concessionaire has the following rights: \\n1. to use land; to own the property including buildings, premises and other \\nstructures on the land the subject of the lease or concession; to transfer the', metadata={'file_path': 'C:/workspace/experiments/GenAI/Projects/Test Data/lao.pdf', 'creator': 'Microsoft® Word for Office 365', 'modDate': \"D:20200915121535+07'00'\", 'keywords': '', 'trapped': '', 'author': 'NUS', 'subject': '', 'file_name': 'lao.pdf', 'format': 'PDF 1.7', 'source': 'C:/workspace/experiments/GenAI/Projects/Test Data/lao.pdf', 'total_pages': 63, 'title': 'Copy dated 29/11/1996', 'creationDate': \"D:20200915121535+07'00'\", 'terms': ['na dated 21 june 2019 unofficial translation supported', 'take place within land area allocated', 'concessionaire within five working days', 'provincial administrative authorities grant lease', 'relevant provincial administrative authorities', 'environmental impact assessment including', 'giz land program 35', 'state land shall go', 'provincial administrative authorities', 'government allows foreign embassies', 'provincial people ’', 'property including buildings', 'section 2 right', 'concession area covers', 'concessionaire shall conduct', 'state land title', 'foreign organizations shall', 'exceed fifty years', 'concessionaire article 121', 'central national defense', 'natural environment management', 'state land lease', 'state land lease', 'extended based upon', 'state land', 'state land', 'foreign organizations', 'extended upon', 'national defense', 'use land', 'land law', 'foreign affairs', 'period shall', 'nine years', 'exceed ninety', 'state lands', 'state lands', 'state lands', 'natural resources', 'natural resources', 'national assembly', 'article 120', 'article 119', 'international organizations', 'international organizations', 'use lands', 'separate regulation', 'security zones', 'security committee', 'project activities', 'monitoring plans', 'located issues', 'legal entities', 'legal entities', 'lao pdr', 'lao pdr', 'lao pdr', 'lao pdr', 'concerned countries', 'concerned countries', 'bidding process', 'lands based', 'assemblies based', 'mutual agreement', 'intended operations', 'following rights', 'concession operated', 'land', 'land', 'concession terms', 'concessionaire', 'concessionaire', 'embassies', 'state', 'lease', 'lease', 'lease', 'lease', 'lease', 'lease', 'lease', 'based', 'based', 'environment', 'environment', 'rights', 'period', 'operations', 'agreement', 'government', 'government', 'government', 'government', 'government', 'government', 'concession', 'concession', 'concession', 'concession', 'concession', 'concession', 'concession', 'terms', 'terms', 'transfer', 'transfer', 'subject', 'structures', 'social', 'size', 'regulations', 'province', 'proposal', 'prescribed', 'premises', 'obtained', 'obligations', 'new', 'ministry', 'ministry', 'may', 'liwg', 'lessee', 'lessee', 'lessee', 'lessee', 'lessee', 'laws', 'individuals', 'individuals', 'governments', 'feasible', 'exchange', 'evaluation', 'elaboration', 'domestic', 'domestic', 'department', 'defined', 'decision', 'decision', 'coordination', 'conditions', 'characteristics', 'case', 'approval', 'amended', 'amended', 'addition', 'accordance', '70', '1'], 'producer': 'Microsoft® Word for Office 365', 'page': 35})]\n"
     ]
    }
   ],
   "source": [
    "import operator\n",
    "from langchain_community.vectorstores import OpenSearchVectorSearch\n",
    "from langchain.schema.document import Document\n",
    "\n",
    "client = OpenSearchVectorSearch(\n",
    "    embedding_function=embeddings,\n",
    "    index_name=index_name,\n",
    "    opensearch_url=opensearch_url,\n",
    "    http_auth=auth,\n",
    "    use_ssl = False,\n",
    "    verify_certs = False,\n",
    "    timeout=300,\n",
    "    ssl_assert_hostname = False,\n",
    "    ssl_show_warn = False,\n",
    ")\n",
    "knn_docs = client.similarity_search(\n",
    "    query,\n",
    "    search_type=\"painless_scripting\",\n",
    "    space_type=\"cosineSimilarity\",\n",
    "    k=k\n",
    ")\n",
    "\n",
    "neural_search_query = {\n",
    "    'size': k,\n",
    "    'query': {\n",
    "        \"neural\": {\n",
    "            \"bert_embeddings\": {\n",
    "                \"query_text\": query,\n",
    "                \"model_id\": \"vERhsZABary_bsUAiOG2\",\n",
    "                \"k\": k\n",
    "            }\n",
    "        }\n",
    "    }\n",
    "}\n",
    "\n",
    "neural_response = client.client.search(\n",
    "    body = neural_search_query,\n",
    "    index = index_name\n",
    ")\n",
    "neural_docs = []\n",
    "for item in neural_response['hits']['hits']:\n",
    "    neural_docs.append(Document(page_content=item['_source']['text'], metadata=item['_source']['metadata']))\n",
    "\n",
    "neural_sparse_search_query = {\n",
    "    'size': k,\n",
    "    'query': {\n",
    "        \"neural_sparse\": {\n",
    "            \"oss_sparse_embeddings\": {\n",
    "                \"query_text\": query,\n",
    "                \"model_id\": \"vURhsZABary_bsUAieFJ\"\n",
    "            }\n",
    "        }\n",
    "    }\n",
    "}\n",
    "neural_sparse_response = client.client.search(\n",
    "    body = neural_sparse_search_query,\n",
    "    index = index_name\n",
    ")\n",
    "neurals_parse_docs = []\n",
    "for item in neural_sparse_response['hits']['hits']:\n",
    "    neurals_parse_docs.append(Document(page_content=item['_source']['text'], metadata=item['_source']['metadata']))\n",
    "\n",
    "keyword_search_query = {\n",
    "    'size': k,\n",
    "    'query': {\n",
    "        \"match\": {\n",
    "            \"text\": {\n",
    "                \"query\": query,\n",
    "                \"analyzer\": \"english\"\n",
    "            }\n",
    "        }\n",
    "    }\n",
    "}\n",
    "keyword_response = client.client.search(\n",
    "    body = keyword_search_query,\n",
    "    index = index_name\n",
    ")\n",
    "keyword_docs = []\n",
    "for item in keyword_response['hits']['hits']:\n",
    "    keyword_docs.append(Document(page_content=item['_source']['text'], metadata=item['_source']['metadata']))\n",
    "\n",
    "all_docs = [*knn_docs, *neural_docs, *neurals_parse_docs, *keyword_docs]\n",
    "logger.info(f\"total docs count - {len(all_docs)}\")\n",
    "unique_docs = unique_by_page_content(all_docs)\n",
    "logger.info(f\"unique docs count - {len(unique_docs)}\")\n",
    "\n",
    "reranker_result = rerank(query, unique_docs)\n",
    "logger.info(f\"reranker result - {reranker_result}\")\n",
    "\n",
    "sorted_result = sorted(zip(unique_docs, reranker_result), key=operator.itemgetter(1), reverse=True)\n",
    "result = [t[0] for t in sorted_result][:k]\n",
    "logger.info(result)"
   ]
  }
 ],
 "metadata": {
  "kernelspec": {
   "display_name": "Python 3 (ipykernel)",
   "language": "python",
   "name": "python3"
  },
  "language_info": {
   "codemirror_mode": {
    "name": "ipython",
    "version": 3
   },
   "file_extension": ".py",
   "mimetype": "text/x-python",
   "name": "python",
   "nbconvert_exporter": "python",
   "pygments_lexer": "ipython3",
   "version": "3.12.0"
  }
 },
 "nbformat": 4,
 "nbformat_minor": 5
}

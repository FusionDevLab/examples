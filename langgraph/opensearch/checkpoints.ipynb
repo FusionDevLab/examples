{
 "cells": [
  {
   "cell_type": "markdown",
   "id": "765ee9dd-7115-4d2d-9356-26b01a81cb7a",
   "metadata": {
    "jp-MarkdownHeadingCollapsed": true
   },
   "source": [
    "# Installation & Setup for LangGraph with OpenSearch\n"
   ]
  },
  {
   "cell_type": "code",
   "execution_count": 1,
   "id": "4bc4a5e4-006b-4bf8-a8bd-0a102920ac28",
   "metadata": {},
   "outputs": [
    {
     "name": "stdout",
     "output_type": "stream",
     "text": [
      "Requirement already satisfied: langgraph-opensearch==0.1.5 in c:\\users\\samriddha.chatterjee\\appdata\\local\\programs\\python\\python312\\lib\\site-packages (0.1.5)\n",
      "Requirement already satisfied: langgraph-checkpoint<3.0.0,>=2.0.23 in c:\\users\\samriddha.chatterjee\\appdata\\local\\programs\\python\\python312\\lib\\site-packages (from langgraph-opensearch==0.1.5) (2.1.0)\n",
      "Requirement already satisfied: opensearch-py<4.0.0,>=3.0.0 in c:\\users\\samriddha.chatterjee\\appdata\\local\\programs\\python\\python312\\lib\\site-packages (from langgraph-opensearch==0.1.5) (3.0.0)\n",
      "Requirement already satisfied: langchain-core>=0.2.38 in c:\\users\\samriddha.chatterjee\\appdata\\local\\programs\\python\\python312\\lib\\site-packages (from langgraph-checkpoint<3.0.0,>=2.0.23->langgraph-opensearch==0.1.5) (0.3.65)\n",
      "Requirement already satisfied: ormsgpack>=1.10.0 in c:\\users\\samriddha.chatterjee\\appdata\\local\\programs\\python\\python312\\lib\\site-packages (from langgraph-checkpoint<3.0.0,>=2.0.23->langgraph-opensearch==0.1.5) (1.10.0)\n",
      "Requirement already satisfied: urllib3!=2.2.0,!=2.2.1,<3,>=1.26.19 in c:\\users\\samriddha.chatterjee\\appdata\\local\\programs\\python\\python312\\lib\\site-packages (from opensearch-py<4.0.0,>=3.0.0->langgraph-opensearch==0.1.5) (2.4.0)\n",
      "Requirement already satisfied: requests<3.0.0,>=2.32.0 in c:\\users\\samriddha.chatterjee\\appdata\\local\\programs\\python\\python312\\lib\\site-packages (from opensearch-py<4.0.0,>=3.0.0->langgraph-opensearch==0.1.5) (2.32.4)\n",
      "Requirement already satisfied: python-dateutil in c:\\users\\samriddha.chatterjee\\appdata\\roaming\\python\\python312\\site-packages (from opensearch-py<4.0.0,>=3.0.0->langgraph-opensearch==0.1.5) (2.9.0.post0)\n",
      "Requirement already satisfied: certifi>=2024.07.04 in c:\\users\\samriddha.chatterjee\\appdata\\local\\programs\\python\\python312\\lib\\site-packages (from opensearch-py<4.0.0,>=3.0.0->langgraph-opensearch==0.1.5) (2025.6.15)\n",
      "Requirement already satisfied: Events in c:\\users\\samriddha.chatterjee\\appdata\\local\\programs\\python\\python312\\lib\\site-packages (from opensearch-py<4.0.0,>=3.0.0->langgraph-opensearch==0.1.5) (0.5)\n",
      "Requirement already satisfied: langsmith<0.4,>=0.3.45 in c:\\users\\samriddha.chatterjee\\appdata\\local\\programs\\python\\python312\\lib\\site-packages (from langchain-core>=0.2.38->langgraph-checkpoint<3.0.0,>=2.0.23->langgraph-opensearch==0.1.5) (0.3.45)\n",
      "Requirement already satisfied: tenacity!=8.4.0,<10.0.0,>=8.1.0 in c:\\users\\samriddha.chatterjee\\appdata\\local\\programs\\python\\python312\\lib\\site-packages (from langchain-core>=0.2.38->langgraph-checkpoint<3.0.0,>=2.0.23->langgraph-opensearch==0.1.5) (9.1.2)\n",
      "Requirement already satisfied: jsonpatch<2.0,>=1.33 in c:\\users\\samriddha.chatterjee\\appdata\\local\\programs\\python\\python312\\lib\\site-packages (from langchain-core>=0.2.38->langgraph-checkpoint<3.0.0,>=2.0.23->langgraph-opensearch==0.1.5) (1.33)\n",
      "Requirement already satisfied: PyYAML>=5.3 in c:\\users\\samriddha.chatterjee\\appdata\\local\\programs\\python\\python312\\lib\\site-packages (from langchain-core>=0.2.38->langgraph-checkpoint<3.0.0,>=2.0.23->langgraph-opensearch==0.1.5) (6.0.2)\n",
      "Requirement already satisfied: packaging<25,>=23.2 in c:\\users\\samriddha.chatterjee\\appdata\\local\\programs\\python\\python312\\lib\\site-packages (from langchain-core>=0.2.38->langgraph-checkpoint<3.0.0,>=2.0.23->langgraph-opensearch==0.1.5) (24.2)\n",
      "Requirement already satisfied: typing-extensions>=4.7 in c:\\users\\samriddha.chatterjee\\appdata\\local\\programs\\python\\python312\\lib\\site-packages (from langchain-core>=0.2.38->langgraph-checkpoint<3.0.0,>=2.0.23->langgraph-opensearch==0.1.5) (4.14.0)\n",
      "Requirement already satisfied: pydantic>=2.7.4 in c:\\users\\samriddha.chatterjee\\appdata\\local\\programs\\python\\python312\\lib\\site-packages (from langchain-core>=0.2.38->langgraph-checkpoint<3.0.0,>=2.0.23->langgraph-opensearch==0.1.5) (2.11.7)\n",
      "Requirement already satisfied: charset_normalizer<4,>=2 in c:\\users\\samriddha.chatterjee\\appdata\\local\\programs\\python\\python312\\lib\\site-packages (from requests<3.0.0,>=2.32.0->opensearch-py<4.0.0,>=3.0.0->langgraph-opensearch==0.1.5) (3.4.2)\n",
      "Requirement already satisfied: idna<4,>=2.5 in c:\\users\\samriddha.chatterjee\\appdata\\local\\programs\\python\\python312\\lib\\site-packages (from requests<3.0.0,>=2.32.0->opensearch-py<4.0.0,>=3.0.0->langgraph-opensearch==0.1.5) (3.10)\n",
      "Requirement already satisfied: six>=1.5 in c:\\users\\samriddha.chatterjee\\appdata\\roaming\\python\\python312\\site-packages (from python-dateutil->opensearch-py<4.0.0,>=3.0.0->langgraph-opensearch==0.1.5) (1.17.0)\n",
      "Requirement already satisfied: jsonpointer>=1.9 in c:\\users\\samriddha.chatterjee\\appdata\\local\\programs\\python\\python312\\lib\\site-packages (from jsonpatch<2.0,>=1.33->langchain-core>=0.2.38->langgraph-checkpoint<3.0.0,>=2.0.23->langgraph-opensearch==0.1.5) (3.0.0)\n",
      "Requirement already satisfied: httpx<1,>=0.23.0 in c:\\users\\samriddha.chatterjee\\appdata\\local\\programs\\python\\python312\\lib\\site-packages (from langsmith<0.4,>=0.3.45->langchain-core>=0.2.38->langgraph-checkpoint<3.0.0,>=2.0.23->langgraph-opensearch==0.1.5) (0.28.1)\n",
      "Requirement already satisfied: orjson<4.0.0,>=3.9.14 in c:\\users\\samriddha.chatterjee\\appdata\\local\\programs\\python\\python312\\lib\\site-packages (from langsmith<0.4,>=0.3.45->langchain-core>=0.2.38->langgraph-checkpoint<3.0.0,>=2.0.23->langgraph-opensearch==0.1.5) (3.10.18)\n",
      "Requirement already satisfied: requests-toolbelt<2.0.0,>=1.0.0 in c:\\users\\samriddha.chatterjee\\appdata\\local\\programs\\python\\python312\\lib\\site-packages (from langsmith<0.4,>=0.3.45->langchain-core>=0.2.38->langgraph-checkpoint<3.0.0,>=2.0.23->langgraph-opensearch==0.1.5) (1.0.0)\n",
      "Requirement already satisfied: zstandard<0.24.0,>=0.23.0 in c:\\users\\samriddha.chatterjee\\appdata\\local\\programs\\python\\python312\\lib\\site-packages (from langsmith<0.4,>=0.3.45->langchain-core>=0.2.38->langgraph-checkpoint<3.0.0,>=2.0.23->langgraph-opensearch==0.1.5) (0.23.0)\n",
      "Requirement already satisfied: annotated-types>=0.6.0 in c:\\users\\samriddha.chatterjee\\appdata\\local\\programs\\python\\python312\\lib\\site-packages (from pydantic>=2.7.4->langchain-core>=0.2.38->langgraph-checkpoint<3.0.0,>=2.0.23->langgraph-opensearch==0.1.5) (0.7.0)\n",
      "Requirement already satisfied: pydantic-core==2.33.2 in c:\\users\\samriddha.chatterjee\\appdata\\local\\programs\\python\\python312\\lib\\site-packages (from pydantic>=2.7.4->langchain-core>=0.2.38->langgraph-checkpoint<3.0.0,>=2.0.23->langgraph-opensearch==0.1.5) (2.33.2)\n",
      "Requirement already satisfied: typing-inspection>=0.4.0 in c:\\users\\samriddha.chatterjee\\appdata\\local\\programs\\python\\python312\\lib\\site-packages (from pydantic>=2.7.4->langchain-core>=0.2.38->langgraph-checkpoint<3.0.0,>=2.0.23->langgraph-opensearch==0.1.5) (0.4.1)\n",
      "Requirement already satisfied: anyio in c:\\users\\samriddha.chatterjee\\appdata\\local\\programs\\python\\python312\\lib\\site-packages (from httpx<1,>=0.23.0->langsmith<0.4,>=0.3.45->langchain-core>=0.2.38->langgraph-checkpoint<3.0.0,>=2.0.23->langgraph-opensearch==0.1.5) (4.9.0)\n",
      "Requirement already satisfied: httpcore==1.* in c:\\users\\samriddha.chatterjee\\appdata\\local\\programs\\python\\python312\\lib\\site-packages (from httpx<1,>=0.23.0->langsmith<0.4,>=0.3.45->langchain-core>=0.2.38->langgraph-checkpoint<3.0.0,>=2.0.23->langgraph-opensearch==0.1.5) (1.0.9)\n",
      "Requirement already satisfied: h11>=0.16 in c:\\users\\samriddha.chatterjee\\appdata\\local\\programs\\python\\python312\\lib\\site-packages (from httpcore==1.*->httpx<1,>=0.23.0->langsmith<0.4,>=0.3.45->langchain-core>=0.2.38->langgraph-checkpoint<3.0.0,>=2.0.23->langgraph-opensearch==0.1.5) (0.16.0)\n",
      "Requirement already satisfied: sniffio>=1.1 in c:\\users\\samriddha.chatterjee\\appdata\\local\\programs\\python\\python312\\lib\\site-packages (from anyio->httpx<1,>=0.23.0->langsmith<0.4,>=0.3.45->langchain-core>=0.2.38->langgraph-checkpoint<3.0.0,>=2.0.23->langgraph-opensearch==0.1.5) (1.3.1)\n"
     ]
    },
    {
     "name": "stderr",
     "output_type": "stream",
     "text": [
      "\n",
      "[notice] A new release of pip is available: 23.2.1 -> 25.2\n",
      "[notice] To update, run: python.exe -m pip install --upgrade pip\n"
     ]
    }
   ],
   "source": [
    "## install langgraph-opensearch\n",
    "!pip install langgraph-opensearch==0.1.5"
   ]
  },
  {
   "cell_type": "code",
   "execution_count": 2,
   "id": "34a28dde-bfe7-410d-8325-8dd7d1db8085",
   "metadata": {},
   "outputs": [],
   "source": [
    "import os\n",
    "os.environ[\"OSS_HOST\"] = \"184.72.125.181\"\n",
    "os.environ[\"OSS_PORT\"] = \"9200\""
   ]
  },
  {
   "cell_type": "code",
   "execution_count": 3,
   "id": "876857b7-d8ec-4271-b853-008dc57ee2ad",
   "metadata": {},
   "outputs": [],
   "source": [
    "client_kwargs = {\n",
    "    \"hosts\": [{\"host\": os.getenv('OSS_HOST'), \"port\": int(os.getenv('OSS_PORT'))}],\n",
    "    \"use_ssl\": True,\n",
    "    \"http_auth\": (os.environ.get(\"OSS_USER\", \"admin\"), os.environ.get(\"OSS_PASS\", \"admin\")),\n",
    "    \"verify_certs\": False,\n",
    "    \"timeout\": 30,\n",
    "    \"max_retries\": 3,\n",
    "}"
   ]
  },
  {
   "cell_type": "code",
   "execution_count": 11,
   "id": "2779404e-f35e-46ea-84b5-fe112b591723",
   "metadata": {},
   "outputs": [],
   "source": [
    "import warnings\n",
    "from urllib3.exceptions import InsecureRequestWarning\n",
    "# Suppress the SSL warnings\n",
    "warnings.filterwarnings(\"ignore\", category=InsecureRequestWarning)\n",
    "\n",
    "# Optionally suppress opensearch-py connection warnings\n",
    "warnings.filterwarnings(\"ignore\", category=UserWarning)\n"
   ]
  },
  {
   "cell_type": "markdown",
   "id": "0a7ab015-af78-4d0d-a436-dc29402fde71",
   "metadata": {
    "jp-MarkdownHeadingCollapsed": true
   },
   "source": [
    "# Q&A with OpenSearch as Checkpoint Storage"
   ]
  },
  {
   "cell_type": "code",
   "execution_count": 12,
   "id": "35614aa4-af90-4b41-9109-8bc9e540db12",
   "metadata": {},
   "outputs": [],
   "source": [
    "from typing_extensions import TypedDict\n",
    "from opensearchpy import OpenSearch\n",
    "from langgraph.graph import StateGraph, START, END, MessagesState\n",
    "from langgraph.checkpoint.opensearch import OpenSearchSaver\n",
    "\n",
    "from langchain_openai import ChatOpenAI\n",
    "\n",
    "from langchain_core.messages import (\n",
    "    AIMessage,\n",
    "    HumanMessage,\n",
    "    SystemMessage,\n",
    ")"
   ]
  },
  {
   "cell_type": "code",
   "execution_count": 13,
   "id": "21a01f9d-4de2-431a-a286-d6962868040f",
   "metadata": {},
   "outputs": [],
   "source": [
    "llm = ChatOpenAI(\n",
    "    model=\"gpt-4o\",\n",
    "    temperature=0.0,\n",
    "    max_tokens=1000,\n",
    "    streaming=True,\n",
    ")"
   ]
  },
  {
   "cell_type": "code",
   "execution_count": 14,
   "id": "e92ce6d7-39ff-4693-8ee5-e17dccca585d",
   "metadata": {},
   "outputs": [],
   "source": [
    "def ask(state: MessagesState) -> MessagesState:\n",
    "    \"\"\"\n",
    "    Ask a question to the LLM and return the response.\n",
    "    \"\"\"\n",
    "    question = state['messages'][-1].content\n",
    "    response = llm.invoke(\n",
    "        [*state['messages']]\n",
    "    )\n",
    "    return { 'messages': [ AIMessage(content=response.content) ] }"
   ]
  },
  {
   "cell_type": "code",
   "execution_count": 15,
   "id": "6c4da497-36d4-42d5-a6ab-df6e02146f82",
   "metadata": {},
   "outputs": [
    {
     "data": {
      "text/plain": [
       "<langgraph.graph.state.StateGraph at 0x1f895d604a0>"
      ]
     },
     "execution_count": 15,
     "metadata": {},
     "output_type": "execute_result"
    }
   ],
   "source": [
    "graph = StateGraph(MessagesState)\n",
    "graph.add_node('ask', ask)\n",
    "graph.add_edge(START, 'ask')\n",
    "graph.add_edge('ask', END)"
   ]
  },
  {
   "cell_type": "code",
   "execution_count": 16,
   "id": "00fc15ae-80bf-452b-837e-ec9685850649",
   "metadata": {},
   "outputs": [],
   "source": [
    "# Initialize OpenSearchSaver with the graph\n",
    "client = OpenSearch(**client_kwargs)\n",
    "checkpointer = OpenSearchSaver(client=client)\n",
    "config = {\n",
    "    'configurable': {\n",
    "        'thread_id': '1'\n",
    "    }\n",
    "}\n",
    "graph = graph.compile(checkpointer=checkpointer)"
   ]
  },
  {
   "cell_type": "code",
   "execution_count": 17,
   "id": "36a2b86c-fa4d-4b2e-bfa2-c6f846cb43c3",
   "metadata": {},
   "outputs": [
    {
     "name": "stdout",
     "output_type": "stream",
     "text": [
      "The capital of France is Paris.\n"
     ]
    }
   ],
   "source": [
    "# Run the graph with an initial message\n",
    "response = graph.invoke(\n",
    "    {\n",
    "        \"messages\": [\n",
    "            HumanMessage(content=\"What is the capital of France?\")\n",
    "        ]\n",
    "    },\n",
    "    config\n",
    ")\n",
    "print(response['messages'][-1].content)"
   ]
  },
  {
   "cell_type": "code",
   "execution_count": 18,
   "id": "8125160a-c63f-45a2-ab83-8299831430d1",
   "metadata": {},
   "outputs": [
    {
     "name": "stdout",
     "output_type": "stream",
     "text": [
      "Paris, the capital of France, is renowned for its rich history, culture, and architecture. Some of its key attractions include:\n",
      "\n",
      "1. **Eiffel Tower**: An iconic symbol of Paris, offering stunning views of the city from its observation decks.\n",
      "\n",
      "2. **Louvre Museum**: The world's largest art museum, home to thousands of works, including the Mona Lisa and the Venus de Milo.\n",
      "\n",
      "3. **Notre-Dame Cathedral**: A masterpiece of French Gothic architecture, known for its stunning facade and beautiful stained glass windows.\n",
      "\n",
      "4. **Champs-Élysées and Arc de Triomphe**: A famous avenue leading to the monumental arch, which honors those who fought and died for France.\n",
      "\n",
      "5. **Sacré-Cœur Basilica**: Located at the highest point in the city, Montmartre, offering panoramic views of Paris.\n",
      "\n",
      "6. **Palace of Versailles**: A short trip from Paris, this opulent palace is known for its magnificent gardens and the Hall of Mirrors.\n",
      "\n",
      "7. **Seine River Cruises**: Offering a unique perspective of Paris's landmarks, including the Eiffel Tower and Notre-Dame.\n",
      "\n",
      "8. **Montmartre**: A historic district known for its bohemian past, charming streets, and the famous Moulin Rouge.\n",
      "\n",
      "9. **Musée d'Orsay**: Housed in a former railway station, this museum features an extensive collection of Impressionist and Post-Impressionist masterpieces.\n",
      "\n",
      "10. **Latin Quarter**: Known for its vibrant atmosphere, historic universities, and the Panthéon.\n",
      "\n",
      "These attractions, among many others, make Paris a captivating destination for visitors from around the world.\n"
     ]
    }
   ],
   "source": [
    "response = graph.invoke(\n",
    "    {\n",
    "        \"messages\": [\n",
    "            HumanMessage(content=\"What are its key attractions?\")\n",
    "        ]\n",
    "    },\n",
    "    config\n",
    ")\n",
    "print(response['messages'][-1].content)"
   ]
  },
  {
   "cell_type": "markdown",
   "id": "1f6b24e1-b851-4951-9c8e-ad5337e4f618",
   "metadata": {
    "jp-MarkdownHeadingCollapsed": true
   },
   "source": [
    "# Search Checkpoints"
   ]
  },
  {
   "cell_type": "code",
   "execution_count": 25,
   "id": "f347234d-930d-4b17-aafa-cfb36a1f6f67",
   "metadata": {},
   "outputs": [],
   "source": [
    "items = list(checkpointer.list(config))"
   ]
  },
  {
   "cell_type": "code",
   "execution_count": 26,
   "id": "73678e5c-3f91-4ba1-8aea-fe354085b305",
   "metadata": {},
   "outputs": [
    {
     "data": {
      "text/plain": [
       "[CheckpointTuple(config={'configurable': {'thread_id': '1', 'checkpoint_ns': '', 'checkpoint_id': '1f075106-201e-600b-8007-f0f046808d10'}}, checkpoint={'v': 4, 'ts': '2025-08-09T11:02:47.270196+00:00', 'id': '1f075106-201e-600b-8007-f0f046808d10', 'channel_values': {'messages': [HumanMessage(content='What is the capital of France?', additional_kwargs={}, response_metadata={}, id='1397faeb-9dbd-4ca8-9e31-f480313771cc'), AIMessage(content='The capital of France is Paris.', additional_kwargs={}, response_metadata={}, id='428e8ef8-58a2-4e5f-a3ad-075ae900c5ff'), HumanMessage(content='What is the capital of France?', additional_kwargs={}, response_metadata={}, id='323c1c87-e115-49bb-b713-4d0989b18c60'), AIMessage(content='The capital of France is Paris.', additional_kwargs={}, response_metadata={}, id='e74cce70-d032-430e-bff0-b252d410498f'), HumanMessage(content='What are its key attractions?', additional_kwargs={}, response_metadata={}, id='68cd1919-a2f3-4f7c-9a38-d7a6f9d92d42'), AIMessage(content=\"Paris, the capital of France, is renowned for its rich history, culture, and architecture. Some of its key attractions include:\\n\\n1. **Eiffel Tower**: An iconic symbol of Paris, offering stunning views of the city from its observation decks.\\n\\n2. **Louvre Museum**: The world's largest art museum, home to thousands of works, including the Mona Lisa and the Venus de Milo.\\n\\n3. **Notre-Dame Cathedral**: A masterpiece of French Gothic architecture, known for its stunning facade and beautiful stained glass windows.\\n\\n4. **Champs-Élysées and Arc de Triomphe**: A famous avenue leading to the monumental arch, which honors those who fought and died for France.\\n\\n5. **Sacré-Cœur Basilica**: Located at the highest point in the city, Montmartre, offering panoramic views of Paris.\\n\\n6. **Palace of Versailles**: A short trip from Paris, this opulent palace is known for its magnificent gardens and the Hall of Mirrors.\\n\\n7. **Seine River Cruises**: Offering a unique perspective of Paris's landmarks, including the Eiffel Tower and Notre-Dame.\\n\\n8. **Montmartre**: A historic district known for its bohemian past, charming streets, and the famous Moulin Rouge.\\n\\n9. **Musée d'Orsay**: Housed in a former railway station, this museum features an extensive collection of Impressionist and Post-Impressionist masterpieces.\\n\\n10. **Latin Quarter**: Known for its vibrant atmosphere, historic universities, and the Panthéon.\\n\\nThese attractions, among many others, make Paris a captivating destination for visitors from around the world.\", additional_kwargs={}, response_metadata={}, id='eb52c4c8-748f-45ea-aec2-102e44371359')]}, 'channel_versions': {'__start__': 8, 'messages': 9, 'branch:to:ask': 9}, 'versions_seen': {'__input__': {}, '__start__': {'__start__': 7}, 'ask': {'branch:to:ask': 8}}}, metadata={'source': 'loop', 'step': 7, 'parents': {}}, parent_config={'configurable': {'thread_id': '1', 'checkpoint_ns': '', 'checkpoint_id': '1f075105-f9e2-60c4-8006-7788195bc530'}}, pending_writes=[]),\n",
       " CheckpointTuple(config={'configurable': {'thread_id': '1', 'checkpoint_ns': '', 'checkpoint_id': '1f075105-f9e2-60c4-8006-7788195bc530'}}, checkpoint={'v': 4, 'ts': '2025-08-09T11:02:43.261050+00:00', 'id': '1f075105-f9e2-60c4-8006-7788195bc530', 'channel_values': {'messages': [HumanMessage(content='What is the capital of France?', additional_kwargs={}, response_metadata={}, id='1397faeb-9dbd-4ca8-9e31-f480313771cc'), AIMessage(content='The capital of France is Paris.', additional_kwargs={}, response_metadata={}, id='428e8ef8-58a2-4e5f-a3ad-075ae900c5ff'), HumanMessage(content='What is the capital of France?', additional_kwargs={}, response_metadata={}, id='323c1c87-e115-49bb-b713-4d0989b18c60'), AIMessage(content='The capital of France is Paris.', additional_kwargs={}, response_metadata={}, id='e74cce70-d032-430e-bff0-b252d410498f'), HumanMessage(content='What are its key attractions?', additional_kwargs={}, response_metadata={}, id='68cd1919-a2f3-4f7c-9a38-d7a6f9d92d42')], 'branch:to:ask': None}, 'channel_versions': {'__start__': 8, 'messages': 8, 'branch:to:ask': 8}, 'versions_seen': {'__input__': {}, '__start__': {'__start__': 7}, 'ask': {'branch:to:ask': 5}}}, metadata={'source': 'loop', 'step': 6, 'parents': {}}, parent_config={'configurable': {'thread_id': '1', 'checkpoint_ns': '', 'checkpoint_id': '1f075105-f9d3-6670-8005-8d5a9df39904'}}, pending_writes=[('106c1824-7785-95e2-39da-25799068d5c0', 'messages', [AIMessage(content=\"Paris, the capital of France, is renowned for its rich history, culture, and architecture. Some of its key attractions include:\\n\\n1. **Eiffel Tower**: An iconic symbol of Paris, offering stunning views of the city from its observation decks.\\n\\n2. **Louvre Museum**: The world's largest art museum, home to thousands of works, including the Mona Lisa and the Venus de Milo.\\n\\n3. **Notre-Dame Cathedral**: A masterpiece of French Gothic architecture, known for its stunning facade and beautiful stained glass windows.\\n\\n4. **Champs-Élysées and Arc de Triomphe**: A famous avenue leading to the monumental arch, which honors those who fought and died for France.\\n\\n5. **Sacré-Cœur Basilica**: Located at the highest point in the city, Montmartre, offering panoramic views of Paris.\\n\\n6. **Palace of Versailles**: A short trip from Paris, this opulent palace is known for its magnificent gardens and the Hall of Mirrors.\\n\\n7. **Seine River Cruises**: Offering a unique perspective of Paris's landmarks, including the Eiffel Tower and Notre-Dame.\\n\\n8. **Montmartre**: A historic district known for its bohemian past, charming streets, and the famous Moulin Rouge.\\n\\n9. **Musée d'Orsay**: Housed in a former railway station, this museum features an extensive collection of Impressionist and Post-Impressionist masterpieces.\\n\\n10. **Latin Quarter**: Known for its vibrant atmosphere, historic universities, and the Panthéon.\\n\\nThese attractions, among many others, make Paris a captivating destination for visitors from around the world.\", additional_kwargs={}, response_metadata={}, id='eb52c4c8-748f-45ea-aec2-102e44371359')])]),\n",
       " CheckpointTuple(config={'configurable': {'thread_id': '1', 'checkpoint_ns': '', 'checkpoint_id': '1f075105-f9d3-6670-8005-8d5a9df39904'}}, checkpoint={'v': 4, 'ts': '2025-08-09T11:02:43.255051+00:00', 'id': '1f075105-f9d3-6670-8005-8d5a9df39904', 'channel_values': {'messages': [HumanMessage(content='What is the capital of France?', additional_kwargs={}, response_metadata={}, id='1397faeb-9dbd-4ca8-9e31-f480313771cc'), AIMessage(content='The capital of France is Paris.', additional_kwargs={}, response_metadata={}, id='428e8ef8-58a2-4e5f-a3ad-075ae900c5ff'), HumanMessage(content='What is the capital of France?', additional_kwargs={}, response_metadata={}, id='323c1c87-e115-49bb-b713-4d0989b18c60'), AIMessage(content='The capital of France is Paris.', additional_kwargs={}, response_metadata={}, id='e74cce70-d032-430e-bff0-b252d410498f')], '__start__': {'messages': [HumanMessage(content='What are its key attractions?', additional_kwargs={}, response_metadata={}, id='68cd1919-a2f3-4f7c-9a38-d7a6f9d92d42')]}}, 'channel_versions': {'__start__': 7, 'messages': 6, 'branch:to:ask': 6}, 'versions_seen': {'__input__': {}, '__start__': {'__start__': 4}, 'ask': {'branch:to:ask': 5}}}, metadata={'source': 'input', 'step': 5, 'parents': {}}, parent_config={'configurable': {'thread_id': '1', 'checkpoint_ns': '', 'checkpoint_id': '1f075105-db45-60fa-8004-ee295c5fa895'}}, pending_writes=[('9638f363-828a-9918-b3ce-e55a7c8786fb', 'branch:to:ask', None)]),\n",
       " CheckpointTuple(config={'configurable': {'thread_id': '1', 'checkpoint_ns': '', 'checkpoint_id': '1f075105-db45-60fa-8004-ee295c5fa895'}}, checkpoint={'v': 4, 'ts': '2025-08-09T11:02:40.051020+00:00', 'id': '1f075105-db45-60fa-8004-ee295c5fa895', 'channel_values': {'messages': [HumanMessage(content='What is the capital of France?', additional_kwargs={}, response_metadata={}, id='1397faeb-9dbd-4ca8-9e31-f480313771cc'), AIMessage(content='The capital of France is Paris.', additional_kwargs={}, response_metadata={}, id='428e8ef8-58a2-4e5f-a3ad-075ae900c5ff'), HumanMessage(content='What is the capital of France?', additional_kwargs={}, response_metadata={}, id='323c1c87-e115-49bb-b713-4d0989b18c60'), AIMessage(content='The capital of France is Paris.', additional_kwargs={}, response_metadata={}, id='e74cce70-d032-430e-bff0-b252d410498f')]}, 'channel_versions': {'__start__': 5, 'messages': 6, 'branch:to:ask': 6}, 'versions_seen': {'__input__': {}, '__start__': {'__start__': 4}, 'ask': {'branch:to:ask': 5}}}, metadata={'source': 'loop', 'step': 4, 'parents': {}}, parent_config={'configurable': {'thread_id': '1', 'checkpoint_ns': '', 'checkpoint_id': '1f075105-d0e1-6af2-8003-f706a2a2b2ea'}}, pending_writes=[]),\n",
       " CheckpointTuple(config={'configurable': {'thread_id': '1', 'checkpoint_ns': '', 'checkpoint_id': '1f075105-d0e1-6af2-8003-f706a2a2b2ea'}}, checkpoint={'v': 4, 'ts': '2025-08-09T11:02:38.961739+00:00', 'id': '1f075105-d0e1-6af2-8003-f706a2a2b2ea', 'channel_values': {'messages': [HumanMessage(content='What is the capital of France?', additional_kwargs={}, response_metadata={}, id='1397faeb-9dbd-4ca8-9e31-f480313771cc'), AIMessage(content='The capital of France is Paris.', additional_kwargs={}, response_metadata={}, id='428e8ef8-58a2-4e5f-a3ad-075ae900c5ff'), HumanMessage(content='What is the capital of France?', additional_kwargs={}, response_metadata={}, id='323c1c87-e115-49bb-b713-4d0989b18c60')], 'branch:to:ask': None}, 'channel_versions': {'__start__': 5, 'messages': 5, 'branch:to:ask': 5}, 'versions_seen': {'__input__': {}, '__start__': {'__start__': 4}, 'ask': {'branch:to:ask': 2}}}, metadata={'source': 'loop', 'step': 3, 'parents': {}}, parent_config={'configurable': {'thread_id': '1', 'checkpoint_ns': '', 'checkpoint_id': '1f075105-d078-6b4a-8002-14d52e843ed1'}}, pending_writes=[('2726d28e-fcc2-5291-5256-2d04553c169d', 'messages', [AIMessage(content='The capital of France is Paris.', additional_kwargs={}, response_metadata={}, id='e74cce70-d032-430e-bff0-b252d410498f')])]),\n",
       " CheckpointTuple(config={'configurable': {'thread_id': '1', 'checkpoint_ns': '', 'checkpoint_id': '1f075105-d078-6b4a-8002-14d52e843ed1'}}, checkpoint={'v': 4, 'ts': '2025-08-09T11:02:38.918740+00:00', 'id': '1f075105-d078-6b4a-8002-14d52e843ed1', 'channel_values': {'messages': [HumanMessage(content='What is the capital of France?', additional_kwargs={}, response_metadata={}, id='1397faeb-9dbd-4ca8-9e31-f480313771cc'), AIMessage(content='The capital of France is Paris.', additional_kwargs={}, response_metadata={}, id='428e8ef8-58a2-4e5f-a3ad-075ae900c5ff')], '__start__': {'messages': [HumanMessage(content='What is the capital of France?', additional_kwargs={}, response_metadata={}, id='323c1c87-e115-49bb-b713-4d0989b18c60')]}}, 'channel_versions': {'__start__': 4, 'messages': 3, 'branch:to:ask': 3}, 'versions_seen': {'__input__': {}, '__start__': {'__start__': 1}, 'ask': {'branch:to:ask': 2}}}, metadata={'source': 'input', 'step': 2, 'parents': {}}, parent_config={'configurable': {'thread_id': '1', 'checkpoint_ns': '', 'checkpoint_id': '1f0750f8-ba2f-680d-8001-992380b36d7d'}}, pending_writes=[('5c0d5801-a3e2-a4fe-4a8d-8f613f5ff29e', 'branch:to:ask', None)]),\n",
       " CheckpointTuple(config={'configurable': {'thread_id': '1', 'checkpoint_ns': '', 'checkpoint_id': '1f0750f8-ba2f-680d-8001-992380b36d7d'}}, checkpoint={'v': 4, 'ts': '2025-08-09T10:56:47.615796+00:00', 'id': '1f0750f8-ba2f-680d-8001-992380b36d7d', 'channel_values': {'messages': [HumanMessage(content='What is the capital of France?', additional_kwargs={}, response_metadata={}, id='1397faeb-9dbd-4ca8-9e31-f480313771cc'), AIMessage(content='The capital of France is Paris.', additional_kwargs={}, response_metadata={}, id='428e8ef8-58a2-4e5f-a3ad-075ae900c5ff')]}, 'channel_versions': {'__start__': 2, 'messages': 3, 'branch:to:ask': 3}, 'versions_seen': {'__input__': {}, '__start__': {'__start__': 1}, 'ask': {'branch:to:ask': 2}}}, metadata={'source': 'loop', 'step': 1, 'parents': {}}, parent_config={'configurable': {'thread_id': '1', 'checkpoint_ns': '', 'checkpoint_id': '1f0750f8-b42e-6181-8000-ba5270a209c6'}}, pending_writes=[]),\n",
       " CheckpointTuple(config={'configurable': {'thread_id': '1', 'checkpoint_ns': '', 'checkpoint_id': '1f0750f8-b42e-6181-8000-ba5270a209c6'}}, checkpoint={'v': 4, 'ts': '2025-08-09T10:56:46.986073+00:00', 'id': '1f0750f8-b42e-6181-8000-ba5270a209c6', 'channel_values': {'messages': [HumanMessage(content='What is the capital of France?', additional_kwargs={}, response_metadata={}, id='1397faeb-9dbd-4ca8-9e31-f480313771cc')], 'branch:to:ask': None}, 'channel_versions': {'__start__': 2, 'messages': 2, 'branch:to:ask': 2}, 'versions_seen': {'__input__': {}, '__start__': {'__start__': 1}}}, metadata={'source': 'loop', 'step': 0, 'parents': {}}, parent_config={'configurable': {'thread_id': '1', 'checkpoint_ns': '', 'checkpoint_id': '1f0750f8-b304-6027-bfff-62c331fd8dd3'}}, pending_writes=[('5e679c6e-9cad-8f1b-6763-9e23090c1022', 'messages', [AIMessage(content='The capital of France is Paris.', additional_kwargs={}, response_metadata={}, id='428e8ef8-58a2-4e5f-a3ad-075ae900c5ff')])]),\n",
       " CheckpointTuple(config={'configurable': {'thread_id': '1', 'checkpoint_ns': '', 'checkpoint_id': '1f0750f8-b304-6027-bfff-62c331fd8dd3'}}, checkpoint={'v': 4, 'ts': '2025-08-09T10:56:46.863978+00:00', 'id': '1f0750f8-b304-6027-bfff-62c331fd8dd3', 'channel_values': {'__start__': {'messages': [HumanMessage(content='What is the capital of France?', additional_kwargs={}, response_metadata={})]}}, 'channel_versions': {'__start__': 1}, 'versions_seen': {'__input__': {}}}, metadata={'source': 'input', 'step': -1, 'parents': {}}, parent_config=None, pending_writes=[('6bf63988-a110-69a5-d907-8e3d64c1a366', 'branch:to:ask', None)])]"
      ]
     },
     "execution_count": 26,
     "metadata": {},
     "output_type": "execute_result"
    }
   ],
   "source": [
    "items"
   ]
  },
  {
   "cell_type": "markdown",
   "id": "e0d799e9-1cb0-41c7-be31-02fe91f20789",
   "metadata": {
    "jp-MarkdownHeadingCollapsed": true
   },
   "source": [
    "# Replay from a Checkpoint"
   ]
  },
  {
   "cell_type": "code",
   "execution_count": 27,
   "id": "6ef79a12-02e8-4228-9fed-53b2e4faa228",
   "metadata": {},
   "outputs": [],
   "source": [
    "to_replay = items[0].config"
   ]
  },
  {
   "cell_type": "code",
   "execution_count": 31,
   "id": "45a75047-a23b-40ba-a71e-7ecfaad20bb6",
   "metadata": {},
   "outputs": [
    {
     "name": "stdout",
     "output_type": "stream",
     "text": [
      "Messages:[HumanMessage(content='What is the capital of France?', additional_kwargs={}, response_metadata={}, id='1397faeb-9dbd-4ca8-9e31-f480313771cc'), AIMessage(content='The capital of France is Paris.', additional_kwargs={}, response_metadata={}, id='428e8ef8-58a2-4e5f-a3ad-075ae900c5ff'), HumanMessage(content='What is the capital of France?', additional_kwargs={}, response_metadata={}, id='323c1c87-e115-49bb-b713-4d0989b18c60'), AIMessage(content='The capital of France is Paris.', additional_kwargs={}, response_metadata={}, id='e74cce70-d032-430e-bff0-b252d410498f'), HumanMessage(content='What are its key attractions?', additional_kwargs={}, response_metadata={}, id='68cd1919-a2f3-4f7c-9a38-d7a6f9d92d42'), AIMessage(content=\"Paris, the capital of France, is renowned for its rich history, culture, and architecture. Some of its key attractions include:\\n\\n1. **Eiffel Tower**: An iconic symbol of Paris, offering stunning views of the city from its observation decks.\\n\\n2. **Louvre Museum**: The world's largest art museum, home to thousands of works, including the Mona Lisa and the Venus de Milo.\\n\\n3. **Notre-Dame Cathedral**: A masterpiece of French Gothic architecture, known for its stunning facade and beautiful stained glass windows.\\n\\n4. **Champs-Élysées and Arc de Triomphe**: A famous avenue leading to the monumental arch, which honors those who fought and died for France.\\n\\n5. **Sacré-Cœur Basilica**: Located at the highest point in the city, Montmartre, offering panoramic views of Paris.\\n\\n6. **Palace of Versailles**: A short trip from Paris, this opulent palace is known for its magnificent gardens and the Hall of Mirrors.\\n\\n7. **Seine River Cruises**: Offering a unique perspective of Paris's landmarks, including the Eiffel Tower and Notre-Dame.\\n\\n8. **Montmartre**: A historic district known for its bohemian past, charming streets, and the famous Moulin Rouge.\\n\\n9. **Musée d'Orsay**: Housed in a former railway station, this museum features an extensive collection of Impressionist and Post-Impressionist masterpieces.\\n\\n10. **Latin Quarter**: Known for its vibrant atmosphere, historic universities, and the Panthéon.\\n\\nThese attractions, among many others, make Paris a captivating destination for visitors from around the world.\", additional_kwargs={}, response_metadata={}, id='eb52c4c8-748f-45ea-aec2-102e44371359')]\n"
     ]
    }
   ],
   "source": [
    "for event in graph.stream(None, to_replay, stream_mode=\"values\"):\n",
    "    if \"messages\" in event:\n",
    "        print(f\"Messages:{event['messages']}\")"
   ]
  },
  {
   "cell_type": "code",
   "execution_count": null,
   "id": "f2d10dbd-9988-43f0-9a5f-5541c507d73b",
   "metadata": {},
   "outputs": [],
   "source": []
  }
 ],
 "metadata": {
  "kernelspec": {
   "display_name": "Python 3 (ipykernel)",
   "language": "python",
   "name": "python3"
  },
  "language_info": {
   "codemirror_mode": {
    "name": "ipython",
    "version": 3
   },
   "file_extension": ".py",
   "mimetype": "text/x-python",
   "name": "python",
   "nbconvert_exporter": "python",
   "pygments_lexer": "ipython3",
   "version": "3.12.0"
  }
 },
 "nbformat": 4,
 "nbformat_minor": 5
}
